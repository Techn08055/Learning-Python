{
  "nbformat": 4,
  "nbformat_minor": 0,
  "metadata": {
    "colab": {
      "name": "Pandas.ipynb",
      "provenance": []
    },
    "kernelspec": {
      "name": "python3",
      "display_name": "Python 3"
    }
  },
  "cells": [
    {
      "cell_type": "markdown",
      "metadata": {
        "id": "Ks-V7rppEk7_"
      },
      "source": [
        "# Table of Content\n",
        "<ul>\n",
        "    <li> <a href=\"#object\"> Object Creation </a> </li>\n",
        "    <li> <a href=\"#csv\">Reading CSV file </a> </li>\n",
        "    <li> <a href=\"#viewing\"> Viewing data </a> </li>\n",
        "    <li> <a href=\"#transposing\"> Transposing Your Data</a> </li> \n",
        "    <li> <a href=\"#selection\"> Selection</a> </li> \n",
        "    <li> <a href=\"#normalization\"> Normalization of Data</a> </li> \n",
        "    <li> <a href=\"#grouping\"> Grouping</a> </li> \n",
        "    <li> <a href=\"#concatenation\"> Concatenation</a> </li> \n",
        "    <li> <a href=\"#merging\"> Merging</a> </li> \n",
        "    <li> <a href=\"#Join\"> Join</a> </li> \n",
        "</ul>"
      ]
    },
    {
      "cell_type": "markdown",
      "metadata": {
        "id": "PZjGnKhfqF-1"
      },
      "source": [
        "#Pandas Tutorial"
      ]
    },
    {
      "cell_type": "markdown",
      "metadata": {
        "id": "hVHbTD9lqPTI"
      },
      "source": [
        "Pandas is a high-level data manipulation tool developed by Wes McKinney. It is built on the Numpy package and its key data structure is called the DataFrame. DataFrames allow you to store and manipulate tabular data in rows of observations and columns of variables"
      ]
    },
    {
      "cell_type": "code",
      "metadata": {
        "id": "VPHL6MPTqOxu"
      },
      "source": [
        "#import the pandas library\n",
        "import pandas as pd\n",
        "\n",
        "import numpy as np"
      ],
      "execution_count": 1,
      "outputs": []
    },
    {
      "cell_type": "markdown",
      "metadata": {
        "id": "a9__Fg71qe3C"
      },
      "source": [
        "<a id='object'></a>\n",
        "## Object creation"
      ]
    },
    {
      "cell_type": "markdown",
      "metadata": {
        "id": "ZOdYE5axqjkw"
      },
      "source": [
        "*Create an Empty Pandas Series:*"
      ]
    },
    {
      "cell_type": "code",
      "metadata": {
        "colab": {
          "base_uri": "https://localhost:8080/"
        },
        "id": "EZYrMCZfqg9Q",
        "outputId": "d1dad5e2-8939-4e92-8f98-3e717f649d5d"
      },
      "source": [
        "x = pd.Series()  \n",
        "print (x)  "
      ],
      "execution_count": null,
      "outputs": [
        {
          "output_type": "stream",
          "text": [
            "Series([], dtype: float64)\n"
          ],
          "name": "stdout"
        },
        {
          "output_type": "stream",
          "text": [
            "/usr/local/lib/python3.6/dist-packages/ipykernel_launcher.py:1: DeprecationWarning: The default dtype for empty Series will be 'object' instead of 'float64' in a future version. Specify a dtype explicitly to silence this warning.\n",
            "  \"\"\"Entry point for launching an IPython kernel.\n"
          ],
          "name": "stderr"
        }
      ]
    },
    {
      "cell_type": "markdown",
      "metadata": {
        "id": "TMyD4FCGqtYx"
      },
      "source": [
        "*Creating a Series by passing a list of values, letting pandas create a default integer index:*"
      ]
    },
    {
      "cell_type": "code",
      "metadata": {
        "colab": {
          "base_uri": "https://localhost:8080/"
        },
        "id": "1I883niJqxwo",
        "outputId": "4620bb9c-4898-4be6-f191-8658f7eaa5ed"
      },
      "source": [
        "s = pd.Series([1, 3, 5, np.nan, 6, 8])\n",
        "s"
      ],
      "execution_count": null,
      "outputs": [
        {
          "output_type": "execute_result",
          "data": {
            "text/plain": [
              "0    1.0\n",
              "1    3.0\n",
              "2    5.0\n",
              "3    NaN\n",
              "4    6.0\n",
              "5    8.0\n",
              "dtype: float64"
            ]
          },
          "metadata": {
            "tags": []
          },
          "execution_count": 59
        }
      ]
    },
    {
      "cell_type": "code",
      "metadata": {
        "colab": {
          "base_uri": "https://localhost:8080/",
          "height": 235
        },
        "id": "Xv3tqzzrmlJ2",
        "outputId": "a4bb623b-d960-4188-d9a7-ee473dbb6b2b"
      },
      "source": [
        "pd.get_dummies(s) #converts categorical data to dummy"
      ],
      "execution_count": null,
      "outputs": [
        {
          "output_type": "execute_result",
          "data": {
            "text/html": [
              "<div>\n",
              "<style scoped>\n",
              "    .dataframe tbody tr th:only-of-type {\n",
              "        vertical-align: middle;\n",
              "    }\n",
              "\n",
              "    .dataframe tbody tr th {\n",
              "        vertical-align: top;\n",
              "    }\n",
              "\n",
              "    .dataframe thead th {\n",
              "        text-align: right;\n",
              "    }\n",
              "</style>\n",
              "<table border=\"1\" class=\"dataframe\">\n",
              "  <thead>\n",
              "    <tr style=\"text-align: right;\">\n",
              "      <th></th>\n",
              "      <th>1.0</th>\n",
              "      <th>3.0</th>\n",
              "      <th>5.0</th>\n",
              "      <th>6.0</th>\n",
              "      <th>8.0</th>\n",
              "    </tr>\n",
              "  </thead>\n",
              "  <tbody>\n",
              "    <tr>\n",
              "      <th>0</th>\n",
              "      <td>1</td>\n",
              "      <td>0</td>\n",
              "      <td>0</td>\n",
              "      <td>0</td>\n",
              "      <td>0</td>\n",
              "    </tr>\n",
              "    <tr>\n",
              "      <th>1</th>\n",
              "      <td>0</td>\n",
              "      <td>1</td>\n",
              "      <td>0</td>\n",
              "      <td>0</td>\n",
              "      <td>0</td>\n",
              "    </tr>\n",
              "    <tr>\n",
              "      <th>2</th>\n",
              "      <td>0</td>\n",
              "      <td>0</td>\n",
              "      <td>1</td>\n",
              "      <td>0</td>\n",
              "      <td>0</td>\n",
              "    </tr>\n",
              "    <tr>\n",
              "      <th>3</th>\n",
              "      <td>0</td>\n",
              "      <td>0</td>\n",
              "      <td>0</td>\n",
              "      <td>0</td>\n",
              "      <td>0</td>\n",
              "    </tr>\n",
              "    <tr>\n",
              "      <th>4</th>\n",
              "      <td>0</td>\n",
              "      <td>0</td>\n",
              "      <td>0</td>\n",
              "      <td>1</td>\n",
              "      <td>0</td>\n",
              "    </tr>\n",
              "    <tr>\n",
              "      <th>5</th>\n",
              "      <td>0</td>\n",
              "      <td>0</td>\n",
              "      <td>0</td>\n",
              "      <td>0</td>\n",
              "      <td>1</td>\n",
              "    </tr>\n",
              "  </tbody>\n",
              "</table>\n",
              "</div>"
            ],
            "text/plain": [
              "   1.0  3.0  5.0  6.0  8.0\n",
              "0    1    0    0    0    0\n",
              "1    0    1    0    0    0\n",
              "2    0    0    1    0    0\n",
              "3    0    0    0    0    0\n",
              "4    0    0    0    1    0\n",
              "5    0    0    0    0    1"
            ]
          },
          "metadata": {
            "tags": []
          },
          "execution_count": 60
        }
      ]
    },
    {
      "cell_type": "markdown",
      "metadata": {
        "id": "p3_GCStLq4Er"
      },
      "source": [
        "NaN is used to represent missing data"
      ]
    },
    {
      "cell_type": "markdown",
      "metadata": {
        "id": "KbhGg0o8q8ZA"
      },
      "source": [
        "*Creating Series from Array:*"
      ]
    },
    {
      "cell_type": "code",
      "metadata": {
        "colab": {
          "base_uri": "https://localhost:8080/"
        },
        "id": "c79OTRpsq1-T",
        "outputId": "e98de466-bcf5-41ce-a190-bca58ca2d486"
      },
      "source": [
        "info = np.array(['P','a','n','d','a','s'])  \n",
        "a = pd.Series(info)  \n",
        "print(a) "
      ],
      "execution_count": null,
      "outputs": [
        {
          "output_type": "stream",
          "text": [
            "0    P\n",
            "1    a\n",
            "2    n\n",
            "3    d\n",
            "4    a\n",
            "5    s\n",
            "dtype: object\n"
          ],
          "name": "stdout"
        }
      ]
    },
    {
      "cell_type": "markdown",
      "metadata": {
        "id": "gAyJ-o8hrFh-"
      },
      "source": [
        "*Creating Series from dict:*"
      ]
    },
    {
      "cell_type": "code",
      "metadata": {
        "colab": {
          "base_uri": "https://localhost:8080/"
        },
        "id": "wcgxds4QrLCr",
        "outputId": "66526d23-af8d-4efa-b269-3dbac5278122"
      },
      "source": [
        "info = {'x' : 0., 'y' : 1., 'z' : 2.}  \n",
        "a = pd.Series(info)  \n",
        "print (a)  "
      ],
      "execution_count": null,
      "outputs": [
        {
          "output_type": "stream",
          "text": [
            "x    0.0\n",
            "y    1.0\n",
            "z    2.0\n",
            "dtype: float64\n"
          ],
          "name": "stdout"
        }
      ]
    },
    {
      "cell_type": "markdown",
      "metadata": {
        "id": "m4ezrCKxrQTD"
      },
      "source": [
        "*Accessing data from series with Position:*"
      ]
    },
    {
      "cell_type": "code",
      "metadata": {
        "colab": {
          "base_uri": "https://localhost:8080/"
        },
        "id": "qAGqIkntrSGD",
        "outputId": "8bb62c0b-9930-43b0-9425-9d04aab589dc"
      },
      "source": [
        "x = pd.Series([1,2,3],index = ['a','b','c'])  \n",
        "#retrieve the second element  \n",
        "print (x['b'])"
      ],
      "execution_count": 3,
      "outputs": [
        {
          "output_type": "stream",
          "name": "stdout",
          "text": [
            "2\n"
          ]
        }
      ]
    },
    {
      "cell_type": "markdown",
      "metadata": {
        "id": "eeLnyW1erYZl"
      },
      "source": [
        "*Create an empty Pandas DataFrame*"
      ]
    },
    {
      "cell_type": "code",
      "metadata": {
        "colab": {
          "base_uri": "https://localhost:8080/"
        },
        "id": "Gf3wDlgsra5W",
        "outputId": "bf93c284-4e7e-4231-ba3e-a1673d34615a"
      },
      "source": [
        "df = pd.DataFrame()  \n",
        "print (df)"
      ],
      "execution_count": null,
      "outputs": [
        {
          "output_type": "stream",
          "text": [
            "Empty DataFrame\n",
            "Columns: []\n",
            "Index: []\n"
          ],
          "name": "stdout"
        }
      ]
    },
    {
      "cell_type": "markdown",
      "metadata": {
        "id": "K-EnQHovrgSw"
      },
      "source": [
        "*Create a DataFrame using List:*"
      ]
    },
    {
      "cell_type": "code",
      "metadata": {
        "colab": {
          "base_uri": "https://localhost:8080/"
        },
        "id": "2CUjl3Wprdun",
        "outputId": "f92e99c0-6e9b-41c0-a323-d25a3dd1a3d2"
      },
      "source": [
        "x = ['Python', 'Pandas']  \n",
        "\n",
        "df = pd.DataFrame(x)  \n",
        "print(df) "
      ],
      "execution_count": null,
      "outputs": [
        {
          "output_type": "stream",
          "text": [
            "        0\n",
            "0  Python\n",
            "1  Pandas\n"
          ],
          "name": "stdout"
        }
      ]
    },
    {
      "cell_type": "markdown",
      "metadata": {
        "id": "5y2wMzckrnpr"
      },
      "source": [
        "*Create a DataFrame from Dict*"
      ]
    },
    {
      "cell_type": "code",
      "metadata": {
        "colab": {
          "base_uri": "https://localhost:8080/",
          "height": 111
        },
        "id": "IXWikf9zrrZo",
        "outputId": "af73fc87-42c4-4c21-b958-9e74538db5cf"
      },
      "source": [
        "df = pd.DataFrame({'Yes': [50, 21], 'No': [131, 2]}, index=['Product A', 'Product B'])\n",
        "df"
      ],
      "execution_count": null,
      "outputs": [
        {
          "output_type": "execute_result",
          "data": {
            "text/html": [
              "<div>\n",
              "<style scoped>\n",
              "    .dataframe tbody tr th:only-of-type {\n",
              "        vertical-align: middle;\n",
              "    }\n",
              "\n",
              "    .dataframe tbody tr th {\n",
              "        vertical-align: top;\n",
              "    }\n",
              "\n",
              "    .dataframe thead th {\n",
              "        text-align: right;\n",
              "    }\n",
              "</style>\n",
              "<table border=\"1\" class=\"dataframe\">\n",
              "  <thead>\n",
              "    <tr style=\"text-align: right;\">\n",
              "      <th></th>\n",
              "      <th>Yes</th>\n",
              "      <th>No</th>\n",
              "    </tr>\n",
              "  </thead>\n",
              "  <tbody>\n",
              "    <tr>\n",
              "      <th>Product A</th>\n",
              "      <td>50</td>\n",
              "      <td>131</td>\n",
              "    </tr>\n",
              "    <tr>\n",
              "      <th>Product B</th>\n",
              "      <td>21</td>\n",
              "      <td>2</td>\n",
              "    </tr>\n",
              "  </tbody>\n",
              "</table>\n",
              "</div>"
            ],
            "text/plain": [
              "           Yes   No\n",
              "Product A   50  131\n",
              "Product B   21    2"
            ]
          },
          "metadata": {
            "tags": []
          },
          "execution_count": 9
        }
      ]
    },
    {
      "cell_type": "markdown",
      "metadata": {
        "id": "Xn7kW4nBrv3N"
      },
      "source": [
        "<a id='csv'></a>\n",
        "## Reading CSV file"
      ]
    },
    {
      "cell_type": "code",
      "metadata": {
        "colab": {
          "base_uri": "https://localhost:8080/",
          "height": 423
        },
        "id": "psdgEioOr0Z5",
        "outputId": "1ccd2beb-6841-4e99-a238-7e7d71d5c3ad"
      },
      "source": [
        "data = pd.read_csv('/content/drive/MyDrive/weather_data (1).csv') #This command reads the files in this location\n",
        "data"
      ],
      "execution_count": 14,
      "outputs": [
        {
          "output_type": "execute_result",
          "data": {
            "text/html": [
              "\n",
              "  <div id=\"df-7b0ed49c-b194-42e0-b8f7-d9cda0e755e9\">\n",
              "    <div class=\"colab-df-container\">\n",
              "      <div>\n",
              "<style scoped>\n",
              "    .dataframe tbody tr th:only-of-type {\n",
              "        vertical-align: middle;\n",
              "    }\n",
              "\n",
              "    .dataframe tbody tr th {\n",
              "        vertical-align: top;\n",
              "    }\n",
              "\n",
              "    .dataframe thead th {\n",
              "        text-align: right;\n",
              "    }\n",
              "</style>\n",
              "<table border=\"1\" class=\"dataframe\">\n",
              "  <thead>\n",
              "    <tr style=\"text-align: right;\">\n",
              "      <th></th>\n",
              "      <th>Unnamed: 0</th>\n",
              "      <th>Temp_degF</th>\n",
              "      <th>Humidity_Pct</th>\n",
              "      <th>DewPt_degF</th>\n",
              "      <th>Wind_mph</th>\n",
              "      <th>WindDir_degNorth</th>\n",
              "      <th>Gust_mph</th>\n",
              "      <th>GustDir_degNorth</th>\n",
              "      <th>Pressure_Hg</th>\n",
              "      <th>Solar_WatPerSqM</th>\n",
              "      <th>Percipitation_in</th>\n",
              "    </tr>\n",
              "  </thead>\n",
              "  <tbody>\n",
              "    <tr>\n",
              "      <th>0</th>\n",
              "      <td>1</td>\n",
              "      <td>69.386</td>\n",
              "      <td>33.76</td>\n",
              "      <td>39.643374</td>\n",
              "      <td>13.844422</td>\n",
              "      <td>346.0</td>\n",
              "      <td>24.382646</td>\n",
              "      <td>13.0</td>\n",
              "      <td>24.971779</td>\n",
              "      <td>354.000</td>\n",
              "      <td>0.0</td>\n",
              "    </tr>\n",
              "    <tr>\n",
              "      <th>1</th>\n",
              "      <td>2</td>\n",
              "      <td>73.796</td>\n",
              "      <td>21.90</td>\n",
              "      <td>32.487311</td>\n",
              "      <td>13.379138</td>\n",
              "      <td>327.0</td>\n",
              "      <td>24.069474</td>\n",
              "      <td>329.0</td>\n",
              "      <td>24.955626</td>\n",
              "      <td>486.300</td>\n",
              "      <td>0.0</td>\n",
              "    </tr>\n",
              "    <tr>\n",
              "      <th>2</th>\n",
              "      <td>3</td>\n",
              "      <td>73.346</td>\n",
              "      <td>21.97</td>\n",
              "      <td>32.190600</td>\n",
              "      <td>12.327776</td>\n",
              "      <td>342.0</td>\n",
              "      <td>22.481247</td>\n",
              "      <td>316.0</td>\n",
              "      <td>24.964810</td>\n",
              "      <td>679.600</td>\n",
              "      <td>0.0</td>\n",
              "    </tr>\n",
              "    <tr>\n",
              "      <th>3</th>\n",
              "      <td>4</td>\n",
              "      <td>71.852</td>\n",
              "      <td>23.94</td>\n",
              "      <td>33.071755</td>\n",
              "      <td>9.632264</td>\n",
              "      <td>327.0</td>\n",
              "      <td>18.723188</td>\n",
              "      <td>334.0</td>\n",
              "      <td>24.981967</td>\n",
              "      <td>581.800</td>\n",
              "      <td>0.0</td>\n",
              "    </tr>\n",
              "    <tr>\n",
              "      <th>4</th>\n",
              "      <td>5</td>\n",
              "      <td>69.314</td>\n",
              "      <td>22.36</td>\n",
              "      <td>29.248975</td>\n",
              "      <td>7.384139</td>\n",
              "      <td>313.0</td>\n",
              "      <td>11.925127</td>\n",
              "      <td>302.0</td>\n",
              "      <td>24.993720</td>\n",
              "      <td>450.000</td>\n",
              "      <td>0.0</td>\n",
              "    </tr>\n",
              "    <tr>\n",
              "      <th>...</th>\n",
              "      <td>...</td>\n",
              "      <td>...</td>\n",
              "      <td>...</td>\n",
              "      <td>...</td>\n",
              "      <td>...</td>\n",
              "      <td>...</td>\n",
              "      <td>...</td>\n",
              "      <td>...</td>\n",
              "      <td>...</td>\n",
              "      <td>...</td>\n",
              "      <td>...</td>\n",
              "    </tr>\n",
              "    <tr>\n",
              "      <th>43904</th>\n",
              "      <td>87815</td>\n",
              "      <td>52.754</td>\n",
              "      <td>87.00</td>\n",
              "      <td>48.995780</td>\n",
              "      <td>1.814158</td>\n",
              "      <td>296.0</td>\n",
              "      <td>3.243563</td>\n",
              "      <td>305.0</td>\n",
              "      <td>24.835527</td>\n",
              "      <td>0.000</td>\n",
              "      <td>0.0</td>\n",
              "    </tr>\n",
              "    <tr>\n",
              "      <th>43905</th>\n",
              "      <td>87823</td>\n",
              "      <td>52.700</td>\n",
              "      <td>86.40</td>\n",
              "      <td>48.757548</td>\n",
              "      <td>1.279530</td>\n",
              "      <td>344.0</td>\n",
              "      <td>2.717882</td>\n",
              "      <td>332.0</td>\n",
              "      <td>24.842290</td>\n",
              "      <td>0.005</td>\n",
              "      <td>0.0</td>\n",
              "    </tr>\n",
              "    <tr>\n",
              "      <th>43906</th>\n",
              "      <td>87833</td>\n",
              "      <td>52.916</td>\n",
              "      <td>86.30</td>\n",
              "      <td>48.938861</td>\n",
              "      <td>0.498838</td>\n",
              "      <td>325.0</td>\n",
              "      <td>2.498662</td>\n",
              "      <td>145.0</td>\n",
              "      <td>24.863256</td>\n",
              "      <td>0.000</td>\n",
              "      <td>0.0</td>\n",
              "    </tr>\n",
              "    <tr>\n",
              "      <th>43907</th>\n",
              "      <td>87843</td>\n",
              "      <td>52.736</td>\n",
              "      <td>83.40</td>\n",
              "      <td>47.849849</td>\n",
              "      <td>2.348787</td>\n",
              "      <td>144.0</td>\n",
              "      <td>5.306022</td>\n",
              "      <td>176.0</td>\n",
              "      <td>24.888888</td>\n",
              "      <td>0.001</td>\n",
              "      <td>0.0</td>\n",
              "    </tr>\n",
              "    <tr>\n",
              "      <th>43908</th>\n",
              "      <td>87853</td>\n",
              "      <td>52.520</td>\n",
              "      <td>84.40</td>\n",
              "      <td>47.955768</td>\n",
              "      <td>3.270406</td>\n",
              "      <td>89.0</td>\n",
              "      <td>7.279003</td>\n",
              "      <td>139.0</td>\n",
              "      <td>24.911892</td>\n",
              "      <td>0.007</td>\n",
              "      <td>0.0</td>\n",
              "    </tr>\n",
              "  </tbody>\n",
              "</table>\n",
              "<p>43909 rows × 11 columns</p>\n",
              "</div>\n",
              "      <button class=\"colab-df-convert\" onclick=\"convertToInteractive('df-7b0ed49c-b194-42e0-b8f7-d9cda0e755e9')\"\n",
              "              title=\"Convert this dataframe to an interactive table.\"\n",
              "              style=\"display:none;\">\n",
              "        \n",
              "  <svg xmlns=\"http://www.w3.org/2000/svg\" height=\"24px\"viewBox=\"0 0 24 24\"\n",
              "       width=\"24px\">\n",
              "    <path d=\"M0 0h24v24H0V0z\" fill=\"none\"/>\n",
              "    <path d=\"M18.56 5.44l.94 2.06.94-2.06 2.06-.94-2.06-.94-.94-2.06-.94 2.06-2.06.94zm-11 1L8.5 8.5l.94-2.06 2.06-.94-2.06-.94L8.5 2.5l-.94 2.06-2.06.94zm10 10l.94 2.06.94-2.06 2.06-.94-2.06-.94-.94-2.06-.94 2.06-2.06.94z\"/><path d=\"M17.41 7.96l-1.37-1.37c-.4-.4-.92-.59-1.43-.59-.52 0-1.04.2-1.43.59L10.3 9.45l-7.72 7.72c-.78.78-.78 2.05 0 2.83L4 21.41c.39.39.9.59 1.41.59.51 0 1.02-.2 1.41-.59l7.78-7.78 2.81-2.81c.8-.78.8-2.07 0-2.86zM5.41 20L4 18.59l7.72-7.72 1.47 1.35L5.41 20z\"/>\n",
              "  </svg>\n",
              "      </button>\n",
              "      \n",
              "  <style>\n",
              "    .colab-df-container {\n",
              "      display:flex;\n",
              "      flex-wrap:wrap;\n",
              "      gap: 12px;\n",
              "    }\n",
              "\n",
              "    .colab-df-convert {\n",
              "      background-color: #E8F0FE;\n",
              "      border: none;\n",
              "      border-radius: 50%;\n",
              "      cursor: pointer;\n",
              "      display: none;\n",
              "      fill: #1967D2;\n",
              "      height: 32px;\n",
              "      padding: 0 0 0 0;\n",
              "      width: 32px;\n",
              "    }\n",
              "\n",
              "    .colab-df-convert:hover {\n",
              "      background-color: #E2EBFA;\n",
              "      box-shadow: 0px 1px 2px rgba(60, 64, 67, 0.3), 0px 1px 3px 1px rgba(60, 64, 67, 0.15);\n",
              "      fill: #174EA6;\n",
              "    }\n",
              "\n",
              "    [theme=dark] .colab-df-convert {\n",
              "      background-color: #3B4455;\n",
              "      fill: #D2E3FC;\n",
              "    }\n",
              "\n",
              "    [theme=dark] .colab-df-convert:hover {\n",
              "      background-color: #434B5C;\n",
              "      box-shadow: 0px 1px 3px 1px rgba(0, 0, 0, 0.15);\n",
              "      filter: drop-shadow(0px 1px 2px rgba(0, 0, 0, 0.3));\n",
              "      fill: #FFFFFF;\n",
              "    }\n",
              "  </style>\n",
              "\n",
              "      <script>\n",
              "        const buttonEl =\n",
              "          document.querySelector('#df-7b0ed49c-b194-42e0-b8f7-d9cda0e755e9 button.colab-df-convert');\n",
              "        buttonEl.style.display =\n",
              "          google.colab.kernel.accessAllowed ? 'block' : 'none';\n",
              "\n",
              "        async function convertToInteractive(key) {\n",
              "          const element = document.querySelector('#df-7b0ed49c-b194-42e0-b8f7-d9cda0e755e9');\n",
              "          const dataTable =\n",
              "            await google.colab.kernel.invokeFunction('convertToInteractive',\n",
              "                                                     [key], {});\n",
              "          if (!dataTable) return;\n",
              "\n",
              "          const docLinkHtml = 'Like what you see? Visit the ' +\n",
              "            '<a target=\"_blank\" href=https://colab.research.google.com/notebooks/data_table.ipynb>data table notebook</a>'\n",
              "            + ' to learn more about interactive tables.';\n",
              "          element.innerHTML = '';\n",
              "          dataTable['output_type'] = 'display_data';\n",
              "          await google.colab.output.renderOutput(dataTable, element);\n",
              "          const docLink = document.createElement('div');\n",
              "          docLink.innerHTML = docLinkHtml;\n",
              "          element.appendChild(docLink);\n",
              "        }\n",
              "      </script>\n",
              "    </div>\n",
              "  </div>\n",
              "  "
            ],
            "text/plain": [
              "       Unnamed: 0  Temp_degF  ...  Solar_WatPerSqM  Percipitation_in\n",
              "0               1     69.386  ...          354.000               0.0\n",
              "1               2     73.796  ...          486.300               0.0\n",
              "2               3     73.346  ...          679.600               0.0\n",
              "3               4     71.852  ...          581.800               0.0\n",
              "4               5     69.314  ...          450.000               0.0\n",
              "...           ...        ...  ...              ...               ...\n",
              "43904       87815     52.754  ...            0.000               0.0\n",
              "43905       87823     52.700  ...            0.005               0.0\n",
              "43906       87833     52.916  ...            0.000               0.0\n",
              "43907       87843     52.736  ...            0.001               0.0\n",
              "43908       87853     52.520  ...            0.007               0.0\n",
              "\n",
              "[43909 rows x 11 columns]"
            ]
          },
          "metadata": {},
          "execution_count": 14
        }
      ]
    },
    {
      "cell_type": "code",
      "metadata": {
        "id": "QFCLtY5ONLHo",
        "colab": {
          "base_uri": "https://localhost:8080/",
          "height": 362
        },
        "outputId": "a728f347-c25d-4ed6-e21a-548e655f298e"
      },
      "source": [
        "#following can be used to read excel files\n",
        "data1 = pd.read_excel('file location') #This command reads the files in this location\n",
        "data1"
      ],
      "execution_count": 15,
      "outputs": [
        {
          "output_type": "error",
          "ename": "FileNotFoundError",
          "evalue": "ignored",
          "traceback": [
            "\u001b[0;31m---------------------------------------------------------------------------\u001b[0m",
            "\u001b[0;31mFileNotFoundError\u001b[0m                         Traceback (most recent call last)",
            "\u001b[0;32m<ipython-input-15-76296e623df8>\u001b[0m in \u001b[0;36m<module>\u001b[0;34m()\u001b[0m\n\u001b[1;32m      1\u001b[0m \u001b[0;31m#following can be used to read excel files\u001b[0m\u001b[0;34m\u001b[0m\u001b[0;34m\u001b[0m\u001b[0;34m\u001b[0m\u001b[0m\n\u001b[0;32m----> 2\u001b[0;31m \u001b[0mdata1\u001b[0m \u001b[0;34m=\u001b[0m \u001b[0mpd\u001b[0m\u001b[0;34m.\u001b[0m\u001b[0mread_excel\u001b[0m\u001b[0;34m(\u001b[0m\u001b[0;34m'file location'\u001b[0m\u001b[0;34m)\u001b[0m \u001b[0;31m#This command reads the files in this location\u001b[0m\u001b[0;34m\u001b[0m\u001b[0;34m\u001b[0m\u001b[0m\n\u001b[0m\u001b[1;32m      3\u001b[0m \u001b[0mdata1\u001b[0m\u001b[0;34m\u001b[0m\u001b[0;34m\u001b[0m\u001b[0m\n",
            "\u001b[0;32m/usr/local/lib/python3.7/dist-packages/pandas/util/_decorators.py\u001b[0m in \u001b[0;36mwrapper\u001b[0;34m(*args, **kwargs)\u001b[0m\n\u001b[1;32m    294\u001b[0m                 )\n\u001b[1;32m    295\u001b[0m                 \u001b[0mwarnings\u001b[0m\u001b[0;34m.\u001b[0m\u001b[0mwarn\u001b[0m\u001b[0;34m(\u001b[0m\u001b[0mmsg\u001b[0m\u001b[0;34m,\u001b[0m \u001b[0mFutureWarning\u001b[0m\u001b[0;34m,\u001b[0m \u001b[0mstacklevel\u001b[0m\u001b[0;34m=\u001b[0m\u001b[0mstacklevel\u001b[0m\u001b[0;34m)\u001b[0m\u001b[0;34m\u001b[0m\u001b[0;34m\u001b[0m\u001b[0m\n\u001b[0;32m--> 296\u001b[0;31m             \u001b[0;32mreturn\u001b[0m \u001b[0mfunc\u001b[0m\u001b[0;34m(\u001b[0m\u001b[0;34m*\u001b[0m\u001b[0margs\u001b[0m\u001b[0;34m,\u001b[0m \u001b[0;34m**\u001b[0m\u001b[0mkwargs\u001b[0m\u001b[0;34m)\u001b[0m\u001b[0;34m\u001b[0m\u001b[0;34m\u001b[0m\u001b[0m\n\u001b[0m\u001b[1;32m    297\u001b[0m \u001b[0;34m\u001b[0m\u001b[0m\n\u001b[1;32m    298\u001b[0m         \u001b[0;32mreturn\u001b[0m \u001b[0mwrapper\u001b[0m\u001b[0;34m\u001b[0m\u001b[0;34m\u001b[0m\u001b[0m\n",
            "\u001b[0;32m/usr/local/lib/python3.7/dist-packages/pandas/io/excel/_base.py\u001b[0m in \u001b[0;36mread_excel\u001b[0;34m(io, sheet_name, header, names, index_col, usecols, squeeze, dtype, engine, converters, true_values, false_values, skiprows, nrows, na_values, keep_default_na, na_filter, verbose, parse_dates, date_parser, thousands, comment, skipfooter, convert_float, mangle_dupe_cols)\u001b[0m\n\u001b[1;32m    302\u001b[0m \u001b[0;34m\u001b[0m\u001b[0m\n\u001b[1;32m    303\u001b[0m     \u001b[0;32mif\u001b[0m \u001b[0;32mnot\u001b[0m \u001b[0misinstance\u001b[0m\u001b[0;34m(\u001b[0m\u001b[0mio\u001b[0m\u001b[0;34m,\u001b[0m \u001b[0mExcelFile\u001b[0m\u001b[0;34m)\u001b[0m\u001b[0;34m:\u001b[0m\u001b[0;34m\u001b[0m\u001b[0;34m\u001b[0m\u001b[0m\n\u001b[0;32m--> 304\u001b[0;31m         \u001b[0mio\u001b[0m \u001b[0;34m=\u001b[0m \u001b[0mExcelFile\u001b[0m\u001b[0;34m(\u001b[0m\u001b[0mio\u001b[0m\u001b[0;34m,\u001b[0m \u001b[0mengine\u001b[0m\u001b[0;34m=\u001b[0m\u001b[0mengine\u001b[0m\u001b[0;34m)\u001b[0m\u001b[0;34m\u001b[0m\u001b[0;34m\u001b[0m\u001b[0m\n\u001b[0m\u001b[1;32m    305\u001b[0m     \u001b[0;32melif\u001b[0m \u001b[0mengine\u001b[0m \u001b[0;32mand\u001b[0m \u001b[0mengine\u001b[0m \u001b[0;34m!=\u001b[0m \u001b[0mio\u001b[0m\u001b[0;34m.\u001b[0m\u001b[0mengine\u001b[0m\u001b[0;34m:\u001b[0m\u001b[0;34m\u001b[0m\u001b[0;34m\u001b[0m\u001b[0m\n\u001b[1;32m    306\u001b[0m         raise ValueError(\n",
            "\u001b[0;32m/usr/local/lib/python3.7/dist-packages/pandas/io/excel/_base.py\u001b[0m in \u001b[0;36m__init__\u001b[0;34m(self, path_or_buffer, engine)\u001b[0m\n\u001b[1;32m    865\u001b[0m         \u001b[0mself\u001b[0m\u001b[0;34m.\u001b[0m\u001b[0m_io\u001b[0m \u001b[0;34m=\u001b[0m \u001b[0mstringify_path\u001b[0m\u001b[0;34m(\u001b[0m\u001b[0mpath_or_buffer\u001b[0m\u001b[0;34m)\u001b[0m\u001b[0;34m\u001b[0m\u001b[0;34m\u001b[0m\u001b[0m\n\u001b[1;32m    866\u001b[0m \u001b[0;34m\u001b[0m\u001b[0m\n\u001b[0;32m--> 867\u001b[0;31m         \u001b[0mself\u001b[0m\u001b[0;34m.\u001b[0m\u001b[0m_reader\u001b[0m \u001b[0;34m=\u001b[0m \u001b[0mself\u001b[0m\u001b[0;34m.\u001b[0m\u001b[0m_engines\u001b[0m\u001b[0;34m[\u001b[0m\u001b[0mengine\u001b[0m\u001b[0;34m]\u001b[0m\u001b[0;34m(\u001b[0m\u001b[0mself\u001b[0m\u001b[0;34m.\u001b[0m\u001b[0m_io\u001b[0m\u001b[0;34m)\u001b[0m\u001b[0;34m\u001b[0m\u001b[0;34m\u001b[0m\u001b[0m\n\u001b[0m\u001b[1;32m    868\u001b[0m \u001b[0;34m\u001b[0m\u001b[0m\n\u001b[1;32m    869\u001b[0m     \u001b[0;32mdef\u001b[0m \u001b[0m__fspath__\u001b[0m\u001b[0;34m(\u001b[0m\u001b[0mself\u001b[0m\u001b[0;34m)\u001b[0m\u001b[0;34m:\u001b[0m\u001b[0;34m\u001b[0m\u001b[0;34m\u001b[0m\u001b[0m\n",
            "\u001b[0;32m/usr/local/lib/python3.7/dist-packages/pandas/io/excel/_xlrd.py\u001b[0m in \u001b[0;36m__init__\u001b[0;34m(self, filepath_or_buffer)\u001b[0m\n\u001b[1;32m     20\u001b[0m         \u001b[0merr_msg\u001b[0m \u001b[0;34m=\u001b[0m \u001b[0;34m\"Install xlrd >= 1.0.0 for Excel support\"\u001b[0m\u001b[0;34m\u001b[0m\u001b[0;34m\u001b[0m\u001b[0m\n\u001b[1;32m     21\u001b[0m         \u001b[0mimport_optional_dependency\u001b[0m\u001b[0;34m(\u001b[0m\u001b[0;34m\"xlrd\"\u001b[0m\u001b[0;34m,\u001b[0m \u001b[0mextra\u001b[0m\u001b[0;34m=\u001b[0m\u001b[0merr_msg\u001b[0m\u001b[0;34m)\u001b[0m\u001b[0;34m\u001b[0m\u001b[0;34m\u001b[0m\u001b[0m\n\u001b[0;32m---> 22\u001b[0;31m         \u001b[0msuper\u001b[0m\u001b[0;34m(\u001b[0m\u001b[0;34m)\u001b[0m\u001b[0;34m.\u001b[0m\u001b[0m__init__\u001b[0m\u001b[0;34m(\u001b[0m\u001b[0mfilepath_or_buffer\u001b[0m\u001b[0;34m)\u001b[0m\u001b[0;34m\u001b[0m\u001b[0;34m\u001b[0m\u001b[0m\n\u001b[0m\u001b[1;32m     23\u001b[0m \u001b[0;34m\u001b[0m\u001b[0m\n\u001b[1;32m     24\u001b[0m     \u001b[0;34m@\u001b[0m\u001b[0mproperty\u001b[0m\u001b[0;34m\u001b[0m\u001b[0;34m\u001b[0m\u001b[0m\n",
            "\u001b[0;32m/usr/local/lib/python3.7/dist-packages/pandas/io/excel/_base.py\u001b[0m in \u001b[0;36m__init__\u001b[0;34m(self, filepath_or_buffer)\u001b[0m\n\u001b[1;32m    351\u001b[0m             \u001b[0mself\u001b[0m\u001b[0;34m.\u001b[0m\u001b[0mbook\u001b[0m \u001b[0;34m=\u001b[0m \u001b[0mself\u001b[0m\u001b[0;34m.\u001b[0m\u001b[0mload_workbook\u001b[0m\u001b[0;34m(\u001b[0m\u001b[0mfilepath_or_buffer\u001b[0m\u001b[0;34m)\u001b[0m\u001b[0;34m\u001b[0m\u001b[0;34m\u001b[0m\u001b[0m\n\u001b[1;32m    352\u001b[0m         \u001b[0;32melif\u001b[0m \u001b[0misinstance\u001b[0m\u001b[0;34m(\u001b[0m\u001b[0mfilepath_or_buffer\u001b[0m\u001b[0;34m,\u001b[0m \u001b[0mstr\u001b[0m\u001b[0;34m)\u001b[0m\u001b[0;34m:\u001b[0m\u001b[0;34m\u001b[0m\u001b[0;34m\u001b[0m\u001b[0m\n\u001b[0;32m--> 353\u001b[0;31m             \u001b[0mself\u001b[0m\u001b[0;34m.\u001b[0m\u001b[0mbook\u001b[0m \u001b[0;34m=\u001b[0m \u001b[0mself\u001b[0m\u001b[0;34m.\u001b[0m\u001b[0mload_workbook\u001b[0m\u001b[0;34m(\u001b[0m\u001b[0mfilepath_or_buffer\u001b[0m\u001b[0;34m)\u001b[0m\u001b[0;34m\u001b[0m\u001b[0;34m\u001b[0m\u001b[0m\n\u001b[0m\u001b[1;32m    354\u001b[0m         \u001b[0;32melif\u001b[0m \u001b[0misinstance\u001b[0m\u001b[0;34m(\u001b[0m\u001b[0mfilepath_or_buffer\u001b[0m\u001b[0;34m,\u001b[0m \u001b[0mbytes\u001b[0m\u001b[0;34m)\u001b[0m\u001b[0;34m:\u001b[0m\u001b[0;34m\u001b[0m\u001b[0;34m\u001b[0m\u001b[0m\n\u001b[1;32m    355\u001b[0m             \u001b[0mself\u001b[0m\u001b[0;34m.\u001b[0m\u001b[0mbook\u001b[0m \u001b[0;34m=\u001b[0m \u001b[0mself\u001b[0m\u001b[0;34m.\u001b[0m\u001b[0mload_workbook\u001b[0m\u001b[0;34m(\u001b[0m\u001b[0mBytesIO\u001b[0m\u001b[0;34m(\u001b[0m\u001b[0mfilepath_or_buffer\u001b[0m\u001b[0;34m)\u001b[0m\u001b[0;34m)\u001b[0m\u001b[0;34m\u001b[0m\u001b[0;34m\u001b[0m\u001b[0m\n",
            "\u001b[0;32m/usr/local/lib/python3.7/dist-packages/pandas/io/excel/_xlrd.py\u001b[0m in \u001b[0;36mload_workbook\u001b[0;34m(self, filepath_or_buffer)\u001b[0m\n\u001b[1;32m     35\u001b[0m             \u001b[0;32mreturn\u001b[0m \u001b[0mopen_workbook\u001b[0m\u001b[0;34m(\u001b[0m\u001b[0mfile_contents\u001b[0m\u001b[0;34m=\u001b[0m\u001b[0mdata\u001b[0m\u001b[0;34m)\u001b[0m\u001b[0;34m\u001b[0m\u001b[0;34m\u001b[0m\u001b[0m\n\u001b[1;32m     36\u001b[0m         \u001b[0;32melse\u001b[0m\u001b[0;34m:\u001b[0m\u001b[0;34m\u001b[0m\u001b[0;34m\u001b[0m\u001b[0m\n\u001b[0;32m---> 37\u001b[0;31m             \u001b[0;32mreturn\u001b[0m \u001b[0mopen_workbook\u001b[0m\u001b[0;34m(\u001b[0m\u001b[0mfilepath_or_buffer\u001b[0m\u001b[0;34m)\u001b[0m\u001b[0;34m\u001b[0m\u001b[0;34m\u001b[0m\u001b[0m\n\u001b[0m\u001b[1;32m     38\u001b[0m \u001b[0;34m\u001b[0m\u001b[0m\n\u001b[1;32m     39\u001b[0m     \u001b[0;34m@\u001b[0m\u001b[0mproperty\u001b[0m\u001b[0;34m\u001b[0m\u001b[0;34m\u001b[0m\u001b[0m\n",
            "\u001b[0;32m/usr/local/lib/python3.7/dist-packages/xlrd/__init__.py\u001b[0m in \u001b[0;36mopen_workbook\u001b[0;34m(filename, logfile, verbosity, use_mmap, file_contents, encoding_override, formatting_info, on_demand, ragged_rows)\u001b[0m\n\u001b[1;32m    114\u001b[0m         \u001b[0mpeek\u001b[0m \u001b[0;34m=\u001b[0m \u001b[0mfile_contents\u001b[0m\u001b[0;34m[\u001b[0m\u001b[0;34m:\u001b[0m\u001b[0mpeeksz\u001b[0m\u001b[0;34m]\u001b[0m\u001b[0;34m\u001b[0m\u001b[0;34m\u001b[0m\u001b[0m\n\u001b[1;32m    115\u001b[0m     \u001b[0;32melse\u001b[0m\u001b[0;34m:\u001b[0m\u001b[0;34m\u001b[0m\u001b[0;34m\u001b[0m\u001b[0m\n\u001b[0;32m--> 116\u001b[0;31m         \u001b[0;32mwith\u001b[0m \u001b[0mopen\u001b[0m\u001b[0;34m(\u001b[0m\u001b[0mfilename\u001b[0m\u001b[0;34m,\u001b[0m \u001b[0;34m\"rb\"\u001b[0m\u001b[0;34m)\u001b[0m \u001b[0;32mas\u001b[0m \u001b[0mf\u001b[0m\u001b[0;34m:\u001b[0m\u001b[0;34m\u001b[0m\u001b[0;34m\u001b[0m\u001b[0m\n\u001b[0m\u001b[1;32m    117\u001b[0m             \u001b[0mpeek\u001b[0m \u001b[0;34m=\u001b[0m \u001b[0mf\u001b[0m\u001b[0;34m.\u001b[0m\u001b[0mread\u001b[0m\u001b[0;34m(\u001b[0m\u001b[0mpeeksz\u001b[0m\u001b[0;34m)\u001b[0m\u001b[0;34m\u001b[0m\u001b[0;34m\u001b[0m\u001b[0m\n\u001b[1;32m    118\u001b[0m     \u001b[0;32mif\u001b[0m \u001b[0mpeek\u001b[0m \u001b[0;34m==\u001b[0m \u001b[0;34mb\"PK\\x03\\x04\"\u001b[0m\u001b[0;34m:\u001b[0m \u001b[0;31m# a ZIP file\u001b[0m\u001b[0;34m\u001b[0m\u001b[0;34m\u001b[0m\u001b[0m\n",
            "\u001b[0;31mFileNotFoundError\u001b[0m: [Errno 2] No such file or directory: 'file location'"
          ]
        }
      ]
    },
    {
      "cell_type": "markdown",
      "metadata": {
        "id": "NQfzgidHsOaQ"
      },
      "source": [
        "<a id='viewing'></a>\n",
        "## Viewing data\n",
        "Here is how to view the top and bottom rows of the frame:"
      ]
    },
    {
      "cell_type": "code",
      "metadata": {
        "colab": {
          "base_uri": "https://localhost:8080/",
          "height": 143
        },
        "id": "xn2QTrfusLJ4",
        "outputId": "5b9aaacb-1173-4320-b6fa-03ebaf298c8c"
      },
      "source": [
        "data.head(3)#displays first three rows of the dataframe"
      ],
      "execution_count": 16,
      "outputs": [
        {
          "output_type": "execute_result",
          "data": {
            "text/html": [
              "\n",
              "  <div id=\"df-a7847a36-a22b-4462-ad62-2310c4d52609\">\n",
              "    <div class=\"colab-df-container\">\n",
              "      <div>\n",
              "<style scoped>\n",
              "    .dataframe tbody tr th:only-of-type {\n",
              "        vertical-align: middle;\n",
              "    }\n",
              "\n",
              "    .dataframe tbody tr th {\n",
              "        vertical-align: top;\n",
              "    }\n",
              "\n",
              "    .dataframe thead th {\n",
              "        text-align: right;\n",
              "    }\n",
              "</style>\n",
              "<table border=\"1\" class=\"dataframe\">\n",
              "  <thead>\n",
              "    <tr style=\"text-align: right;\">\n",
              "      <th></th>\n",
              "      <th>Unnamed: 0</th>\n",
              "      <th>Temp_degF</th>\n",
              "      <th>Humidity_Pct</th>\n",
              "      <th>DewPt_degF</th>\n",
              "      <th>Wind_mph</th>\n",
              "      <th>WindDir_degNorth</th>\n",
              "      <th>Gust_mph</th>\n",
              "      <th>GustDir_degNorth</th>\n",
              "      <th>Pressure_Hg</th>\n",
              "      <th>Solar_WatPerSqM</th>\n",
              "      <th>Percipitation_in</th>\n",
              "    </tr>\n",
              "  </thead>\n",
              "  <tbody>\n",
              "    <tr>\n",
              "      <th>0</th>\n",
              "      <td>1</td>\n",
              "      <td>69.386</td>\n",
              "      <td>33.76</td>\n",
              "      <td>39.643374</td>\n",
              "      <td>13.844422</td>\n",
              "      <td>346.0</td>\n",
              "      <td>24.382646</td>\n",
              "      <td>13.0</td>\n",
              "      <td>24.971779</td>\n",
              "      <td>354.0</td>\n",
              "      <td>0.0</td>\n",
              "    </tr>\n",
              "    <tr>\n",
              "      <th>1</th>\n",
              "      <td>2</td>\n",
              "      <td>73.796</td>\n",
              "      <td>21.90</td>\n",
              "      <td>32.487311</td>\n",
              "      <td>13.379138</td>\n",
              "      <td>327.0</td>\n",
              "      <td>24.069474</td>\n",
              "      <td>329.0</td>\n",
              "      <td>24.955626</td>\n",
              "      <td>486.3</td>\n",
              "      <td>0.0</td>\n",
              "    </tr>\n",
              "    <tr>\n",
              "      <th>2</th>\n",
              "      <td>3</td>\n",
              "      <td>73.346</td>\n",
              "      <td>21.97</td>\n",
              "      <td>32.190600</td>\n",
              "      <td>12.327776</td>\n",
              "      <td>342.0</td>\n",
              "      <td>22.481247</td>\n",
              "      <td>316.0</td>\n",
              "      <td>24.964810</td>\n",
              "      <td>679.6</td>\n",
              "      <td>0.0</td>\n",
              "    </tr>\n",
              "  </tbody>\n",
              "</table>\n",
              "</div>\n",
              "      <button class=\"colab-df-convert\" onclick=\"convertToInteractive('df-a7847a36-a22b-4462-ad62-2310c4d52609')\"\n",
              "              title=\"Convert this dataframe to an interactive table.\"\n",
              "              style=\"display:none;\">\n",
              "        \n",
              "  <svg xmlns=\"http://www.w3.org/2000/svg\" height=\"24px\"viewBox=\"0 0 24 24\"\n",
              "       width=\"24px\">\n",
              "    <path d=\"M0 0h24v24H0V0z\" fill=\"none\"/>\n",
              "    <path d=\"M18.56 5.44l.94 2.06.94-2.06 2.06-.94-2.06-.94-.94-2.06-.94 2.06-2.06.94zm-11 1L8.5 8.5l.94-2.06 2.06-.94-2.06-.94L8.5 2.5l-.94 2.06-2.06.94zm10 10l.94 2.06.94-2.06 2.06-.94-2.06-.94-.94-2.06-.94 2.06-2.06.94z\"/><path d=\"M17.41 7.96l-1.37-1.37c-.4-.4-.92-.59-1.43-.59-.52 0-1.04.2-1.43.59L10.3 9.45l-7.72 7.72c-.78.78-.78 2.05 0 2.83L4 21.41c.39.39.9.59 1.41.59.51 0 1.02-.2 1.41-.59l7.78-7.78 2.81-2.81c.8-.78.8-2.07 0-2.86zM5.41 20L4 18.59l7.72-7.72 1.47 1.35L5.41 20z\"/>\n",
              "  </svg>\n",
              "      </button>\n",
              "      \n",
              "  <style>\n",
              "    .colab-df-container {\n",
              "      display:flex;\n",
              "      flex-wrap:wrap;\n",
              "      gap: 12px;\n",
              "    }\n",
              "\n",
              "    .colab-df-convert {\n",
              "      background-color: #E8F0FE;\n",
              "      border: none;\n",
              "      border-radius: 50%;\n",
              "      cursor: pointer;\n",
              "      display: none;\n",
              "      fill: #1967D2;\n",
              "      height: 32px;\n",
              "      padding: 0 0 0 0;\n",
              "      width: 32px;\n",
              "    }\n",
              "\n",
              "    .colab-df-convert:hover {\n",
              "      background-color: #E2EBFA;\n",
              "      box-shadow: 0px 1px 2px rgba(60, 64, 67, 0.3), 0px 1px 3px 1px rgba(60, 64, 67, 0.15);\n",
              "      fill: #174EA6;\n",
              "    }\n",
              "\n",
              "    [theme=dark] .colab-df-convert {\n",
              "      background-color: #3B4455;\n",
              "      fill: #D2E3FC;\n",
              "    }\n",
              "\n",
              "    [theme=dark] .colab-df-convert:hover {\n",
              "      background-color: #434B5C;\n",
              "      box-shadow: 0px 1px 3px 1px rgba(0, 0, 0, 0.15);\n",
              "      filter: drop-shadow(0px 1px 2px rgba(0, 0, 0, 0.3));\n",
              "      fill: #FFFFFF;\n",
              "    }\n",
              "  </style>\n",
              "\n",
              "      <script>\n",
              "        const buttonEl =\n",
              "          document.querySelector('#df-a7847a36-a22b-4462-ad62-2310c4d52609 button.colab-df-convert');\n",
              "        buttonEl.style.display =\n",
              "          google.colab.kernel.accessAllowed ? 'block' : 'none';\n",
              "\n",
              "        async function convertToInteractive(key) {\n",
              "          const element = document.querySelector('#df-a7847a36-a22b-4462-ad62-2310c4d52609');\n",
              "          const dataTable =\n",
              "            await google.colab.kernel.invokeFunction('convertToInteractive',\n",
              "                                                     [key], {});\n",
              "          if (!dataTable) return;\n",
              "\n",
              "          const docLinkHtml = 'Like what you see? Visit the ' +\n",
              "            '<a target=\"_blank\" href=https://colab.research.google.com/notebooks/data_table.ipynb>data table notebook</a>'\n",
              "            + ' to learn more about interactive tables.';\n",
              "          element.innerHTML = '';\n",
              "          dataTable['output_type'] = 'display_data';\n",
              "          await google.colab.output.renderOutput(dataTable, element);\n",
              "          const docLink = document.createElement('div');\n",
              "          docLink.innerHTML = docLinkHtml;\n",
              "          element.appendChild(docLink);\n",
              "        }\n",
              "      </script>\n",
              "    </div>\n",
              "  </div>\n",
              "  "
            ],
            "text/plain": [
              "   Unnamed: 0  Temp_degF  ...  Solar_WatPerSqM  Percipitation_in\n",
              "0           1     69.386  ...            354.0               0.0\n",
              "1           2     73.796  ...            486.3               0.0\n",
              "2           3     73.346  ...            679.6               0.0\n",
              "\n",
              "[3 rows x 11 columns]"
            ]
          },
          "metadata": {},
          "execution_count": 16
        }
      ]
    },
    {
      "cell_type": "code",
      "metadata": {
        "colab": {
          "base_uri": "https://localhost:8080/",
          "height": 143
        },
        "id": "XTcd7143sSbw",
        "outputId": "5aa5541a-7ce3-44de-94b0-068f88485afd"
      },
      "source": [
        "data.tail(3)# display the last three rows of the dataframe"
      ],
      "execution_count": 17,
      "outputs": [
        {
          "output_type": "execute_result",
          "data": {
            "text/html": [
              "\n",
              "  <div id=\"df-2b023b76-331d-4548-b570-0d0269704ed8\">\n",
              "    <div class=\"colab-df-container\">\n",
              "      <div>\n",
              "<style scoped>\n",
              "    .dataframe tbody tr th:only-of-type {\n",
              "        vertical-align: middle;\n",
              "    }\n",
              "\n",
              "    .dataframe tbody tr th {\n",
              "        vertical-align: top;\n",
              "    }\n",
              "\n",
              "    .dataframe thead th {\n",
              "        text-align: right;\n",
              "    }\n",
              "</style>\n",
              "<table border=\"1\" class=\"dataframe\">\n",
              "  <thead>\n",
              "    <tr style=\"text-align: right;\">\n",
              "      <th></th>\n",
              "      <th>Unnamed: 0</th>\n",
              "      <th>Temp_degF</th>\n",
              "      <th>Humidity_Pct</th>\n",
              "      <th>DewPt_degF</th>\n",
              "      <th>Wind_mph</th>\n",
              "      <th>WindDir_degNorth</th>\n",
              "      <th>Gust_mph</th>\n",
              "      <th>GustDir_degNorth</th>\n",
              "      <th>Pressure_Hg</th>\n",
              "      <th>Solar_WatPerSqM</th>\n",
              "      <th>Percipitation_in</th>\n",
              "    </tr>\n",
              "  </thead>\n",
              "  <tbody>\n",
              "    <tr>\n",
              "      <th>43906</th>\n",
              "      <td>87833</td>\n",
              "      <td>52.916</td>\n",
              "      <td>86.3</td>\n",
              "      <td>48.938861</td>\n",
              "      <td>0.498838</td>\n",
              "      <td>325.0</td>\n",
              "      <td>2.498662</td>\n",
              "      <td>145.0</td>\n",
              "      <td>24.863256</td>\n",
              "      <td>0.000</td>\n",
              "      <td>0.0</td>\n",
              "    </tr>\n",
              "    <tr>\n",
              "      <th>43907</th>\n",
              "      <td>87843</td>\n",
              "      <td>52.736</td>\n",
              "      <td>83.4</td>\n",
              "      <td>47.849849</td>\n",
              "      <td>2.348787</td>\n",
              "      <td>144.0</td>\n",
              "      <td>5.306022</td>\n",
              "      <td>176.0</td>\n",
              "      <td>24.888888</td>\n",
              "      <td>0.001</td>\n",
              "      <td>0.0</td>\n",
              "    </tr>\n",
              "    <tr>\n",
              "      <th>43908</th>\n",
              "      <td>87853</td>\n",
              "      <td>52.520</td>\n",
              "      <td>84.4</td>\n",
              "      <td>47.955768</td>\n",
              "      <td>3.270406</td>\n",
              "      <td>89.0</td>\n",
              "      <td>7.279003</td>\n",
              "      <td>139.0</td>\n",
              "      <td>24.911892</td>\n",
              "      <td>0.007</td>\n",
              "      <td>0.0</td>\n",
              "    </tr>\n",
              "  </tbody>\n",
              "</table>\n",
              "</div>\n",
              "      <button class=\"colab-df-convert\" onclick=\"convertToInteractive('df-2b023b76-331d-4548-b570-0d0269704ed8')\"\n",
              "              title=\"Convert this dataframe to an interactive table.\"\n",
              "              style=\"display:none;\">\n",
              "        \n",
              "  <svg xmlns=\"http://www.w3.org/2000/svg\" height=\"24px\"viewBox=\"0 0 24 24\"\n",
              "       width=\"24px\">\n",
              "    <path d=\"M0 0h24v24H0V0z\" fill=\"none\"/>\n",
              "    <path d=\"M18.56 5.44l.94 2.06.94-2.06 2.06-.94-2.06-.94-.94-2.06-.94 2.06-2.06.94zm-11 1L8.5 8.5l.94-2.06 2.06-.94-2.06-.94L8.5 2.5l-.94 2.06-2.06.94zm10 10l.94 2.06.94-2.06 2.06-.94-2.06-.94-.94-2.06-.94 2.06-2.06.94z\"/><path d=\"M17.41 7.96l-1.37-1.37c-.4-.4-.92-.59-1.43-.59-.52 0-1.04.2-1.43.59L10.3 9.45l-7.72 7.72c-.78.78-.78 2.05 0 2.83L4 21.41c.39.39.9.59 1.41.59.51 0 1.02-.2 1.41-.59l7.78-7.78 2.81-2.81c.8-.78.8-2.07 0-2.86zM5.41 20L4 18.59l7.72-7.72 1.47 1.35L5.41 20z\"/>\n",
              "  </svg>\n",
              "      </button>\n",
              "      \n",
              "  <style>\n",
              "    .colab-df-container {\n",
              "      display:flex;\n",
              "      flex-wrap:wrap;\n",
              "      gap: 12px;\n",
              "    }\n",
              "\n",
              "    .colab-df-convert {\n",
              "      background-color: #E8F0FE;\n",
              "      border: none;\n",
              "      border-radius: 50%;\n",
              "      cursor: pointer;\n",
              "      display: none;\n",
              "      fill: #1967D2;\n",
              "      height: 32px;\n",
              "      padding: 0 0 0 0;\n",
              "      width: 32px;\n",
              "    }\n",
              "\n",
              "    .colab-df-convert:hover {\n",
              "      background-color: #E2EBFA;\n",
              "      box-shadow: 0px 1px 2px rgba(60, 64, 67, 0.3), 0px 1px 3px 1px rgba(60, 64, 67, 0.15);\n",
              "      fill: #174EA6;\n",
              "    }\n",
              "\n",
              "    [theme=dark] .colab-df-convert {\n",
              "      background-color: #3B4455;\n",
              "      fill: #D2E3FC;\n",
              "    }\n",
              "\n",
              "    [theme=dark] .colab-df-convert:hover {\n",
              "      background-color: #434B5C;\n",
              "      box-shadow: 0px 1px 3px 1px rgba(0, 0, 0, 0.15);\n",
              "      filter: drop-shadow(0px 1px 2px rgba(0, 0, 0, 0.3));\n",
              "      fill: #FFFFFF;\n",
              "    }\n",
              "  </style>\n",
              "\n",
              "      <script>\n",
              "        const buttonEl =\n",
              "          document.querySelector('#df-2b023b76-331d-4548-b570-0d0269704ed8 button.colab-df-convert');\n",
              "        buttonEl.style.display =\n",
              "          google.colab.kernel.accessAllowed ? 'block' : 'none';\n",
              "\n",
              "        async function convertToInteractive(key) {\n",
              "          const element = document.querySelector('#df-2b023b76-331d-4548-b570-0d0269704ed8');\n",
              "          const dataTable =\n",
              "            await google.colab.kernel.invokeFunction('convertToInteractive',\n",
              "                                                     [key], {});\n",
              "          if (!dataTable) return;\n",
              "\n",
              "          const docLinkHtml = 'Like what you see? Visit the ' +\n",
              "            '<a target=\"_blank\" href=https://colab.research.google.com/notebooks/data_table.ipynb>data table notebook</a>'\n",
              "            + ' to learn more about interactive tables.';\n",
              "          element.innerHTML = '';\n",
              "          dataTable['output_type'] = 'display_data';\n",
              "          await google.colab.output.renderOutput(dataTable, element);\n",
              "          const docLink = document.createElement('div');\n",
              "          docLink.innerHTML = docLinkHtml;\n",
              "          element.appendChild(docLink);\n",
              "        }\n",
              "      </script>\n",
              "    </div>\n",
              "  </div>\n",
              "  "
            ],
            "text/plain": [
              "       Unnamed: 0  Temp_degF  ...  Solar_WatPerSqM  Percipitation_in\n",
              "43906       87833     52.916  ...            0.000               0.0\n",
              "43907       87843     52.736  ...            0.001               0.0\n",
              "43908       87853     52.520  ...            0.007               0.0\n",
              "\n",
              "[3 rows x 11 columns]"
            ]
          },
          "metadata": {},
          "execution_count": 17
        }
      ]
    },
    {
      "cell_type": "markdown",
      "metadata": {
        "id": "l1Go00l2sWU8"
      },
      "source": [
        "Display the index & columns:"
      ]
    },
    {
      "cell_type": "code",
      "metadata": {
        "colab": {
          "base_uri": "https://localhost:8080/"
        },
        "id": "BNURSnMMsZ5M",
        "outputId": "454d308f-a9b4-462d-bd9e-bc90cdc0d765"
      },
      "source": [
        "data.index"
      ],
      "execution_count": 18,
      "outputs": [
        {
          "output_type": "execute_result",
          "data": {
            "text/plain": [
              "RangeIndex(start=0, stop=43909, step=1)"
            ]
          },
          "metadata": {},
          "execution_count": 18
        }
      ]
    },
    {
      "cell_type": "code",
      "metadata": {
        "colab": {
          "base_uri": "https://localhost:8080/"
        },
        "id": "wlED3rO-scR4",
        "outputId": "5e7b8bab-0325-45d5-d1e5-9342d732b660"
      },
      "source": [
        "data.columns #it gives the names of columns available in the dataset"
      ],
      "execution_count": 19,
      "outputs": [
        {
          "output_type": "execute_result",
          "data": {
            "text/plain": [
              "Index(['Unnamed: 0', 'Temp_degF', 'Humidity_Pct', 'DewPt_degF', 'Wind_mph',\n",
              "       'WindDir_degNorth', 'Gust_mph', 'GustDir_degNorth', 'Pressure_Hg',\n",
              "       'Solar_WatPerSqM', 'Percipitation_in'],\n",
              "      dtype='object')"
            ]
          },
          "metadata": {},
          "execution_count": 19
        }
      ]
    },
    {
      "cell_type": "markdown",
      "metadata": {
        "id": "W_m0BkufsgFr"
      },
      "source": [
        "describe() shows a quick statistic summary of data:"
      ]
    },
    {
      "cell_type": "code",
      "metadata": {
        "colab": {
          "base_uri": "https://localhost:8080/",
          "height": 300
        },
        "id": "TthahfNashNT",
        "outputId": "552cb2ab-31da-4550-958f-64e02f324b8f"
      },
      "source": [
        "data.describe()# it gives us a brief description of dataset including mean, percentiles min and max"
      ],
      "execution_count": 10,
      "outputs": [
        {
          "output_type": "execute_result",
          "data": {
            "text/html": [
              "\n",
              "  <div id=\"df-1f7ca44d-cb5b-42d6-a1e7-5637975748e7\">\n",
              "    <div class=\"colab-df-container\">\n",
              "      <div>\n",
              "<style scoped>\n",
              "    .dataframe tbody tr th:only-of-type {\n",
              "        vertical-align: middle;\n",
              "    }\n",
              "\n",
              "    .dataframe tbody tr th {\n",
              "        vertical-align: top;\n",
              "    }\n",
              "\n",
              "    .dataframe thead th {\n",
              "        text-align: right;\n",
              "    }\n",
              "</style>\n",
              "<table border=\"1\" class=\"dataframe\">\n",
              "  <thead>\n",
              "    <tr style=\"text-align: right;\">\n",
              "      <th></th>\n",
              "      <th>Unnamed: 0</th>\n",
              "      <th>Temp_degF</th>\n",
              "      <th>Humidity_Pct</th>\n",
              "      <th>DewPt_degF</th>\n",
              "      <th>Wind_mph</th>\n",
              "      <th>WindDir_degNorth</th>\n",
              "      <th>Gust_mph</th>\n",
              "      <th>GustDir_degNorth</th>\n",
              "      <th>Pressure_Hg</th>\n",
              "      <th>Solar_WatPerSqM</th>\n",
              "      <th>Percipitation_in</th>\n",
              "    </tr>\n",
              "  </thead>\n",
              "  <tbody>\n",
              "    <tr>\n",
              "      <th>count</th>\n",
              "      <td>43909.000000</td>\n",
              "      <td>43909.000000</td>\n",
              "      <td>43909.000000</td>\n",
              "      <td>43909.000000</td>\n",
              "      <td>43909.000000</td>\n",
              "      <td>43909.000000</td>\n",
              "      <td>43909.000000</td>\n",
              "      <td>43909.000000</td>\n",
              "      <td>43909.000000</td>\n",
              "      <td>43909.000000</td>\n",
              "      <td>43909.000000</td>\n",
              "    </tr>\n",
              "    <tr>\n",
              "      <th>mean</th>\n",
              "      <td>39506.662507</td>\n",
              "      <td>49.138584</td>\n",
              "      <td>52.954717</td>\n",
              "      <td>29.551331</td>\n",
              "      <td>5.773179</td>\n",
              "      <td>197.948301</td>\n",
              "      <td>11.780584</td>\n",
              "      <td>202.351596</td>\n",
              "      <td>24.844795</td>\n",
              "      <td>168.731054</td>\n",
              "      <td>0.001297</td>\n",
              "    </tr>\n",
              "    <tr>\n",
              "      <th>std</th>\n",
              "      <td>26947.493150</td>\n",
              "      <td>19.782029</td>\n",
              "      <td>22.988665</td>\n",
              "      <td>15.209908</td>\n",
              "      <td>4.728960</td>\n",
              "      <td>105.405794</td>\n",
              "      <td>8.205965</td>\n",
              "      <td>106.817111</td>\n",
              "      <td>0.166925</td>\n",
              "      <td>246.685276</td>\n",
              "      <td>0.014236</td>\n",
              "    </tr>\n",
              "    <tr>\n",
              "      <th>min</th>\n",
              "      <td>1.000000</td>\n",
              "      <td>-21.010000</td>\n",
              "      <td>5.496000</td>\n",
              "      <td>-27.028316</td>\n",
              "      <td>0.000000</td>\n",
              "      <td>0.000000</td>\n",
              "      <td>0.000000</td>\n",
              "      <td>0.000000</td>\n",
              "      <td>24.060394</td>\n",
              "      <td>0.000000</td>\n",
              "      <td>0.000000</td>\n",
              "    </tr>\n",
              "    <tr>\n",
              "      <th>25%</th>\n",
              "      <td>13704.000000</td>\n",
              "      <td>34.777400</td>\n",
              "      <td>32.540000</td>\n",
              "      <td>18.043445</td>\n",
              "      <td>2.771569</td>\n",
              "      <td>119.000000</td>\n",
              "      <td>6.489363</td>\n",
              "      <td>124.000000</td>\n",
              "      <td>24.747144</td>\n",
              "      <td>0.007000</td>\n",
              "      <td>0.000000</td>\n",
              "    </tr>\n",
              "    <tr>\n",
              "      <th>50%</th>\n",
              "      <td>38410.000000</td>\n",
              "      <td>49.550000</td>\n",
              "      <td>53.140000</td>\n",
              "      <td>29.484640</td>\n",
              "      <td>4.426904</td>\n",
              "      <td>185.000000</td>\n",
              "      <td>9.339225</td>\n",
              "      <td>194.000000</td>\n",
              "      <td>24.859771</td>\n",
              "      <td>8.290000</td>\n",
              "      <td>0.000000</td>\n",
              "    </tr>\n",
              "    <tr>\n",
              "      <th>75%</th>\n",
              "      <td>63105.000000</td>\n",
              "      <td>63.374000</td>\n",
              "      <td>72.530000</td>\n",
              "      <td>42.168772</td>\n",
              "      <td>7.111232</td>\n",
              "      <td>302.000000</td>\n",
              "      <td>14.074826</td>\n",
              "      <td>306.000000</td>\n",
              "      <td>24.961237</td>\n",
              "      <td>288.500000</td>\n",
              "      <td>0.000000</td>\n",
              "    </tr>\n",
              "    <tr>\n",
              "      <th>max</th>\n",
              "      <td>87853.000000</td>\n",
              "      <td>101.894000</td>\n",
              "      <td>100.000000</td>\n",
              "      <td>70.996827</td>\n",
              "      <td>46.640199</td>\n",
              "      <td>359.900000</td>\n",
              "      <td>77.040214</td>\n",
              "      <td>359.900000</td>\n",
              "      <td>25.490119</td>\n",
              "      <td>1040.000000</td>\n",
              "      <td>1.240000</td>\n",
              "    </tr>\n",
              "  </tbody>\n",
              "</table>\n",
              "</div>\n",
              "      <button class=\"colab-df-convert\" onclick=\"convertToInteractive('df-1f7ca44d-cb5b-42d6-a1e7-5637975748e7')\"\n",
              "              title=\"Convert this dataframe to an interactive table.\"\n",
              "              style=\"display:none;\">\n",
              "        \n",
              "  <svg xmlns=\"http://www.w3.org/2000/svg\" height=\"24px\"viewBox=\"0 0 24 24\"\n",
              "       width=\"24px\">\n",
              "    <path d=\"M0 0h24v24H0V0z\" fill=\"none\"/>\n",
              "    <path d=\"M18.56 5.44l.94 2.06.94-2.06 2.06-.94-2.06-.94-.94-2.06-.94 2.06-2.06.94zm-11 1L8.5 8.5l.94-2.06 2.06-.94-2.06-.94L8.5 2.5l-.94 2.06-2.06.94zm10 10l.94 2.06.94-2.06 2.06-.94-2.06-.94-.94-2.06-.94 2.06-2.06.94z\"/><path d=\"M17.41 7.96l-1.37-1.37c-.4-.4-.92-.59-1.43-.59-.52 0-1.04.2-1.43.59L10.3 9.45l-7.72 7.72c-.78.78-.78 2.05 0 2.83L4 21.41c.39.39.9.59 1.41.59.51 0 1.02-.2 1.41-.59l7.78-7.78 2.81-2.81c.8-.78.8-2.07 0-2.86zM5.41 20L4 18.59l7.72-7.72 1.47 1.35L5.41 20z\"/>\n",
              "  </svg>\n",
              "      </button>\n",
              "      \n",
              "  <style>\n",
              "    .colab-df-container {\n",
              "      display:flex;\n",
              "      flex-wrap:wrap;\n",
              "      gap: 12px;\n",
              "    }\n",
              "\n",
              "    .colab-df-convert {\n",
              "      background-color: #E8F0FE;\n",
              "      border: none;\n",
              "      border-radius: 50%;\n",
              "      cursor: pointer;\n",
              "      display: none;\n",
              "      fill: #1967D2;\n",
              "      height: 32px;\n",
              "      padding: 0 0 0 0;\n",
              "      width: 32px;\n",
              "    }\n",
              "\n",
              "    .colab-df-convert:hover {\n",
              "      background-color: #E2EBFA;\n",
              "      box-shadow: 0px 1px 2px rgba(60, 64, 67, 0.3), 0px 1px 3px 1px rgba(60, 64, 67, 0.15);\n",
              "      fill: #174EA6;\n",
              "    }\n",
              "\n",
              "    [theme=dark] .colab-df-convert {\n",
              "      background-color: #3B4455;\n",
              "      fill: #D2E3FC;\n",
              "    }\n",
              "\n",
              "    [theme=dark] .colab-df-convert:hover {\n",
              "      background-color: #434B5C;\n",
              "      box-shadow: 0px 1px 3px 1px rgba(0, 0, 0, 0.15);\n",
              "      filter: drop-shadow(0px 1px 2px rgba(0, 0, 0, 0.3));\n",
              "      fill: #FFFFFF;\n",
              "    }\n",
              "  </style>\n",
              "\n",
              "      <script>\n",
              "        const buttonEl =\n",
              "          document.querySelector('#df-1f7ca44d-cb5b-42d6-a1e7-5637975748e7 button.colab-df-convert');\n",
              "        buttonEl.style.display =\n",
              "          google.colab.kernel.accessAllowed ? 'block' : 'none';\n",
              "\n",
              "        async function convertToInteractive(key) {\n",
              "          const element = document.querySelector('#df-1f7ca44d-cb5b-42d6-a1e7-5637975748e7');\n",
              "          const dataTable =\n",
              "            await google.colab.kernel.invokeFunction('convertToInteractive',\n",
              "                                                     [key], {});\n",
              "          if (!dataTable) return;\n",
              "\n",
              "          const docLinkHtml = 'Like what you see? Visit the ' +\n",
              "            '<a target=\"_blank\" href=https://colab.research.google.com/notebooks/data_table.ipynb>data table notebook</a>'\n",
              "            + ' to learn more about interactive tables.';\n",
              "          element.innerHTML = '';\n",
              "          dataTable['output_type'] = 'display_data';\n",
              "          await google.colab.output.renderOutput(dataTable, element);\n",
              "          const docLink = document.createElement('div');\n",
              "          docLink.innerHTML = docLinkHtml;\n",
              "          element.appendChild(docLink);\n",
              "        }\n",
              "      </script>\n",
              "    </div>\n",
              "  </div>\n",
              "  "
            ],
            "text/plain": [
              "         Unnamed: 0     Temp_degF  ...  Solar_WatPerSqM  Percipitation_in\n",
              "count  43909.000000  43909.000000  ...     43909.000000      43909.000000\n",
              "mean   39506.662507     49.138584  ...       168.731054          0.001297\n",
              "std    26947.493150     19.782029  ...       246.685276          0.014236\n",
              "min        1.000000    -21.010000  ...         0.000000          0.000000\n",
              "25%    13704.000000     34.777400  ...         0.007000          0.000000\n",
              "50%    38410.000000     49.550000  ...         8.290000          0.000000\n",
              "75%    63105.000000     63.374000  ...       288.500000          0.000000\n",
              "max    87853.000000    101.894000  ...      1040.000000          1.240000\n",
              "\n",
              "[8 rows x 11 columns]"
            ]
          },
          "metadata": {},
          "execution_count": 10
        }
      ]
    },
    {
      "cell_type": "code",
      "metadata": {
        "id": "W9tsVHQE5QwV"
      },
      "source": [
        "data[\"Humidity_Pct\"].fillna(0, inplace = True) # fills NA or NULL value with 0 if NA present"
      ],
      "execution_count": 11,
      "outputs": []
    },
    {
      "cell_type": "code",
      "metadata": {
        "colab": {
          "base_uri": "https://localhost:8080/",
          "height": 423
        },
        "id": "7pQCTPh05wLT",
        "outputId": "769723e9-9943-4d20-b802-738ec0326aea"
      },
      "source": [
        "data.dropna()#remove missing values in dataframe"
      ],
      "execution_count": 12,
      "outputs": [
        {
          "output_type": "execute_result",
          "data": {
            "text/html": [
              "\n",
              "  <div id=\"df-d8432dd9-ead1-42f5-a18b-32350066afdc\">\n",
              "    <div class=\"colab-df-container\">\n",
              "      <div>\n",
              "<style scoped>\n",
              "    .dataframe tbody tr th:only-of-type {\n",
              "        vertical-align: middle;\n",
              "    }\n",
              "\n",
              "    .dataframe tbody tr th {\n",
              "        vertical-align: top;\n",
              "    }\n",
              "\n",
              "    .dataframe thead th {\n",
              "        text-align: right;\n",
              "    }\n",
              "</style>\n",
              "<table border=\"1\" class=\"dataframe\">\n",
              "  <thead>\n",
              "    <tr style=\"text-align: right;\">\n",
              "      <th></th>\n",
              "      <th>Unnamed: 0</th>\n",
              "      <th>Temp_degF</th>\n",
              "      <th>Humidity_Pct</th>\n",
              "      <th>DewPt_degF</th>\n",
              "      <th>Wind_mph</th>\n",
              "      <th>WindDir_degNorth</th>\n",
              "      <th>Gust_mph</th>\n",
              "      <th>GustDir_degNorth</th>\n",
              "      <th>Pressure_Hg</th>\n",
              "      <th>Solar_WatPerSqM</th>\n",
              "      <th>Percipitation_in</th>\n",
              "    </tr>\n",
              "  </thead>\n",
              "  <tbody>\n",
              "    <tr>\n",
              "      <th>0</th>\n",
              "      <td>1</td>\n",
              "      <td>69.386</td>\n",
              "      <td>33.76</td>\n",
              "      <td>39.643374</td>\n",
              "      <td>13.844422</td>\n",
              "      <td>346.0</td>\n",
              "      <td>24.382646</td>\n",
              "      <td>13.0</td>\n",
              "      <td>24.971779</td>\n",
              "      <td>354.000</td>\n",
              "      <td>0.0</td>\n",
              "    </tr>\n",
              "    <tr>\n",
              "      <th>1</th>\n",
              "      <td>2</td>\n",
              "      <td>73.796</td>\n",
              "      <td>21.90</td>\n",
              "      <td>32.487311</td>\n",
              "      <td>13.379138</td>\n",
              "      <td>327.0</td>\n",
              "      <td>24.069474</td>\n",
              "      <td>329.0</td>\n",
              "      <td>24.955626</td>\n",
              "      <td>486.300</td>\n",
              "      <td>0.0</td>\n",
              "    </tr>\n",
              "    <tr>\n",
              "      <th>2</th>\n",
              "      <td>3</td>\n",
              "      <td>73.346</td>\n",
              "      <td>21.97</td>\n",
              "      <td>32.190600</td>\n",
              "      <td>12.327776</td>\n",
              "      <td>342.0</td>\n",
              "      <td>22.481247</td>\n",
              "      <td>316.0</td>\n",
              "      <td>24.964810</td>\n",
              "      <td>679.600</td>\n",
              "      <td>0.0</td>\n",
              "    </tr>\n",
              "    <tr>\n",
              "      <th>3</th>\n",
              "      <td>4</td>\n",
              "      <td>71.852</td>\n",
              "      <td>23.94</td>\n",
              "      <td>33.071755</td>\n",
              "      <td>9.632264</td>\n",
              "      <td>327.0</td>\n",
              "      <td>18.723188</td>\n",
              "      <td>334.0</td>\n",
              "      <td>24.981967</td>\n",
              "      <td>581.800</td>\n",
              "      <td>0.0</td>\n",
              "    </tr>\n",
              "    <tr>\n",
              "      <th>4</th>\n",
              "      <td>5</td>\n",
              "      <td>69.314</td>\n",
              "      <td>22.36</td>\n",
              "      <td>29.248975</td>\n",
              "      <td>7.384139</td>\n",
              "      <td>313.0</td>\n",
              "      <td>11.925127</td>\n",
              "      <td>302.0</td>\n",
              "      <td>24.993720</td>\n",
              "      <td>450.000</td>\n",
              "      <td>0.0</td>\n",
              "    </tr>\n",
              "    <tr>\n",
              "      <th>...</th>\n",
              "      <td>...</td>\n",
              "      <td>...</td>\n",
              "      <td>...</td>\n",
              "      <td>...</td>\n",
              "      <td>...</td>\n",
              "      <td>...</td>\n",
              "      <td>...</td>\n",
              "      <td>...</td>\n",
              "      <td>...</td>\n",
              "      <td>...</td>\n",
              "      <td>...</td>\n",
              "    </tr>\n",
              "    <tr>\n",
              "      <th>43904</th>\n",
              "      <td>87815</td>\n",
              "      <td>52.754</td>\n",
              "      <td>87.00</td>\n",
              "      <td>48.995780</td>\n",
              "      <td>1.814158</td>\n",
              "      <td>296.0</td>\n",
              "      <td>3.243563</td>\n",
              "      <td>305.0</td>\n",
              "      <td>24.835527</td>\n",
              "      <td>0.000</td>\n",
              "      <td>0.0</td>\n",
              "    </tr>\n",
              "    <tr>\n",
              "      <th>43905</th>\n",
              "      <td>87823</td>\n",
              "      <td>52.700</td>\n",
              "      <td>86.40</td>\n",
              "      <td>48.757548</td>\n",
              "      <td>1.279530</td>\n",
              "      <td>344.0</td>\n",
              "      <td>2.717882</td>\n",
              "      <td>332.0</td>\n",
              "      <td>24.842290</td>\n",
              "      <td>0.005</td>\n",
              "      <td>0.0</td>\n",
              "    </tr>\n",
              "    <tr>\n",
              "      <th>43906</th>\n",
              "      <td>87833</td>\n",
              "      <td>52.916</td>\n",
              "      <td>86.30</td>\n",
              "      <td>48.938861</td>\n",
              "      <td>0.498838</td>\n",
              "      <td>325.0</td>\n",
              "      <td>2.498662</td>\n",
              "      <td>145.0</td>\n",
              "      <td>24.863256</td>\n",
              "      <td>0.000</td>\n",
              "      <td>0.0</td>\n",
              "    </tr>\n",
              "    <tr>\n",
              "      <th>43907</th>\n",
              "      <td>87843</td>\n",
              "      <td>52.736</td>\n",
              "      <td>83.40</td>\n",
              "      <td>47.849849</td>\n",
              "      <td>2.348787</td>\n",
              "      <td>144.0</td>\n",
              "      <td>5.306022</td>\n",
              "      <td>176.0</td>\n",
              "      <td>24.888888</td>\n",
              "      <td>0.001</td>\n",
              "      <td>0.0</td>\n",
              "    </tr>\n",
              "    <tr>\n",
              "      <th>43908</th>\n",
              "      <td>87853</td>\n",
              "      <td>52.520</td>\n",
              "      <td>84.40</td>\n",
              "      <td>47.955768</td>\n",
              "      <td>3.270406</td>\n",
              "      <td>89.0</td>\n",
              "      <td>7.279003</td>\n",
              "      <td>139.0</td>\n",
              "      <td>24.911892</td>\n",
              "      <td>0.007</td>\n",
              "      <td>0.0</td>\n",
              "    </tr>\n",
              "  </tbody>\n",
              "</table>\n",
              "<p>43909 rows × 11 columns</p>\n",
              "</div>\n",
              "      <button class=\"colab-df-convert\" onclick=\"convertToInteractive('df-d8432dd9-ead1-42f5-a18b-32350066afdc')\"\n",
              "              title=\"Convert this dataframe to an interactive table.\"\n",
              "              style=\"display:none;\">\n",
              "        \n",
              "  <svg xmlns=\"http://www.w3.org/2000/svg\" height=\"24px\"viewBox=\"0 0 24 24\"\n",
              "       width=\"24px\">\n",
              "    <path d=\"M0 0h24v24H0V0z\" fill=\"none\"/>\n",
              "    <path d=\"M18.56 5.44l.94 2.06.94-2.06 2.06-.94-2.06-.94-.94-2.06-.94 2.06-2.06.94zm-11 1L8.5 8.5l.94-2.06 2.06-.94-2.06-.94L8.5 2.5l-.94 2.06-2.06.94zm10 10l.94 2.06.94-2.06 2.06-.94-2.06-.94-.94-2.06-.94 2.06-2.06.94z\"/><path d=\"M17.41 7.96l-1.37-1.37c-.4-.4-.92-.59-1.43-.59-.52 0-1.04.2-1.43.59L10.3 9.45l-7.72 7.72c-.78.78-.78 2.05 0 2.83L4 21.41c.39.39.9.59 1.41.59.51 0 1.02-.2 1.41-.59l7.78-7.78 2.81-2.81c.8-.78.8-2.07 0-2.86zM5.41 20L4 18.59l7.72-7.72 1.47 1.35L5.41 20z\"/>\n",
              "  </svg>\n",
              "      </button>\n",
              "      \n",
              "  <style>\n",
              "    .colab-df-container {\n",
              "      display:flex;\n",
              "      flex-wrap:wrap;\n",
              "      gap: 12px;\n",
              "    }\n",
              "\n",
              "    .colab-df-convert {\n",
              "      background-color: #E8F0FE;\n",
              "      border: none;\n",
              "      border-radius: 50%;\n",
              "      cursor: pointer;\n",
              "      display: none;\n",
              "      fill: #1967D2;\n",
              "      height: 32px;\n",
              "      padding: 0 0 0 0;\n",
              "      width: 32px;\n",
              "    }\n",
              "\n",
              "    .colab-df-convert:hover {\n",
              "      background-color: #E2EBFA;\n",
              "      box-shadow: 0px 1px 2px rgba(60, 64, 67, 0.3), 0px 1px 3px 1px rgba(60, 64, 67, 0.15);\n",
              "      fill: #174EA6;\n",
              "    }\n",
              "\n",
              "    [theme=dark] .colab-df-convert {\n",
              "      background-color: #3B4455;\n",
              "      fill: #D2E3FC;\n",
              "    }\n",
              "\n",
              "    [theme=dark] .colab-df-convert:hover {\n",
              "      background-color: #434B5C;\n",
              "      box-shadow: 0px 1px 3px 1px rgba(0, 0, 0, 0.15);\n",
              "      filter: drop-shadow(0px 1px 2px rgba(0, 0, 0, 0.3));\n",
              "      fill: #FFFFFF;\n",
              "    }\n",
              "  </style>\n",
              "\n",
              "      <script>\n",
              "        const buttonEl =\n",
              "          document.querySelector('#df-d8432dd9-ead1-42f5-a18b-32350066afdc button.colab-df-convert');\n",
              "        buttonEl.style.display =\n",
              "          google.colab.kernel.accessAllowed ? 'block' : 'none';\n",
              "\n",
              "        async function convertToInteractive(key) {\n",
              "          const element = document.querySelector('#df-d8432dd9-ead1-42f5-a18b-32350066afdc');\n",
              "          const dataTable =\n",
              "            await google.colab.kernel.invokeFunction('convertToInteractive',\n",
              "                                                     [key], {});\n",
              "          if (!dataTable) return;\n",
              "\n",
              "          const docLinkHtml = 'Like what you see? Visit the ' +\n",
              "            '<a target=\"_blank\" href=https://colab.research.google.com/notebooks/data_table.ipynb>data table notebook</a>'\n",
              "            + ' to learn more about interactive tables.';\n",
              "          element.innerHTML = '';\n",
              "          dataTable['output_type'] = 'display_data';\n",
              "          await google.colab.output.renderOutput(dataTable, element);\n",
              "          const docLink = document.createElement('div');\n",
              "          docLink.innerHTML = docLinkHtml;\n",
              "          element.appendChild(docLink);\n",
              "        }\n",
              "      </script>\n",
              "    </div>\n",
              "  </div>\n",
              "  "
            ],
            "text/plain": [
              "       Unnamed: 0  Temp_degF  ...  Solar_WatPerSqM  Percipitation_in\n",
              "0               1     69.386  ...          354.000               0.0\n",
              "1               2     73.796  ...          486.300               0.0\n",
              "2               3     73.346  ...          679.600               0.0\n",
              "3               4     71.852  ...          581.800               0.0\n",
              "4               5     69.314  ...          450.000               0.0\n",
              "...           ...        ...  ...              ...               ...\n",
              "43904       87815     52.754  ...            0.000               0.0\n",
              "43905       87823     52.700  ...            0.005               0.0\n",
              "43906       87833     52.916  ...            0.000               0.0\n",
              "43907       87843     52.736  ...            0.001               0.0\n",
              "43908       87853     52.520  ...            0.007               0.0\n",
              "\n",
              "[43909 rows x 11 columns]"
            ]
          },
          "metadata": {},
          "execution_count": 12
        }
      ]
    },
    {
      "cell_type": "code",
      "metadata": {
        "colab": {
          "base_uri": "https://localhost:8080/"
        },
        "id": "0zO2RCQPslvk",
        "outputId": "51c7766e-6d36-4bb8-c081-c9e6419eda40"
      },
      "source": [
        "data.Humidity_Pct.describe()#Describes the details of asingle column"
      ],
      "execution_count": 20,
      "outputs": [
        {
          "output_type": "execute_result",
          "data": {
            "text/plain": [
              "count    43909.000000\n",
              "mean        52.954717\n",
              "std         22.988665\n",
              "min          5.496000\n",
              "25%         32.540000\n",
              "50%         53.140000\n",
              "75%         72.530000\n",
              "max        100.000000\n",
              "Name: Humidity_Pct, dtype: float64"
            ]
          },
          "metadata": {},
          "execution_count": 20
        }
      ]
    },
    {
      "cell_type": "code",
      "metadata": {
        "colab": {
          "base_uri": "https://localhost:8080/"
        },
        "id": "oC59W8vhsn8y",
        "outputId": "21178031-3831-4618-80a9-fa0e156c94e1"
      },
      "source": [
        "data.Wind_mph.median()#median of the column Wind_mph"
      ],
      "execution_count": 21,
      "outputs": [
        {
          "output_type": "execute_result",
          "data": {
            "text/plain": [
              "4.42690426"
            ]
          },
          "metadata": {},
          "execution_count": 21
        }
      ]
    },
    {
      "cell_type": "code",
      "metadata": {
        "colab": {
          "base_uri": "https://localhost:8080/"
        },
        "id": "1b3wnJTDso1I",
        "outputId": "b93e2878-f631-41a5-e5a9-81f6a8ccbd20"
      },
      "source": [
        "data.Wind_mph.max()"
      ],
      "execution_count": 22,
      "outputs": [
        {
          "output_type": "execute_result",
          "data": {
            "text/plain": [
              "46.640198999999996"
            ]
          },
          "metadata": {},
          "execution_count": 22
        }
      ]
    },
    {
      "cell_type": "code",
      "metadata": {
        "colab": {
          "base_uri": "https://localhost:8080/"
        },
        "id": "s80ekWESsqul",
        "outputId": "4acee9c2-9eab-40e5-d2b4-02dbc9455899"
      },
      "source": [
        "data.Gust_mph.sum()"
      ],
      "execution_count": 23,
      "outputs": [
        {
          "output_type": "execute_result",
          "data": {
            "text/plain": [
              "517273.64733832"
            ]
          },
          "metadata": {},
          "execution_count": 23
        }
      ]
    },
    {
      "cell_type": "code",
      "metadata": {
        "colab": {
          "base_uri": "https://localhost:8080/"
        },
        "id": "XmQsTqncQ70M",
        "outputId": "8ad7f423-e7b5-462e-e357-5051a328a1c3"
      },
      "source": [
        "data[\"Wind_mph\"].duplicated() # it gives boolean values true if the element is unique false if the element repeats"
      ],
      "execution_count": null,
      "outputs": [
        {
          "output_type": "execute_result",
          "data": {
            "text/plain": [
              "0        False\n",
              "1        False\n",
              "2        False\n",
              "3        False\n",
              "4        False\n",
              "         ...  \n",
              "43904     True\n",
              "43905     True\n",
              "43906     True\n",
              "43907     True\n",
              "43908     True\n",
              "Name: Wind_mph, Length: 43909, dtype: bool"
            ]
          },
          "metadata": {
            "tags": []
          },
          "execution_count": 20
        }
      ]
    },
    {
      "cell_type": "code",
      "metadata": {
        "colab": {
          "base_uri": "https://localhost:8080/"
        },
        "id": "enpTUSB5Rusw",
        "outputId": "0c8235e7-41dd-4a46-a624-a973f4e5069a"
      },
      "source": [
        "data[\"Wind_mph\"].count()#number non empty or non-NA rows in a column"
      ],
      "execution_count": null,
      "outputs": [
        {
          "output_type": "execute_result",
          "data": {
            "text/plain": [
              "43909"
            ]
          },
          "metadata": {
            "tags": []
          },
          "execution_count": 22
        }
      ]
    },
    {
      "cell_type": "code",
      "metadata": {
        "colab": {
          "base_uri": "https://localhost:8080/"
        },
        "id": "jmvrr84Kst-C",
        "outputId": "6bdeebfd-c66f-46dd-cd39-64efe89bb6e3"
      },
      "source": [
        "data.Wind_mph - data.Wind_mph.mean()# finding the difference between the elements and mean in a column"
      ],
      "execution_count": null,
      "outputs": [
        {
          "output_type": "execute_result",
          "data": {
            "text/plain": [
              "0        8.071243\n",
              "1        7.605959\n",
              "2        6.554598\n",
              "3        3.859085\n",
              "4        1.610960\n",
              "           ...   \n",
              "43904   -3.959020\n",
              "43905   -4.493649\n",
              "43906   -5.274341\n",
              "43907   -3.424392\n",
              "43908   -2.502772\n",
              "Name: Wind_mph, Length: 43909, dtype: float64"
            ]
          },
          "metadata": {
            "tags": []
          },
          "execution_count": 21
        }
      ]
    },
    {
      "cell_type": "markdown",
      "metadata": {
        "id": "IBORKmqfsjjn"
      },
      "source": [
        "<a id='transposing'></a>\n",
        "## Transposing your data:"
      ]
    },
    {
      "cell_type": "code",
      "metadata": {
        "colab": {
          "base_uri": "https://localhost:8080/",
          "height": 439
        },
        "id": "xq4ua0BasylG",
        "outputId": "371c416b-5d34-4e40-fda4-905c368c7c6a"
      },
      "source": [
        "data.T #transposed the dataframe"
      ],
      "execution_count": null,
      "outputs": [
        {
          "output_type": "execute_result",
          "data": {
            "text/html": [
              "<div>\n",
              "<style scoped>\n",
              "    .dataframe tbody tr th:only-of-type {\n",
              "        vertical-align: middle;\n",
              "    }\n",
              "\n",
              "    .dataframe tbody tr th {\n",
              "        vertical-align: top;\n",
              "    }\n",
              "\n",
              "    .dataframe thead th {\n",
              "        text-align: right;\n",
              "    }\n",
              "</style>\n",
              "<table border=\"1\" class=\"dataframe\">\n",
              "  <thead>\n",
              "    <tr style=\"text-align: right;\">\n",
              "      <th></th>\n",
              "      <th>0</th>\n",
              "      <th>1</th>\n",
              "      <th>2</th>\n",
              "      <th>3</th>\n",
              "      <th>4</th>\n",
              "      <th>5</th>\n",
              "      <th>6</th>\n",
              "      <th>7</th>\n",
              "      <th>8</th>\n",
              "      <th>9</th>\n",
              "      <th>10</th>\n",
              "      <th>11</th>\n",
              "      <th>12</th>\n",
              "      <th>13</th>\n",
              "      <th>14</th>\n",
              "      <th>15</th>\n",
              "      <th>16</th>\n",
              "      <th>17</th>\n",
              "      <th>18</th>\n",
              "      <th>19</th>\n",
              "      <th>20</th>\n",
              "      <th>21</th>\n",
              "      <th>22</th>\n",
              "      <th>23</th>\n",
              "      <th>24</th>\n",
              "      <th>25</th>\n",
              "      <th>26</th>\n",
              "      <th>27</th>\n",
              "      <th>28</th>\n",
              "      <th>29</th>\n",
              "      <th>30</th>\n",
              "      <th>31</th>\n",
              "      <th>32</th>\n",
              "      <th>33</th>\n",
              "      <th>34</th>\n",
              "      <th>35</th>\n",
              "      <th>36</th>\n",
              "      <th>37</th>\n",
              "      <th>38</th>\n",
              "      <th>39</th>\n",
              "      <th>...</th>\n",
              "      <th>43869</th>\n",
              "      <th>43870</th>\n",
              "      <th>43871</th>\n",
              "      <th>43872</th>\n",
              "      <th>43873</th>\n",
              "      <th>43874</th>\n",
              "      <th>43875</th>\n",
              "      <th>43876</th>\n",
              "      <th>43877</th>\n",
              "      <th>43878</th>\n",
              "      <th>43879</th>\n",
              "      <th>43880</th>\n",
              "      <th>43881</th>\n",
              "      <th>43882</th>\n",
              "      <th>43883</th>\n",
              "      <th>43884</th>\n",
              "      <th>43885</th>\n",
              "      <th>43886</th>\n",
              "      <th>43887</th>\n",
              "      <th>43888</th>\n",
              "      <th>43889</th>\n",
              "      <th>43890</th>\n",
              "      <th>43891</th>\n",
              "      <th>43892</th>\n",
              "      <th>43893</th>\n",
              "      <th>43894</th>\n",
              "      <th>43895</th>\n",
              "      <th>43896</th>\n",
              "      <th>43897</th>\n",
              "      <th>43898</th>\n",
              "      <th>43899</th>\n",
              "      <th>43900</th>\n",
              "      <th>43901</th>\n",
              "      <th>43902</th>\n",
              "      <th>43903</th>\n",
              "      <th>43904</th>\n",
              "      <th>43905</th>\n",
              "      <th>43906</th>\n",
              "      <th>43907</th>\n",
              "      <th>43908</th>\n",
              "    </tr>\n",
              "  </thead>\n",
              "  <tbody>\n",
              "    <tr>\n",
              "      <th>Unnamed: 0</th>\n",
              "      <td>1.000000</td>\n",
              "      <td>2.000000</td>\n",
              "      <td>3.000000</td>\n",
              "      <td>4.000000</td>\n",
              "      <td>5.000000</td>\n",
              "      <td>6.000000</td>\n",
              "      <td>7.000000</td>\n",
              "      <td>8.000000</td>\n",
              "      <td>9.000000</td>\n",
              "      <td>10.000000</td>\n",
              "      <td>11.000000</td>\n",
              "      <td>12.000000</td>\n",
              "      <td>13.000000</td>\n",
              "      <td>14.000000</td>\n",
              "      <td>15.000000</td>\n",
              "      <td>16.000000</td>\n",
              "      <td>17.000000</td>\n",
              "      <td>18.000000</td>\n",
              "      <td>19.000000</td>\n",
              "      <td>20.000000</td>\n",
              "      <td>21.000000</td>\n",
              "      <td>22.000000</td>\n",
              "      <td>23.000000</td>\n",
              "      <td>24.000000</td>\n",
              "      <td>25.000000</td>\n",
              "      <td>26.000000</td>\n",
              "      <td>27.000000</td>\n",
              "      <td>28.000000</td>\n",
              "      <td>29.000000</td>\n",
              "      <td>30.000000</td>\n",
              "      <td>31.000000</td>\n",
              "      <td>32.000000</td>\n",
              "      <td>33.000000</td>\n",
              "      <td>34.000000</td>\n",
              "      <td>35.000000</td>\n",
              "      <td>36.000000</td>\n",
              "      <td>37.000000</td>\n",
              "      <td>38.000000</td>\n",
              "      <td>39.000000</td>\n",
              "      <td>40.000000</td>\n",
              "      <td>...</td>\n",
              "      <td>87464.000000</td>\n",
              "      <td>87474.000000</td>\n",
              "      <td>87484.000000</td>\n",
              "      <td>87494.000000</td>\n",
              "      <td>87504.000000</td>\n",
              "      <td>87517.000000</td>\n",
              "      <td>87524.000000</td>\n",
              "      <td>87534.000000</td>\n",
              "      <td>87544.000000</td>\n",
              "      <td>87554.000000</td>\n",
              "      <td>87564.000000</td>\n",
              "      <td>87574.000000</td>\n",
              "      <td>87584.000000</td>\n",
              "      <td>87594.000000</td>\n",
              "      <td>87604.000000</td>\n",
              "      <td>87617.000000</td>\n",
              "      <td>87624.000000</td>\n",
              "      <td>87634.000000</td>\n",
              "      <td>87644.000000</td>\n",
              "      <td>87654.000000</td>\n",
              "      <td>87664.000000</td>\n",
              "      <td>87674.000000</td>\n",
              "      <td>87684.000000</td>\n",
              "      <td>87694.000000</td>\n",
              "      <td>87704.000000</td>\n",
              "      <td>87717.000000</td>\n",
              "      <td>87724.000000</td>\n",
              "      <td>87734.000000</td>\n",
              "      <td>87743.000000</td>\n",
              "      <td>87753.000000</td>\n",
              "      <td>87763.000000</td>\n",
              "      <td>87773.000000</td>\n",
              "      <td>87783.000000</td>\n",
              "      <td>87793.000000</td>\n",
              "      <td>87803.000000</td>\n",
              "      <td>87815.000000</td>\n",
              "      <td>87823.000000</td>\n",
              "      <td>87833.000000</td>\n",
              "      <td>87843.000000</td>\n",
              "      <td>87853.000000</td>\n",
              "    </tr>\n",
              "    <tr>\n",
              "      <th>Temp_degF</th>\n",
              "      <td>69.386000</td>\n",
              "      <td>73.796000</td>\n",
              "      <td>73.346000</td>\n",
              "      <td>71.852000</td>\n",
              "      <td>69.314000</td>\n",
              "      <td>60.584000</td>\n",
              "      <td>53.852000</td>\n",
              "      <td>48.992000</td>\n",
              "      <td>48.002000</td>\n",
              "      <td>48.830000</td>\n",
              "      <td>50.702000</td>\n",
              "      <td>52.034000</td>\n",
              "      <td>52.646000</td>\n",
              "      <td>57.344000</td>\n",
              "      <td>57.938000</td>\n",
              "      <td>60.962000</td>\n",
              "      <td>62.690000</td>\n",
              "      <td>65.696000</td>\n",
              "      <td>71.420000</td>\n",
              "      <td>74.930000</td>\n",
              "      <td>75.182000</td>\n",
              "      <td>74.174000</td>\n",
              "      <td>72.104000</td>\n",
              "      <td>70.088000</td>\n",
              "      <td>68.396000</td>\n",
              "      <td>65.786000</td>\n",
              "      <td>62.600000</td>\n",
              "      <td>58.586000</td>\n",
              "      <td>54.788000</td>\n",
              "      <td>50.504000</td>\n",
              "      <td>45.201200</td>\n",
              "      <td>39.358400</td>\n",
              "      <td>40.674200</td>\n",
              "      <td>42.026000</td>\n",
              "      <td>42.675800</td>\n",
              "      <td>44.236400</td>\n",
              "      <td>44.774600</td>\n",
              "      <td>45.678200</td>\n",
              "      <td>50.342000</td>\n",
              "      <td>54.374000</td>\n",
              "      <td>...</td>\n",
              "      <td>71.186000</td>\n",
              "      <td>70.322000</td>\n",
              "      <td>68.684000</td>\n",
              "      <td>66.650000</td>\n",
              "      <td>64.940000</td>\n",
              "      <td>63.248000</td>\n",
              "      <td>60.332000</td>\n",
              "      <td>55.274000</td>\n",
              "      <td>49.532000</td>\n",
              "      <td>39.209000</td>\n",
              "      <td>38.123600</td>\n",
              "      <td>40.748000</td>\n",
              "      <td>42.618200</td>\n",
              "      <td>43.192400</td>\n",
              "      <td>44.978000</td>\n",
              "      <td>48.128000</td>\n",
              "      <td>49.496000</td>\n",
              "      <td>49.640000</td>\n",
              "      <td>50.090000</td>\n",
              "      <td>50.216000</td>\n",
              "      <td>50.018000</td>\n",
              "      <td>50.630000</td>\n",
              "      <td>50.738000</td>\n",
              "      <td>51.386000</td>\n",
              "      <td>52.628000</td>\n",
              "      <td>53.960000</td>\n",
              "      <td>67.316000</td>\n",
              "      <td>66.308000</td>\n",
              "      <td>62.726000</td>\n",
              "      <td>62.024000</td>\n",
              "      <td>60.206000</td>\n",
              "      <td>58.082000</td>\n",
              "      <td>55.058000</td>\n",
              "      <td>53.924000</td>\n",
              "      <td>52.988000</td>\n",
              "      <td>52.754000</td>\n",
              "      <td>52.700000</td>\n",
              "      <td>52.916000</td>\n",
              "      <td>52.736000</td>\n",
              "      <td>52.520000</td>\n",
              "    </tr>\n",
              "    <tr>\n",
              "      <th>Humidity_Pct</th>\n",
              "      <td>33.760000</td>\n",
              "      <td>21.900000</td>\n",
              "      <td>21.970000</td>\n",
              "      <td>23.940000</td>\n",
              "      <td>22.360000</td>\n",
              "      <td>28.080000</td>\n",
              "      <td>48.650000</td>\n",
              "      <td>58.550000</td>\n",
              "      <td>45.290000</td>\n",
              "      <td>53.970000</td>\n",
              "      <td>54.140000</td>\n",
              "      <td>47.330000</td>\n",
              "      <td>68.460000</td>\n",
              "      <td>50.630000</td>\n",
              "      <td>57.080000</td>\n",
              "      <td>51.120000</td>\n",
              "      <td>45.020000</td>\n",
              "      <td>47.600000</td>\n",
              "      <td>43.690000</td>\n",
              "      <td>29.210000</td>\n",
              "      <td>25.970000</td>\n",
              "      <td>24.930000</td>\n",
              "      <td>23.650000</td>\n",
              "      <td>26.120000</td>\n",
              "      <td>26.090000</td>\n",
              "      <td>28.630000</td>\n",
              "      <td>45.240000</td>\n",
              "      <td>49.900000</td>\n",
              "      <td>52.080000</td>\n",
              "      <td>61.480000</td>\n",
              "      <td>68.080000</td>\n",
              "      <td>75.840000</td>\n",
              "      <td>83.800000</td>\n",
              "      <td>75.000000</td>\n",
              "      <td>79.430000</td>\n",
              "      <td>78.680000</td>\n",
              "      <td>73.190000</td>\n",
              "      <td>80.100000</td>\n",
              "      <td>69.710000</td>\n",
              "      <td>48.840000</td>\n",
              "      <td>...</td>\n",
              "      <td>19.540000</td>\n",
              "      <td>22.720000</td>\n",
              "      <td>24.610000</td>\n",
              "      <td>25.730000</td>\n",
              "      <td>25.590000</td>\n",
              "      <td>23.430000</td>\n",
              "      <td>26.770000</td>\n",
              "      <td>36.080000</td>\n",
              "      <td>48.820000</td>\n",
              "      <td>59.990000</td>\n",
              "      <td>75.700000</td>\n",
              "      <td>65.840000</td>\n",
              "      <td>53.890000</td>\n",
              "      <td>58.490000</td>\n",
              "      <td>61.550000</td>\n",
              "      <td>51.710000</td>\n",
              "      <td>51.980000</td>\n",
              "      <td>52.340000</td>\n",
              "      <td>60.150000</td>\n",
              "      <td>62.100000</td>\n",
              "      <td>64.870000</td>\n",
              "      <td>67.680000</td>\n",
              "      <td>65.210000</td>\n",
              "      <td>67.210000</td>\n",
              "      <td>72.570000</td>\n",
              "      <td>72.840000</td>\n",
              "      <td>47.840000</td>\n",
              "      <td>47.370000</td>\n",
              "      <td>55.860000</td>\n",
              "      <td>65.160000</td>\n",
              "      <td>67.050000</td>\n",
              "      <td>67.580000</td>\n",
              "      <td>76.120000</td>\n",
              "      <td>79.890000</td>\n",
              "      <td>82.300000</td>\n",
              "      <td>87.000000</td>\n",
              "      <td>86.400000</td>\n",
              "      <td>86.300000</td>\n",
              "      <td>83.400000</td>\n",
              "      <td>84.400000</td>\n",
              "    </tr>\n",
              "    <tr>\n",
              "      <th>DewPt_degF</th>\n",
              "      <td>39.643374</td>\n",
              "      <td>32.487311</td>\n",
              "      <td>32.190600</td>\n",
              "      <td>33.071755</td>\n",
              "      <td>29.248975</td>\n",
              "      <td>27.378424</td>\n",
              "      <td>34.961878</td>\n",
              "      <td>35.101924</td>\n",
              "      <td>27.830947</td>\n",
              "      <td>32.911414</td>\n",
              "      <td>34.733475</td>\n",
              "      <td>32.604540</td>\n",
              "      <td>42.566955</td>\n",
              "      <td>39.191979</td>\n",
              "      <td>42.842077</td>\n",
              "      <td>42.781876</td>\n",
              "      <td>41.069805</td>\n",
              "      <td>45.266697</td>\n",
              "      <td>48.205385</td>\n",
              "      <td>40.745140</td>\n",
              "      <td>37.946322</td>\n",
              "      <td>36.053037</td>\n",
              "      <td>32.980652</td>\n",
              "      <td>33.750153</td>\n",
              "      <td>32.277497</td>\n",
              "      <td>32.344613</td>\n",
              "      <td>41.113875</td>\n",
              "      <td>39.964741</td>\n",
              "      <td>37.548781</td>\n",
              "      <td>37.762756</td>\n",
              "      <td>35.302822</td>\n",
              "      <td>32.377614</td>\n",
              "      <td>36.161074</td>\n",
              "      <td>34.682218</td>\n",
              "      <td>36.760716</td>\n",
              "      <td>38.038410</td>\n",
              "      <td>36.721287</td>\n",
              "      <td>39.900096</td>\n",
              "      <td>40.829397</td>\n",
              "      <td>35.540108</td>\n",
              "      <td>...</td>\n",
              "      <td>27.517541</td>\n",
              "      <td>30.487248</td>\n",
              "      <td>31.076076</td>\n",
              "      <td>30.444195</td>\n",
              "      <td>28.852144</td>\n",
              "      <td>25.277690</td>\n",
              "      <td>26.005035</td>\n",
              "      <td>28.836701</td>\n",
              "      <td>31.073898</td>\n",
              "      <td>26.487523</td>\n",
              "      <td>31.135487</td>\n",
              "      <td>30.217134</td>\n",
              "      <td>27.087801</td>\n",
              "      <td>29.623518</td>\n",
              "      <td>32.567256</td>\n",
              "      <td>31.197869</td>\n",
              "      <td>32.595186</td>\n",
              "      <td>32.900539</td>\n",
              "      <td>36.816345</td>\n",
              "      <td>37.745908</td>\n",
              "      <td>38.671450</td>\n",
              "      <td>40.342990</td>\n",
              "      <td>39.490159</td>\n",
              "      <td>40.885299</td>\n",
              "      <td>44.071501</td>\n",
              "      <td>45.452061</td>\n",
              "      <td>46.882603</td>\n",
              "      <td>45.699024</td>\n",
              "      <td>46.748938</td>\n",
              "      <td>50.200330</td>\n",
              "      <td>49.237634</td>\n",
              "      <td>47.421309</td>\n",
              "      <td>47.678886</td>\n",
              "      <td>47.864614</td>\n",
              "      <td>47.742815</td>\n",
              "      <td>48.995780</td>\n",
              "      <td>48.757548</td>\n",
              "      <td>48.938861</td>\n",
              "      <td>47.849849</td>\n",
              "      <td>47.955768</td>\n",
              "    </tr>\n",
              "    <tr>\n",
              "      <th>Wind_mph</th>\n",
              "      <td>13.844422</td>\n",
              "      <td>13.379138</td>\n",
              "      <td>12.327776</td>\n",
              "      <td>9.632264</td>\n",
              "      <td>7.384139</td>\n",
              "      <td>5.608009</td>\n",
              "      <td>3.500811</td>\n",
              "      <td>2.183253</td>\n",
              "      <td>2.263783</td>\n",
              "      <td>2.796175</td>\n",
              "      <td>5.650510</td>\n",
              "      <td>5.809333</td>\n",
              "      <td>5.095749</td>\n",
              "      <td>4.596912</td>\n",
              "      <td>5.992762</td>\n",
              "      <td>5.462607</td>\n",
              "      <td>5.578928</td>\n",
              "      <td>6.039738</td>\n",
              "      <td>4.813895</td>\n",
              "      <td>6.073292</td>\n",
              "      <td>3.771481</td>\n",
              "      <td>3.585815</td>\n",
              "      <td>5.196412</td>\n",
              "      <td>6.771217</td>\n",
              "      <td>7.811394</td>\n",
              "      <td>7.509408</td>\n",
              "      <td>5.722093</td>\n",
              "      <td>3.860958</td>\n",
              "      <td>1.892451</td>\n",
              "      <td>1.856660</td>\n",
              "      <td>1.418220</td>\n",
              "      <td>2.771569</td>\n",
              "      <td>1.937190</td>\n",
              "      <td>4.073468</td>\n",
              "      <td>4.151761</td>\n",
              "      <td>5.889863</td>\n",
              "      <td>5.786964</td>\n",
              "      <td>3.503048</td>\n",
              "      <td>1.738102</td>\n",
              "      <td>2.581429</td>\n",
              "      <td>...</td>\n",
              "      <td>6.968068</td>\n",
              "      <td>10.039387</td>\n",
              "      <td>12.359094</td>\n",
              "      <td>15.383436</td>\n",
              "      <td>16.593621</td>\n",
              "      <td>15.629500</td>\n",
              "      <td>8.847098</td>\n",
              "      <td>3.907934</td>\n",
              "      <td>4.308346</td>\n",
              "      <td>4.518619</td>\n",
              "      <td>7.466906</td>\n",
              "      <td>6.290275</td>\n",
              "      <td>7.925478</td>\n",
              "      <td>8.820254</td>\n",
              "      <td>8.712881</td>\n",
              "      <td>12.453045</td>\n",
              "      <td>15.188823</td>\n",
              "      <td>13.844422</td>\n",
              "      <td>15.014341</td>\n",
              "      <td>16.061229</td>\n",
              "      <td>14.871177</td>\n",
              "      <td>13.495459</td>\n",
              "      <td>20.289046</td>\n",
              "      <td>13.723627</td>\n",
              "      <td>13.815341</td>\n",
              "      <td>15.533311</td>\n",
              "      <td>10.558357</td>\n",
              "      <td>9.853721</td>\n",
              "      <td>12.186849</td>\n",
              "      <td>9.079739</td>\n",
              "      <td>4.811658</td>\n",
              "      <td>6.630290</td>\n",
              "      <td>4.889951</td>\n",
              "      <td>3.373306</td>\n",
              "      <td>2.037852</td>\n",
              "      <td>1.814158</td>\n",
              "      <td>1.279530</td>\n",
              "      <td>0.498838</td>\n",
              "      <td>2.348787</td>\n",
              "      <td>3.270406</td>\n",
              "    </tr>\n",
              "    <tr>\n",
              "      <th>WindDir_degNorth</th>\n",
              "      <td>346.000000</td>\n",
              "      <td>327.000000</td>\n",
              "      <td>342.000000</td>\n",
              "      <td>327.000000</td>\n",
              "      <td>313.000000</td>\n",
              "      <td>304.000000</td>\n",
              "      <td>273.000000</td>\n",
              "      <td>290.000000</td>\n",
              "      <td>338.000000</td>\n",
              "      <td>261.000000</td>\n",
              "      <td>53.000000</td>\n",
              "      <td>296.000000</td>\n",
              "      <td>350.000000</td>\n",
              "      <td>246.000000</td>\n",
              "      <td>303.000000</td>\n",
              "      <td>241.000000</td>\n",
              "      <td>263.000000</td>\n",
              "      <td>291.000000</td>\n",
              "      <td>316.000000</td>\n",
              "      <td>340.000000</td>\n",
              "      <td>7.000000</td>\n",
              "      <td>87.000000</td>\n",
              "      <td>306.000000</td>\n",
              "      <td>145.000000</td>\n",
              "      <td>133.000000</td>\n",
              "      <td>178.000000</td>\n",
              "      <td>132.000000</td>\n",
              "      <td>66.000000</td>\n",
              "      <td>87.000000</td>\n",
              "      <td>337.000000</td>\n",
              "      <td>126.000000</td>\n",
              "      <td>14.000000</td>\n",
              "      <td>5.000000</td>\n",
              "      <td>336.000000</td>\n",
              "      <td>306.000000</td>\n",
              "      <td>315.000000</td>\n",
              "      <td>310.000000</td>\n",
              "      <td>294.000000</td>\n",
              "      <td>283.000000</td>\n",
              "      <td>113.000000</td>\n",
              "      <td>...</td>\n",
              "      <td>158.000000</td>\n",
              "      <td>71.000000</td>\n",
              "      <td>40.000000</td>\n",
              "      <td>13.000000</td>\n",
              "      <td>9.000000</td>\n",
              "      <td>350.000000</td>\n",
              "      <td>331.000000</td>\n",
              "      <td>197.000000</td>\n",
              "      <td>359.000000</td>\n",
              "      <td>351.000000</td>\n",
              "      <td>322.000000</td>\n",
              "      <td>4.000000</td>\n",
              "      <td>10.000000</td>\n",
              "      <td>349.000000</td>\n",
              "      <td>309.000000</td>\n",
              "      <td>327.000000</td>\n",
              "      <td>328.000000</td>\n",
              "      <td>317.000000</td>\n",
              "      <td>346.000000</td>\n",
              "      <td>351.000000</td>\n",
              "      <td>356.000000</td>\n",
              "      <td>1.000000</td>\n",
              "      <td>351.000000</td>\n",
              "      <td>326.000000</td>\n",
              "      <td>340.000000</td>\n",
              "      <td>345.000000</td>\n",
              "      <td>286.000000</td>\n",
              "      <td>342.000000</td>\n",
              "      <td>344.000000</td>\n",
              "      <td>295.000000</td>\n",
              "      <td>345.000000</td>\n",
              "      <td>344.000000</td>\n",
              "      <td>355.000000</td>\n",
              "      <td>328.000000</td>\n",
              "      <td>258.000000</td>\n",
              "      <td>296.000000</td>\n",
              "      <td>344.000000</td>\n",
              "      <td>325.000000</td>\n",
              "      <td>144.000000</td>\n",
              "      <td>89.000000</td>\n",
              "    </tr>\n",
              "    <tr>\n",
              "      <th>Gust_mph</th>\n",
              "      <td>24.382646</td>\n",
              "      <td>24.069474</td>\n",
              "      <td>22.481247</td>\n",
              "      <td>18.723188</td>\n",
              "      <td>11.925127</td>\n",
              "      <td>14.774989</td>\n",
              "      <td>8.549585</td>\n",
              "      <td>5.435764</td>\n",
              "      <td>4.778104</td>\n",
              "      <td>6.970305</td>\n",
              "      <td>9.251984</td>\n",
              "      <td>10.873765</td>\n",
              "      <td>8.330365</td>\n",
              "      <td>11.135487</td>\n",
              "      <td>10.873765</td>\n",
              "      <td>7.189525</td>\n",
              "      <td>7.279003</td>\n",
              "      <td>7.759945</td>\n",
              "      <td>7.234264</td>\n",
              "      <td>11.005745</td>\n",
              "      <td>12.101845</td>\n",
              "      <td>9.251984</td>\n",
              "      <td>15.081449</td>\n",
              "      <td>14.862229</td>\n",
              "      <td>14.994209</td>\n",
              "      <td>16.090309</td>\n",
              "      <td>11.444185</td>\n",
              "      <td>8.681564</td>\n",
              "      <td>5.699723</td>\n",
              "      <td>5.786964</td>\n",
              "      <td>4.252423</td>\n",
              "      <td>5.654984</td>\n",
              "      <td>3.682003</td>\n",
              "      <td>7.804684</td>\n",
              "      <td>7.936663</td>\n",
              "      <td>10.303346</td>\n",
              "      <td>8.198385</td>\n",
              "      <td>9.120004</td>\n",
              "      <td>5.348524</td>\n",
              "      <td>5.918943</td>\n",
              "      <td>...</td>\n",
              "      <td>15.696608</td>\n",
              "      <td>20.825911</td>\n",
              "      <td>20.289046</td>\n",
              "      <td>25.948504</td>\n",
              "      <td>26.306414</td>\n",
              "      <td>23.062851</td>\n",
              "      <td>25.657702</td>\n",
              "      <td>11.180226</td>\n",
              "      <td>8.813544</td>\n",
              "      <td>7.759945</td>\n",
              "      <td>11.750646</td>\n",
              "      <td>10.084126</td>\n",
              "      <td>14.774989</td>\n",
              "      <td>12.012368</td>\n",
              "      <td>14.906968</td>\n",
              "      <td>20.512740</td>\n",
              "      <td>27.760425</td>\n",
              "      <td>26.574847</td>\n",
              "      <td>24.852403</td>\n",
              "      <td>27.357776</td>\n",
              "      <td>23.420762</td>\n",
              "      <td>21.385146</td>\n",
              "      <td>33.106712</td>\n",
              "      <td>29.236806</td>\n",
              "      <td>22.190445</td>\n",
              "      <td>30.042104</td>\n",
              "      <td>31.563223</td>\n",
              "      <td>17.273651</td>\n",
              "      <td>19.125837</td>\n",
              "      <td>15.081449</td>\n",
              "      <td>10.128864</td>\n",
              "      <td>10.786525</td>\n",
              "      <td>7.759945</td>\n",
              "      <td>6.270143</td>\n",
              "      <td>5.042063</td>\n",
              "      <td>3.243563</td>\n",
              "      <td>2.717882</td>\n",
              "      <td>2.498662</td>\n",
              "      <td>5.306022</td>\n",
              "      <td>7.279003</td>\n",
              "    </tr>\n",
              "    <tr>\n",
              "      <th>GustDir_degNorth</th>\n",
              "      <td>13.000000</td>\n",
              "      <td>329.000000</td>\n",
              "      <td>316.000000</td>\n",
              "      <td>334.000000</td>\n",
              "      <td>302.000000</td>\n",
              "      <td>296.000000</td>\n",
              "      <td>241.000000</td>\n",
              "      <td>343.000000</td>\n",
              "      <td>350.000000</td>\n",
              "      <td>19.000000</td>\n",
              "      <td>291.000000</td>\n",
              "      <td>303.000000</td>\n",
              "      <td>353.000000</td>\n",
              "      <td>297.000000</td>\n",
              "      <td>336.000000</td>\n",
              "      <td>238.000000</td>\n",
              "      <td>287.000000</td>\n",
              "      <td>316.000000</td>\n",
              "      <td>5.000000</td>\n",
              "      <td>8.000000</td>\n",
              "      <td>99.000000</td>\n",
              "      <td>83.000000</td>\n",
              "      <td>121.000000</td>\n",
              "      <td>130.000000</td>\n",
              "      <td>136.000000</td>\n",
              "      <td>131.000000</td>\n",
              "      <td>138.000000</td>\n",
              "      <td>90.000000</td>\n",
              "      <td>323.000000</td>\n",
              "      <td>12.000000</td>\n",
              "      <td>325.000000</td>\n",
              "      <td>335.000000</td>\n",
              "      <td>342.000000</td>\n",
              "      <td>289.000000</td>\n",
              "      <td>315.000000</td>\n",
              "      <td>329.000000</td>\n",
              "      <td>299.000000</td>\n",
              "      <td>350.000000</td>\n",
              "      <td>208.000000</td>\n",
              "      <td>133.000000</td>\n",
              "      <td>...</td>\n",
              "      <td>58.000000</td>\n",
              "      <td>358.000000</td>\n",
              "      <td>23.000000</td>\n",
              "      <td>12.000000</td>\n",
              "      <td>10.000000</td>\n",
              "      <td>347.000000</td>\n",
              "      <td>313.000000</td>\n",
              "      <td>219.000000</td>\n",
              "      <td>337.000000</td>\n",
              "      <td>349.000000</td>\n",
              "      <td>12.000000</td>\n",
              "      <td>359.000000</td>\n",
              "      <td>332.000000</td>\n",
              "      <td>355.000000</td>\n",
              "      <td>322.000000</td>\n",
              "      <td>300.000000</td>\n",
              "      <td>314.000000</td>\n",
              "      <td>316.000000</td>\n",
              "      <td>333.000000</td>\n",
              "      <td>315.000000</td>\n",
              "      <td>348.000000</td>\n",
              "      <td>340.000000</td>\n",
              "      <td>329.000000</td>\n",
              "      <td>332.000000</td>\n",
              "      <td>328.000000</td>\n",
              "      <td>295.000000</td>\n",
              "      <td>293.000000</td>\n",
              "      <td>326.000000</td>\n",
              "      <td>331.000000</td>\n",
              "      <td>298.000000</td>\n",
              "      <td>352.000000</td>\n",
              "      <td>344.000000</td>\n",
              "      <td>311.000000</td>\n",
              "      <td>332.000000</td>\n",
              "      <td>249.000000</td>\n",
              "      <td>305.000000</td>\n",
              "      <td>332.000000</td>\n",
              "      <td>145.000000</td>\n",
              "      <td>176.000000</td>\n",
              "      <td>139.000000</td>\n",
              "    </tr>\n",
              "    <tr>\n",
              "      <th>Pressure_Hg</th>\n",
              "      <td>24.971779</td>\n",
              "      <td>24.955626</td>\n",
              "      <td>24.964810</td>\n",
              "      <td>24.981967</td>\n",
              "      <td>24.993720</td>\n",
              "      <td>24.998710</td>\n",
              "      <td>24.991328</td>\n",
              "      <td>24.959790</td>\n",
              "      <td>24.958402</td>\n",
              "      <td>24.966463</td>\n",
              "      <td>24.957250</td>\n",
              "      <td>24.954179</td>\n",
              "      <td>24.940566</td>\n",
              "      <td>24.949572</td>\n",
              "      <td>24.948627</td>\n",
              "      <td>24.940713</td>\n",
              "      <td>24.927690</td>\n",
              "      <td>24.920101</td>\n",
              "      <td>24.901497</td>\n",
              "      <td>24.913959</td>\n",
              "      <td>24.956246</td>\n",
              "      <td>24.916764</td>\n",
              "      <td>24.920485</td>\n",
              "      <td>24.995373</td>\n",
              "      <td>25.028270</td>\n",
              "      <td>25.063617</td>\n",
              "      <td>25.089308</td>\n",
              "      <td>25.111810</td>\n",
              "      <td>25.156400</td>\n",
              "      <td>25.072033</td>\n",
              "      <td>25.128613</td>\n",
              "      <td>25.167651</td>\n",
              "      <td>25.225471</td>\n",
              "      <td>25.237342</td>\n",
              "      <td>25.239941</td>\n",
              "      <td>25.245492</td>\n",
              "      <td>25.248859</td>\n",
              "      <td>25.249213</td>\n",
              "      <td>25.247028</td>\n",
              "      <td>25.231643</td>\n",
              "      <td>...</td>\n",
              "      <td>24.884104</td>\n",
              "      <td>24.896271</td>\n",
              "      <td>24.912807</td>\n",
              "      <td>24.934541</td>\n",
              "      <td>24.952880</td>\n",
              "      <td>24.962861</td>\n",
              "      <td>24.976444</td>\n",
              "      <td>24.988877</td>\n",
              "      <td>24.989969</td>\n",
              "      <td>24.988906</td>\n",
              "      <td>24.971749</td>\n",
              "      <td>24.963245</td>\n",
              "      <td>24.963540</td>\n",
              "      <td>24.969032</td>\n",
              "      <td>24.973432</td>\n",
              "      <td>24.975411</td>\n",
              "      <td>24.981878</td>\n",
              "      <td>24.971188</td>\n",
              "      <td>24.933715</td>\n",
              "      <td>24.918950</td>\n",
              "      <td>24.911744</td>\n",
              "      <td>24.889006</td>\n",
              "      <td>24.876958</td>\n",
              "      <td>24.839425</td>\n",
              "      <td>24.818282</td>\n",
              "      <td>24.791469</td>\n",
              "      <td>24.766161</td>\n",
              "      <td>24.792709</td>\n",
              "      <td>24.806824</td>\n",
              "      <td>24.814325</td>\n",
              "      <td>24.823066</td>\n",
              "      <td>24.824365</td>\n",
              "      <td>24.821944</td>\n",
              "      <td>24.826580</td>\n",
              "      <td>24.836797</td>\n",
              "      <td>24.835527</td>\n",
              "      <td>24.842290</td>\n",
              "      <td>24.863256</td>\n",
              "      <td>24.888888</td>\n",
              "      <td>24.911892</td>\n",
              "    </tr>\n",
              "    <tr>\n",
              "      <th>Solar_WatPerSqM</th>\n",
              "      <td>354.000000</td>\n",
              "      <td>486.300000</td>\n",
              "      <td>679.600000</td>\n",
              "      <td>581.800000</td>\n",
              "      <td>450.000000</td>\n",
              "      <td>242.100000</td>\n",
              "      <td>111.700000</td>\n",
              "      <td>9.320000</td>\n",
              "      <td>0.000000</td>\n",
              "      <td>0.000000</td>\n",
              "      <td>0.000000</td>\n",
              "      <td>0.000000</td>\n",
              "      <td>0.000000</td>\n",
              "      <td>0.000000</td>\n",
              "      <td>0.000000</td>\n",
              "      <td>0.032000</td>\n",
              "      <td>5.164000</td>\n",
              "      <td>52.280000</td>\n",
              "      <td>171.400000</td>\n",
              "      <td>437.500000</td>\n",
              "      <td>651.100000</td>\n",
              "      <td>788.600000</td>\n",
              "      <td>880.000000</td>\n",
              "      <td>923.000000</td>\n",
              "      <td>935.000000</td>\n",
              "      <td>898.000000</td>\n",
              "      <td>801.000000</td>\n",
              "      <td>659.400000</td>\n",
              "      <td>488.200000</td>\n",
              "      <td>303.500000</td>\n",
              "      <td>127.700000</td>\n",
              "      <td>9.250000</td>\n",
              "      <td>0.001000</td>\n",
              "      <td>0.000000</td>\n",
              "      <td>0.000000</td>\n",
              "      <td>0.000000</td>\n",
              "      <td>0.000000</td>\n",
              "      <td>0.000000</td>\n",
              "      <td>0.000000</td>\n",
              "      <td>0.016000</td>\n",
              "      <td>...</td>\n",
              "      <td>802.000000</td>\n",
              "      <td>907.000000</td>\n",
              "      <td>959.000000</td>\n",
              "      <td>964.000000</td>\n",
              "      <td>918.000000</td>\n",
              "      <td>821.000000</td>\n",
              "      <td>670.600000</td>\n",
              "      <td>498.800000</td>\n",
              "      <td>315.400000</td>\n",
              "      <td>94.100000</td>\n",
              "      <td>5.461000</td>\n",
              "      <td>0.000000</td>\n",
              "      <td>0.000000</td>\n",
              "      <td>0.000000</td>\n",
              "      <td>0.000000</td>\n",
              "      <td>0.000000</td>\n",
              "      <td>0.000000</td>\n",
              "      <td>0.000000</td>\n",
              "      <td>0.000000</td>\n",
              "      <td>4.431000</td>\n",
              "      <td>23.740000</td>\n",
              "      <td>90.100000</td>\n",
              "      <td>77.100000</td>\n",
              "      <td>29.430000</td>\n",
              "      <td>27.830000</td>\n",
              "      <td>25.090000</td>\n",
              "      <td>406.400000</td>\n",
              "      <td>499.300000</td>\n",
              "      <td>427.400000</td>\n",
              "      <td>428.900000</td>\n",
              "      <td>429.100000</td>\n",
              "      <td>256.000000</td>\n",
              "      <td>81.600000</td>\n",
              "      <td>37.940000</td>\n",
              "      <td>2.289000</td>\n",
              "      <td>0.000000</td>\n",
              "      <td>0.005000</td>\n",
              "      <td>0.000000</td>\n",
              "      <td>0.001000</td>\n",
              "      <td>0.007000</td>\n",
              "    </tr>\n",
              "    <tr>\n",
              "      <th>Percipitation_in</th>\n",
              "      <td>0.000000</td>\n",
              "      <td>0.000000</td>\n",
              "      <td>0.000000</td>\n",
              "      <td>0.000000</td>\n",
              "      <td>0.000000</td>\n",
              "      <td>0.000000</td>\n",
              "      <td>0.000000</td>\n",
              "      <td>0.000000</td>\n",
              "      <td>0.000000</td>\n",
              "      <td>0.000000</td>\n",
              "      <td>0.000000</td>\n",
              "      <td>0.000000</td>\n",
              "      <td>0.000000</td>\n",
              "      <td>0.000000</td>\n",
              "      <td>0.000000</td>\n",
              "      <td>0.000000</td>\n",
              "      <td>0.000000</td>\n",
              "      <td>0.000000</td>\n",
              "      <td>0.000000</td>\n",
              "      <td>0.000000</td>\n",
              "      <td>0.000000</td>\n",
              "      <td>0.000000</td>\n",
              "      <td>0.000000</td>\n",
              "      <td>0.000000</td>\n",
              "      <td>0.000000</td>\n",
              "      <td>0.000000</td>\n",
              "      <td>0.000000</td>\n",
              "      <td>0.000000</td>\n",
              "      <td>0.000000</td>\n",
              "      <td>0.000000</td>\n",
              "      <td>0.000000</td>\n",
              "      <td>0.000000</td>\n",
              "      <td>0.000000</td>\n",
              "      <td>0.000000</td>\n",
              "      <td>0.000000</td>\n",
              "      <td>0.000000</td>\n",
              "      <td>0.000000</td>\n",
              "      <td>0.000000</td>\n",
              "      <td>0.000000</td>\n",
              "      <td>0.000000</td>\n",
              "      <td>...</td>\n",
              "      <td>0.000000</td>\n",
              "      <td>0.000000</td>\n",
              "      <td>0.000000</td>\n",
              "      <td>0.000000</td>\n",
              "      <td>0.000000</td>\n",
              "      <td>0.000000</td>\n",
              "      <td>0.000000</td>\n",
              "      <td>0.000000</td>\n",
              "      <td>0.000000</td>\n",
              "      <td>0.000000</td>\n",
              "      <td>0.000000</td>\n",
              "      <td>0.000000</td>\n",
              "      <td>0.000000</td>\n",
              "      <td>0.000000</td>\n",
              "      <td>0.000000</td>\n",
              "      <td>0.000000</td>\n",
              "      <td>0.000000</td>\n",
              "      <td>0.000000</td>\n",
              "      <td>0.000000</td>\n",
              "      <td>0.000000</td>\n",
              "      <td>0.000000</td>\n",
              "      <td>0.000000</td>\n",
              "      <td>0.000000</td>\n",
              "      <td>0.020000</td>\n",
              "      <td>0.060000</td>\n",
              "      <td>0.110000</td>\n",
              "      <td>0.000000</td>\n",
              "      <td>0.000000</td>\n",
              "      <td>0.000000</td>\n",
              "      <td>0.000000</td>\n",
              "      <td>0.000000</td>\n",
              "      <td>0.000000</td>\n",
              "      <td>0.000000</td>\n",
              "      <td>0.000000</td>\n",
              "      <td>0.000000</td>\n",
              "      <td>0.000000</td>\n",
              "      <td>0.000000</td>\n",
              "      <td>0.000000</td>\n",
              "      <td>0.000000</td>\n",
              "      <td>0.000000</td>\n",
              "    </tr>\n",
              "  </tbody>\n",
              "</table>\n",
              "<p>11 rows × 43909 columns</p>\n",
              "</div>"
            ],
            "text/plain": [
              "                       0           1      ...         43907         43908\n",
              "Unnamed: 0          1.000000    2.000000  ...  87843.000000  87853.000000\n",
              "Temp_degF          69.386000   73.796000  ...     52.736000     52.520000\n",
              "Humidity_Pct       33.760000   21.900000  ...     83.400000     84.400000\n",
              "DewPt_degF         39.643374   32.487311  ...     47.849849     47.955768\n",
              "Wind_mph           13.844422   13.379138  ...      2.348787      3.270406\n",
              "WindDir_degNorth  346.000000  327.000000  ...    144.000000     89.000000\n",
              "Gust_mph           24.382646   24.069474  ...      5.306022      7.279003\n",
              "GustDir_degNorth   13.000000  329.000000  ...    176.000000    139.000000\n",
              "Pressure_Hg        24.971779   24.955626  ...     24.888888     24.911892\n",
              "Solar_WatPerSqM   354.000000  486.300000  ...      0.001000      0.007000\n",
              "Percipitation_in    0.000000    0.000000  ...      0.000000      0.000000\n",
              "\n",
              "[11 rows x 43909 columns]"
            ]
          },
          "metadata": {
            "tags": []
          },
          "execution_count": 44
        }
      ]
    },
    {
      "cell_type": "markdown",
      "metadata": {
        "id": "-oJdk2izs74G"
      },
      "source": [
        "Sorting by values:"
      ]
    },
    {
      "cell_type": "code",
      "metadata": {
        "colab": {
          "base_uri": "https://localhost:8080/",
          "height": 419
        },
        "id": "usUXYrwps469",
        "outputId": "1950ca14-cba4-4b43-dff0-c3bc10239882"
      },
      "source": [
        "data.sort_values(by='Temp_degF') #Sorting the dataframe based on the values of 'Temp_degF'"
      ],
      "execution_count": null,
      "outputs": [
        {
          "output_type": "execute_result",
          "data": {
            "text/html": [
              "<div>\n",
              "<style scoped>\n",
              "    .dataframe tbody tr th:only-of-type {\n",
              "        vertical-align: middle;\n",
              "    }\n",
              "\n",
              "    .dataframe tbody tr th {\n",
              "        vertical-align: top;\n",
              "    }\n",
              "\n",
              "    .dataframe thead th {\n",
              "        text-align: right;\n",
              "    }\n",
              "</style>\n",
              "<table border=\"1\" class=\"dataframe\">\n",
              "  <thead>\n",
              "    <tr style=\"text-align: right;\">\n",
              "      <th></th>\n",
              "      <th>Unnamed: 0</th>\n",
              "      <th>Temp_degF</th>\n",
              "      <th>Humidity_Pct</th>\n",
              "      <th>DewPt_degF</th>\n",
              "      <th>Wind_mph</th>\n",
              "      <th>WindDir_degNorth</th>\n",
              "      <th>Gust_mph</th>\n",
              "      <th>GustDir_degNorth</th>\n",
              "      <th>Pressure_Hg</th>\n",
              "      <th>Solar_WatPerSqM</th>\n",
              "      <th>Percipitation_in</th>\n",
              "    </tr>\n",
              "  </thead>\n",
              "  <tbody>\n",
              "    <tr>\n",
              "      <th>38961</th>\n",
              "      <td>38384</td>\n",
              "      <td>-21.010</td>\n",
              "      <td>72.690</td>\n",
              "      <td>-27.028316</td>\n",
              "      <td>2.751436</td>\n",
              "      <td>353.0</td>\n",
              "      <td>5.174042</td>\n",
              "      <td>356.0</td>\n",
              "      <td>25.033260</td>\n",
              "      <td>0.059</td>\n",
              "      <td>0.0</td>\n",
              "    </tr>\n",
              "    <tr>\n",
              "      <th>38960</th>\n",
              "      <td>38374</td>\n",
              "      <td>-20.110</td>\n",
              "      <td>71.920</td>\n",
              "      <td>-26.354849</td>\n",
              "      <td>0.968595</td>\n",
              "      <td>251.0</td>\n",
              "      <td>6.402122</td>\n",
              "      <td>354.0</td>\n",
              "      <td>25.027472</td>\n",
              "      <td>0.064</td>\n",
              "      <td>0.0</td>\n",
              "    </tr>\n",
              "    <tr>\n",
              "      <th>38962</th>\n",
              "      <td>38394</td>\n",
              "      <td>-19.084</td>\n",
              "      <td>69.080</td>\n",
              "      <td>-26.115211</td>\n",
              "      <td>2.035615</td>\n",
              "      <td>339.0</td>\n",
              "      <td>5.786964</td>\n",
              "      <td>340.0</td>\n",
              "      <td>25.048261</td>\n",
              "      <td>0.011</td>\n",
              "      <td>0.0</td>\n",
              "    </tr>\n",
              "    <tr>\n",
              "      <th>38958</th>\n",
              "      <td>38354</td>\n",
              "      <td>-18.994</td>\n",
              "      <td>74.900</td>\n",
              "      <td>-24.512114</td>\n",
              "      <td>1.284004</td>\n",
              "      <td>352.0</td>\n",
              "      <td>4.339664</td>\n",
              "      <td>351.0</td>\n",
              "      <td>24.991859</td>\n",
              "      <td>0.058</td>\n",
              "      <td>0.0</td>\n",
              "    </tr>\n",
              "    <tr>\n",
              "      <th>38959</th>\n",
              "      <td>38364</td>\n",
              "      <td>-18.760</td>\n",
              "      <td>73.550</td>\n",
              "      <td>-24.627157</td>\n",
              "      <td>2.404710</td>\n",
              "      <td>195.0</td>\n",
              "      <td>5.261283</td>\n",
              "      <td>161.0</td>\n",
              "      <td>25.001132</td>\n",
              "      <td>0.049</td>\n",
              "      <td>0.0</td>\n",
              "    </tr>\n",
              "    <tr>\n",
              "      <th>...</th>\n",
              "      <td>...</td>\n",
              "      <td>...</td>\n",
              "      <td>...</td>\n",
              "      <td>...</td>\n",
              "      <td>...</td>\n",
              "      <td>...</td>\n",
              "      <td>...</td>\n",
              "      <td>...</td>\n",
              "      <td>...</td>\n",
              "      <td>...</td>\n",
              "      <td>...</td>\n",
              "    </tr>\n",
              "    <tr>\n",
              "      <th>8352</th>\n",
              "      <td>8353</td>\n",
              "      <td>98.438</td>\n",
              "      <td>6.170</td>\n",
              "      <td>20.888919</td>\n",
              "      <td>10.603096</td>\n",
              "      <td>191.0</td>\n",
              "      <td>34.381768</td>\n",
              "      <td>245.0</td>\n",
              "      <td>24.715695</td>\n",
              "      <td>816.000</td>\n",
              "      <td>0.0</td>\n",
              "    </tr>\n",
              "    <tr>\n",
              "      <th>8349</th>\n",
              "      <td>8350</td>\n",
              "      <td>98.744</td>\n",
              "      <td>10.250</td>\n",
              "      <td>33.425518</td>\n",
              "      <td>9.075266</td>\n",
              "      <td>129.0</td>\n",
              "      <td>18.902143</td>\n",
              "      <td>140.0</td>\n",
              "      <td>24.652382</td>\n",
              "      <td>543.500</td>\n",
              "      <td>0.0</td>\n",
              "    </tr>\n",
              "    <tr>\n",
              "      <th>26035</th>\n",
              "      <td>84802</td>\n",
              "      <td>99.392</td>\n",
              "      <td>9.000</td>\n",
              "      <td>30.686329</td>\n",
              "      <td>7.489275</td>\n",
              "      <td>311.0</td>\n",
              "      <td>19.237684</td>\n",
              "      <td>244.0</td>\n",
              "      <td>24.767224</td>\n",
              "      <td>484.300</td>\n",
              "      <td>0.0</td>\n",
              "    </tr>\n",
              "    <tr>\n",
              "      <th>8351</th>\n",
              "      <td>8352</td>\n",
              "      <td>99.590</td>\n",
              "      <td>6.001</td>\n",
              "      <td>21.057898</td>\n",
              "      <td>14.698933</td>\n",
              "      <td>191.0</td>\n",
              "      <td>30.131582</td>\n",
              "      <td>204.0</td>\n",
              "      <td>24.693104</td>\n",
              "      <td>836.000</td>\n",
              "      <td>0.0</td>\n",
              "    </tr>\n",
              "    <tr>\n",
              "      <th>8350</th>\n",
              "      <td>8351</td>\n",
              "      <td>101.894</td>\n",
              "      <td>7.348</td>\n",
              "      <td>27.567659</td>\n",
              "      <td>13.694547</td>\n",
              "      <td>175.0</td>\n",
              "      <td>27.805164</td>\n",
              "      <td>178.0</td>\n",
              "      <td>24.671252</td>\n",
              "      <td>1015.000</td>\n",
              "      <td>0.0</td>\n",
              "    </tr>\n",
              "  </tbody>\n",
              "</table>\n",
              "<p>43909 rows × 11 columns</p>\n",
              "</div>"
            ],
            "text/plain": [
              "       Unnamed: 0  Temp_degF  ...  Solar_WatPerSqM  Percipitation_in\n",
              "38961       38384    -21.010  ...            0.059               0.0\n",
              "38960       38374    -20.110  ...            0.064               0.0\n",
              "38962       38394    -19.084  ...            0.011               0.0\n",
              "38958       38354    -18.994  ...            0.058               0.0\n",
              "38959       38364    -18.760  ...            0.049               0.0\n",
              "...           ...        ...  ...              ...               ...\n",
              "8352         8353     98.438  ...          816.000               0.0\n",
              "8349         8350     98.744  ...          543.500               0.0\n",
              "26035       84802     99.392  ...          484.300               0.0\n",
              "8351         8352     99.590  ...          836.000               0.0\n",
              "8350         8351    101.894  ...         1015.000               0.0\n",
              "\n",
              "[43909 rows x 11 columns]"
            ]
          },
          "metadata": {
            "tags": []
          },
          "execution_count": 45
        }
      ]
    },
    {
      "cell_type": "code",
      "metadata": {
        "colab": {
          "base_uri": "https://localhost:8080/",
          "height": 142
        },
        "id": "bOFzbJpjs-dZ",
        "outputId": "d0e69fa4-7c40-4013-ac1c-f298f149f494"
      },
      "source": [
        "cols = ['Wind_mph', 'Humidity_Pct', 'Pressure_Hg']\n",
        "labels = [5, 8, 10]\n",
        "df1 = data.loc[labels, cols] #printing the datapoints in the given columns and indices\n",
        "df1"
      ],
      "execution_count": null,
      "outputs": [
        {
          "output_type": "execute_result",
          "data": {
            "text/html": [
              "<div>\n",
              "<style scoped>\n",
              "    .dataframe tbody tr th:only-of-type {\n",
              "        vertical-align: middle;\n",
              "    }\n",
              "\n",
              "    .dataframe tbody tr th {\n",
              "        vertical-align: top;\n",
              "    }\n",
              "\n",
              "    .dataframe thead th {\n",
              "        text-align: right;\n",
              "    }\n",
              "</style>\n",
              "<table border=\"1\" class=\"dataframe\">\n",
              "  <thead>\n",
              "    <tr style=\"text-align: right;\">\n",
              "      <th></th>\n",
              "      <th>Wind_mph</th>\n",
              "      <th>Humidity_Pct</th>\n",
              "      <th>Pressure_Hg</th>\n",
              "    </tr>\n",
              "  </thead>\n",
              "  <tbody>\n",
              "    <tr>\n",
              "      <th>5</th>\n",
              "      <td>5.608009</td>\n",
              "      <td>28.08</td>\n",
              "      <td>24.998710</td>\n",
              "    </tr>\n",
              "    <tr>\n",
              "      <th>8</th>\n",
              "      <td>2.263783</td>\n",
              "      <td>45.29</td>\n",
              "      <td>24.958402</td>\n",
              "    </tr>\n",
              "    <tr>\n",
              "      <th>10</th>\n",
              "      <td>5.650510</td>\n",
              "      <td>54.14</td>\n",
              "      <td>24.957250</td>\n",
              "    </tr>\n",
              "  </tbody>\n",
              "</table>\n",
              "</div>"
            ],
            "text/plain": [
              "    Wind_mph  Humidity_Pct  Pressure_Hg\n",
              "5   5.608009         28.08    24.998710\n",
              "8   2.263783         45.29    24.958402\n",
              "10  5.650510         54.14    24.957250"
            ]
          },
          "metadata": {
            "tags": []
          },
          "execution_count": 46
        }
      ]
    },
    {
      "cell_type": "markdown",
      "metadata": {
        "id": "Q1EVkm21tD3C"
      },
      "source": [
        "<a id='selection'></a>\n",
        "## Selection"
      ]
    },
    {
      "cell_type": "code",
      "source": [
        "data['Wind_mph']"
      ],
      "metadata": {
        "colab": {
          "base_uri": "https://localhost:8080/"
        },
        "id": "pxUTZWKR6-zq",
        "outputId": "c5c1d48f-ac70-4240-d791-267d64955d60"
      },
      "execution_count": 25,
      "outputs": [
        {
          "output_type": "execute_result",
          "data": {
            "text/plain": [
              "0        13.844422\n",
              "1        13.379138\n",
              "2        12.327776\n",
              "3         9.632264\n",
              "4         7.384139\n",
              "           ...    \n",
              "43904     1.814158\n",
              "43905     1.279530\n",
              "43906     0.498838\n",
              "43907     2.348787\n",
              "43908     3.270406\n",
              "Name: Wind_mph, Length: 43909, dtype: float64"
            ]
          },
          "metadata": {},
          "execution_count": 25
        }
      ]
    },
    {
      "cell_type": "code",
      "metadata": {
        "colab": {
          "base_uri": "https://localhost:8080/",
          "height": 235
        },
        "id": "p3w_Lz0KtBW0",
        "outputId": "352f692d-1537-4833-8c33-33a65f70c29a"
      },
      "source": [
        "s = pd.Series(['a', 'b', 'c', 'd', 'e', 'f'])\n",
        "df = pd.DataFrame(np.random.randn(6, 4), index=[s], columns=list('ABCD'))#creating a random dataset\n",
        "df"
      ],
      "execution_count": null,
      "outputs": [
        {
          "output_type": "execute_result",
          "data": {
            "text/html": [
              "<div>\n",
              "<style scoped>\n",
              "    .dataframe tbody tr th:only-of-type {\n",
              "        vertical-align: middle;\n",
              "    }\n",
              "\n",
              "    .dataframe tbody tr th {\n",
              "        vertical-align: top;\n",
              "    }\n",
              "\n",
              "    .dataframe thead th {\n",
              "        text-align: right;\n",
              "    }\n",
              "</style>\n",
              "<table border=\"1\" class=\"dataframe\">\n",
              "  <thead>\n",
              "    <tr style=\"text-align: right;\">\n",
              "      <th></th>\n",
              "      <th>A</th>\n",
              "      <th>B</th>\n",
              "      <th>C</th>\n",
              "      <th>D</th>\n",
              "    </tr>\n",
              "  </thead>\n",
              "  <tbody>\n",
              "    <tr>\n",
              "      <th>a</th>\n",
              "      <td>-0.324034</td>\n",
              "      <td>0.446027</td>\n",
              "      <td>-1.607552</td>\n",
              "      <td>1.060978</td>\n",
              "    </tr>\n",
              "    <tr>\n",
              "      <th>b</th>\n",
              "      <td>-0.434785</td>\n",
              "      <td>0.728309</td>\n",
              "      <td>0.123118</td>\n",
              "      <td>-1.504256</td>\n",
              "    </tr>\n",
              "    <tr>\n",
              "      <th>c</th>\n",
              "      <td>-0.067661</td>\n",
              "      <td>0.731788</td>\n",
              "      <td>1.660296</td>\n",
              "      <td>-0.184330</td>\n",
              "    </tr>\n",
              "    <tr>\n",
              "      <th>d</th>\n",
              "      <td>-0.970029</td>\n",
              "      <td>-0.301610</td>\n",
              "      <td>1.778262</td>\n",
              "      <td>1.813318</td>\n",
              "    </tr>\n",
              "    <tr>\n",
              "      <th>e</th>\n",
              "      <td>0.855229</td>\n",
              "      <td>0.725125</td>\n",
              "      <td>-0.171005</td>\n",
              "      <td>1.205488</td>\n",
              "    </tr>\n",
              "    <tr>\n",
              "      <th>f</th>\n",
              "      <td>-0.224886</td>\n",
              "      <td>-0.414456</td>\n",
              "      <td>-1.334235</td>\n",
              "      <td>-1.039449</td>\n",
              "    </tr>\n",
              "  </tbody>\n",
              "</table>\n",
              "</div>"
            ],
            "text/plain": [
              "          A         B         C         D\n",
              "a -0.324034  0.446027 -1.607552  1.060978\n",
              "b -0.434785  0.728309  0.123118 -1.504256\n",
              "c -0.067661  0.731788  1.660296 -0.184330\n",
              "d -0.970029 -0.301610  1.778262  1.813318\n",
              "e  0.855229  0.725125 -0.171005  1.205488\n",
              "f -0.224886 -0.414456 -1.334235 -1.039449"
            ]
          },
          "metadata": {
            "tags": []
          },
          "execution_count": 47
        }
      ]
    },
    {
      "cell_type": "markdown",
      "metadata": {
        "id": "YKKaKE4XtLkQ"
      },
      "source": [
        "Selecting a single column, which yields a Series, equivalent to df.A:"
      ]
    },
    {
      "cell_type": "code",
      "metadata": {
        "colab": {
          "base_uri": "https://localhost:8080/"
        },
        "id": "0rXeySWftM4i",
        "outputId": "4e20db96-2751-407e-df31-e2d67ec3268c"
      },
      "source": [
        "df['A']"
      ],
      "execution_count": null,
      "outputs": [
        {
          "output_type": "execute_result",
          "data": {
            "text/plain": [
              "a   -0.324034\n",
              "b   -0.434785\n",
              "c   -0.067661\n",
              "d   -0.970029\n",
              "e    0.855229\n",
              "f   -0.224886\n",
              "Name: A, dtype: float64"
            ]
          },
          "metadata": {
            "tags": []
          },
          "execution_count": 48
        }
      ]
    },
    {
      "cell_type": "markdown",
      "metadata": {
        "id": "8N2wNw5ptR4r"
      },
      "source": [
        "Selecting via [ ], which slices the rows."
      ]
    },
    {
      "cell_type": "code",
      "metadata": {
        "colab": {
          "base_uri": "https://localhost:8080/",
          "height": 142
        },
        "id": "2VakRigXtTLx",
        "outputId": "bbfeb496-3fec-47f4-cd1f-db9e6a7d40cb"
      },
      "source": [
        "df[0:3]"
      ],
      "execution_count": null,
      "outputs": [
        {
          "output_type": "execute_result",
          "data": {
            "text/html": [
              "<div>\n",
              "<style scoped>\n",
              "    .dataframe tbody tr th:only-of-type {\n",
              "        vertical-align: middle;\n",
              "    }\n",
              "\n",
              "    .dataframe tbody tr th {\n",
              "        vertical-align: top;\n",
              "    }\n",
              "\n",
              "    .dataframe thead th {\n",
              "        text-align: right;\n",
              "    }\n",
              "</style>\n",
              "<table border=\"1\" class=\"dataframe\">\n",
              "  <thead>\n",
              "    <tr style=\"text-align: right;\">\n",
              "      <th></th>\n",
              "      <th>A</th>\n",
              "      <th>B</th>\n",
              "      <th>C</th>\n",
              "      <th>D</th>\n",
              "    </tr>\n",
              "  </thead>\n",
              "  <tbody>\n",
              "    <tr>\n",
              "      <th>a</th>\n",
              "      <td>-0.324034</td>\n",
              "      <td>0.446027</td>\n",
              "      <td>-1.607552</td>\n",
              "      <td>1.060978</td>\n",
              "    </tr>\n",
              "    <tr>\n",
              "      <th>b</th>\n",
              "      <td>-0.434785</td>\n",
              "      <td>0.728309</td>\n",
              "      <td>0.123118</td>\n",
              "      <td>-1.504256</td>\n",
              "    </tr>\n",
              "    <tr>\n",
              "      <th>c</th>\n",
              "      <td>-0.067661</td>\n",
              "      <td>0.731788</td>\n",
              "      <td>1.660296</td>\n",
              "      <td>-0.184330</td>\n",
              "    </tr>\n",
              "  </tbody>\n",
              "</table>\n",
              "</div>"
            ],
            "text/plain": [
              "          A         B         C         D\n",
              "a -0.324034  0.446027 -1.607552  1.060978\n",
              "b -0.434785  0.728309  0.123118 -1.504256\n",
              "c -0.067661  0.731788  1.660296 -0.184330"
            ]
          },
          "metadata": {
            "tags": []
          },
          "execution_count": 49
        }
      ]
    },
    {
      "cell_type": "markdown",
      "metadata": {
        "id": "vgE7cOTFtXcs"
      },
      "source": [
        "Select via the position of the passed integers:"
      ]
    },
    {
      "cell_type": "code",
      "metadata": {
        "colab": {
          "base_uri": "https://localhost:8080/"
        },
        "id": "x3FRWMKvtVeB",
        "outputId": "95611f7f-3cd0-41b8-e276-821ab5ae798d"
      },
      "source": [
        "data.iloc[3]"
      ],
      "execution_count": 26,
      "outputs": [
        {
          "output_type": "execute_result",
          "data": {
            "text/plain": [
              "Unnamed: 0            4.000000\n",
              "Temp_degF            71.852000\n",
              "Humidity_Pct         23.940000\n",
              "DewPt_degF           33.071755\n",
              "Wind_mph              9.632264\n",
              "WindDir_degNorth    327.000000\n",
              "Gust_mph             18.723188\n",
              "GustDir_degNorth    334.000000\n",
              "Pressure_Hg          24.981967\n",
              "Solar_WatPerSqM     581.800000\n",
              "Percipitation_in      0.000000\n",
              "Name: 3, dtype: float64"
            ]
          },
          "metadata": {},
          "execution_count": 26
        }
      ]
    },
    {
      "cell_type": "markdown",
      "metadata": {
        "id": "WaxtZynitb-m"
      },
      "source": [
        "By integer slices, acting similar to numpy/python:"
      ]
    },
    {
      "cell_type": "code",
      "metadata": {
        "colab": {
          "base_uri": "https://localhost:8080/",
          "height": 111
        },
        "id": "-O-WhYkjte7k",
        "outputId": "5ae7f4e4-51ee-42a5-e6e8-94874587f379"
      },
      "source": [
        "df.iloc[3:5, 1:3]"
      ],
      "execution_count": null,
      "outputs": [
        {
          "output_type": "execute_result",
          "data": {
            "text/html": [
              "<div>\n",
              "<style scoped>\n",
              "    .dataframe tbody tr th:only-of-type {\n",
              "        vertical-align: middle;\n",
              "    }\n",
              "\n",
              "    .dataframe tbody tr th {\n",
              "        vertical-align: top;\n",
              "    }\n",
              "\n",
              "    .dataframe thead th {\n",
              "        text-align: right;\n",
              "    }\n",
              "</style>\n",
              "<table border=\"1\" class=\"dataframe\">\n",
              "  <thead>\n",
              "    <tr style=\"text-align: right;\">\n",
              "      <th></th>\n",
              "      <th>B</th>\n",
              "      <th>C</th>\n",
              "    </tr>\n",
              "  </thead>\n",
              "  <tbody>\n",
              "    <tr>\n",
              "      <th>d</th>\n",
              "      <td>-0.301610</td>\n",
              "      <td>1.778262</td>\n",
              "    </tr>\n",
              "    <tr>\n",
              "      <th>e</th>\n",
              "      <td>0.725125</td>\n",
              "      <td>-0.171005</td>\n",
              "    </tr>\n",
              "  </tbody>\n",
              "</table>\n",
              "</div>"
            ],
            "text/plain": [
              "          B         C\n",
              "d -0.301610  1.778262\n",
              "e  0.725125 -0.171005"
            ]
          },
          "metadata": {
            "tags": []
          },
          "execution_count": 51
        }
      ]
    },
    {
      "cell_type": "markdown",
      "metadata": {
        "id": "7YpgOD-3thV8"
      },
      "source": [
        "###Boolean indexing"
      ]
    },
    {
      "cell_type": "markdown",
      "metadata": {
        "id": "EgrXqO0Ltm7O"
      },
      "source": [
        "Selecting values from a DataFrame where a boolean condition is met."
      ]
    },
    {
      "cell_type": "code",
      "metadata": {
        "colab": {
          "base_uri": "https://localhost:8080/",
          "height": 163
        },
        "id": "mx34-Kcqtkku",
        "outputId": "391bd5e9-c1cb-44e7-e23b-26fa46cdc6d2"
      },
      "source": [
        "df[df > 0]"
      ],
      "execution_count": null,
      "outputs": [
        {
          "output_type": "error",
          "ename": "NameError",
          "evalue": "ignored",
          "traceback": [
            "\u001b[0;31m---------------------------------------------------------------------------\u001b[0m",
            "\u001b[0;31mNameError\u001b[0m                                 Traceback (most recent call last)",
            "\u001b[0;32m<ipython-input-1-3990d321393d>\u001b[0m in \u001b[0;36m<module>\u001b[0;34m()\u001b[0m\n\u001b[0;32m----> 1\u001b[0;31m \u001b[0mdf\u001b[0m\u001b[0;34m[\u001b[0m\u001b[0mdf\u001b[0m \u001b[0;34m>\u001b[0m \u001b[0;36m0\u001b[0m\u001b[0;34m]\u001b[0m\u001b[0;34m\u001b[0m\u001b[0;34m\u001b[0m\u001b[0m\n\u001b[0m",
            "\u001b[0;31mNameError\u001b[0m: name 'df' is not defined"
          ]
        }
      ]
    },
    {
      "cell_type": "markdown",
      "metadata": {
        "id": "5pfoEFJBtsYx"
      },
      "source": [
        "Copy a DataFrame"
      ]
    },
    {
      "cell_type": "code",
      "metadata": {
        "colab": {
          "base_uri": "https://localhost:8080/",
          "height": 231
        },
        "id": "KvRuL_kZtp6K",
        "outputId": "e3d9faa9-73e7-4286-9648-a1c52c2633da"
      },
      "source": [
        "df2 = df.copy()\n",
        "\n",
        "df2['E'] = ['one', 'one', 'two', 'three', 'four', 'three']\n",
        "\n",
        "df2"
      ],
      "execution_count": null,
      "outputs": [
        {
          "output_type": "error",
          "ename": "NameError",
          "evalue": "ignored",
          "traceback": [
            "\u001b[0;31m---------------------------------------------------------------------------\u001b[0m",
            "\u001b[0;31mNameError\u001b[0m                                 Traceback (most recent call last)",
            "\u001b[0;32m<ipython-input-2-9c29238186bf>\u001b[0m in \u001b[0;36m<module>\u001b[0;34m()\u001b[0m\n\u001b[0;32m----> 1\u001b[0;31m \u001b[0mdf2\u001b[0m \u001b[0;34m=\u001b[0m \u001b[0mdf\u001b[0m\u001b[0;34m.\u001b[0m\u001b[0mcopy\u001b[0m\u001b[0;34m(\u001b[0m\u001b[0;34m)\u001b[0m\u001b[0;34m\u001b[0m\u001b[0;34m\u001b[0m\u001b[0m\n\u001b[0m\u001b[1;32m      2\u001b[0m \u001b[0;34m\u001b[0m\u001b[0m\n\u001b[1;32m      3\u001b[0m \u001b[0mdf2\u001b[0m\u001b[0;34m[\u001b[0m\u001b[0;34m'E'\u001b[0m\u001b[0;34m]\u001b[0m \u001b[0;34m=\u001b[0m \u001b[0;34m[\u001b[0m\u001b[0;34m'one'\u001b[0m\u001b[0;34m,\u001b[0m \u001b[0;34m'one'\u001b[0m\u001b[0;34m,\u001b[0m \u001b[0;34m'two'\u001b[0m\u001b[0;34m,\u001b[0m \u001b[0;34m'three'\u001b[0m\u001b[0;34m,\u001b[0m \u001b[0;34m'four'\u001b[0m\u001b[0;34m,\u001b[0m \u001b[0;34m'three'\u001b[0m\u001b[0;34m]\u001b[0m\u001b[0;34m\u001b[0m\u001b[0;34m\u001b[0m\u001b[0m\n\u001b[1;32m      4\u001b[0m \u001b[0;34m\u001b[0m\u001b[0m\n\u001b[1;32m      5\u001b[0m \u001b[0mdf2\u001b[0m\u001b[0;34m\u001b[0m\u001b[0;34m\u001b[0m\u001b[0m\n",
            "\u001b[0;31mNameError\u001b[0m: name 'df' is not defined"
          ]
        }
      ]
    },
    {
      "cell_type": "code",
      "metadata": {
        "id": "uqX-OGr1l8Vt"
      },
      "source": [
        "pd.get_dummies(data=df2, columns=['E']) #returns i in the row where the element is present"
      ],
      "execution_count": null,
      "outputs": []
    },
    {
      "cell_type": "code",
      "metadata": {
        "id": "xmBdop7-l8dG"
      },
      "source": [
        "import copy"
      ],
      "execution_count": null,
      "outputs": []
    },
    {
      "cell_type": "code",
      "metadata": {
        "id": "ryZU1b9HlUMW"
      },
      "source": [
        "df3 = copy.deepcopy(df)#changes in deepcopy is not reflected back to the original"
      ],
      "execution_count": null,
      "outputs": []
    },
    {
      "cell_type": "code",
      "metadata": {
        "id": "dj1PgoAutxZA"
      },
      "source": [
        "df2.E.value_counts()"
      ],
      "execution_count": null,
      "outputs": []
    },
    {
      "cell_type": "code",
      "metadata": {
        "id": "HJAbgPfdtzZy"
      },
      "source": [
        "df2.E.unique()"
      ],
      "execution_count": null,
      "outputs": []
    },
    {
      "cell_type": "markdown",
      "metadata": {
        "id": "haEFcxO4t1zd"
      },
      "source": [
        "<a id='normalization'></a>\n",
        "## Normalization of Data\n",
        "\n",
        "\n",
        "\n"
      ]
    },
    {
      "cell_type": "code",
      "metadata": {
        "colab": {
          "base_uri": "https://localhost:8080/",
          "height": 235
        },
        "id": "NAA-reg5t3QB",
        "outputId": "e2e68774-9ec4-46c8-d8e7-eb4ea52de3e9"
      },
      "source": [
        "df2['F'] = [451, 835, 837, 758, 488, 600]\n",
        "df2['G'] = (df2.F - df2.F.mean())/df2.F.std()\n",
        "df2"
      ],
      "execution_count": null,
      "outputs": [
        {
          "output_type": "execute_result",
          "data": {
            "text/html": [
              "<div>\n",
              "<style scoped>\n",
              "    .dataframe tbody tr th:only-of-type {\n",
              "        vertical-align: middle;\n",
              "    }\n",
              "\n",
              "    .dataframe tbody tr th {\n",
              "        vertical-align: top;\n",
              "    }\n",
              "\n",
              "    .dataframe thead th {\n",
              "        text-align: right;\n",
              "    }\n",
              "</style>\n",
              "<table border=\"1\" class=\"dataframe\">\n",
              "  <thead>\n",
              "    <tr style=\"text-align: right;\">\n",
              "      <th></th>\n",
              "      <th>A</th>\n",
              "      <th>B</th>\n",
              "      <th>C</th>\n",
              "      <th>D</th>\n",
              "      <th>E</th>\n",
              "      <th>F</th>\n",
              "      <th>G</th>\n",
              "    </tr>\n",
              "  </thead>\n",
              "  <tbody>\n",
              "    <tr>\n",
              "      <th>a</th>\n",
              "      <td>1.265688</td>\n",
              "      <td>0.074064</td>\n",
              "      <td>-1.360383</td>\n",
              "      <td>0.633476</td>\n",
              "      <td>one</td>\n",
              "      <td>451</td>\n",
              "      <td>-1.221817</td>\n",
              "    </tr>\n",
              "    <tr>\n",
              "      <th>b</th>\n",
              "      <td>-0.738359</td>\n",
              "      <td>1.421744</td>\n",
              "      <td>0.331764</td>\n",
              "      <td>-2.256854</td>\n",
              "      <td>one</td>\n",
              "      <td>835</td>\n",
              "      <td>1.007056</td>\n",
              "    </tr>\n",
              "    <tr>\n",
              "      <th>c</th>\n",
              "      <td>0.886621</td>\n",
              "      <td>0.251548</td>\n",
              "      <td>-0.001432</td>\n",
              "      <td>-0.757039</td>\n",
              "      <td>two</td>\n",
              "      <td>837</td>\n",
              "      <td>1.018665</td>\n",
              "    </tr>\n",
              "    <tr>\n",
              "      <th>d</th>\n",
              "      <td>0.076800</td>\n",
              "      <td>-0.894248</td>\n",
              "      <td>-0.905930</td>\n",
              "      <td>0.022861</td>\n",
              "      <td>three</td>\n",
              "      <td>758</td>\n",
              "      <td>0.560120</td>\n",
              "    </tr>\n",
              "    <tr>\n",
              "      <th>e</th>\n",
              "      <td>-0.711521</td>\n",
              "      <td>0.796689</td>\n",
              "      <td>-0.469038</td>\n",
              "      <td>2.942301</td>\n",
              "      <td>four</td>\n",
              "      <td>488</td>\n",
              "      <td>-1.007056</td>\n",
              "    </tr>\n",
              "    <tr>\n",
              "      <th>f</th>\n",
              "      <td>1.371378</td>\n",
              "      <td>3.144689</td>\n",
              "      <td>0.113493</td>\n",
              "      <td>0.412602</td>\n",
              "      <td>three</td>\n",
              "      <td>600</td>\n",
              "      <td>-0.356968</td>\n",
              "    </tr>\n",
              "  </tbody>\n",
              "</table>\n",
              "</div>"
            ],
            "text/plain": [
              "          A         B         C         D      E    F         G\n",
              "a  1.265688  0.074064 -1.360383  0.633476    one  451 -1.221817\n",
              "b -0.738359  1.421744  0.331764 -2.256854    one  835  1.007056\n",
              "c  0.886621  0.251548 -0.001432 -0.757039    two  837  1.018665\n",
              "d  0.076800 -0.894248 -0.905930  0.022861  three  758  0.560120\n",
              "e -0.711521  0.796689 -0.469038  2.942301   four  488 -1.007056\n",
              "f  1.371378  3.144689  0.113493  0.412602  three  600 -0.356968"
            ]
          },
          "metadata": {
            "tags": []
          },
          "execution_count": 33
        }
      ]
    },
    {
      "cell_type": "markdown",
      "metadata": {
        "id": "YCPZdXiTuBAV"
      },
      "source": [
        "<a id='grouping'></a>\n",
        "## Grouping\n"
      ]
    },
    {
      "cell_type": "code",
      "metadata": {
        "colab": {
          "base_uri": "https://localhost:8080/",
          "height": 297
        },
        "id": "GXqKzW7euIY8",
        "outputId": "27e1fb31-f155-4d73-f9b4-4be00e0ac0ca"
      },
      "source": [
        "df = pd.DataFrame({'A': ['foo', 'bar', 'foo', 'bar',\n",
        "                                  'foo', 'bar', 'foo', 'foo'],\n",
        "                            'B': ['one', 'one', 'two', 'three',\n",
        "                                  'two', 'two', 'one', 'three'],\n",
        "                            'C': np.random.randn(8),\n",
        "                            'D': np.random.randn(8)})\n",
        "\n",
        "df"
      ],
      "execution_count": null,
      "outputs": [
        {
          "output_type": "execute_result",
          "data": {
            "text/html": [
              "<div>\n",
              "<style scoped>\n",
              "    .dataframe tbody tr th:only-of-type {\n",
              "        vertical-align: middle;\n",
              "    }\n",
              "\n",
              "    .dataframe tbody tr th {\n",
              "        vertical-align: top;\n",
              "    }\n",
              "\n",
              "    .dataframe thead th {\n",
              "        text-align: right;\n",
              "    }\n",
              "</style>\n",
              "<table border=\"1\" class=\"dataframe\">\n",
              "  <thead>\n",
              "    <tr style=\"text-align: right;\">\n",
              "      <th></th>\n",
              "      <th>A</th>\n",
              "      <th>B</th>\n",
              "      <th>C</th>\n",
              "      <th>D</th>\n",
              "    </tr>\n",
              "  </thead>\n",
              "  <tbody>\n",
              "    <tr>\n",
              "      <th>0</th>\n",
              "      <td>foo</td>\n",
              "      <td>one</td>\n",
              "      <td>-0.716639</td>\n",
              "      <td>1.719959</td>\n",
              "    </tr>\n",
              "    <tr>\n",
              "      <th>1</th>\n",
              "      <td>bar</td>\n",
              "      <td>one</td>\n",
              "      <td>-0.529809</td>\n",
              "      <td>-0.915553</td>\n",
              "    </tr>\n",
              "    <tr>\n",
              "      <th>2</th>\n",
              "      <td>foo</td>\n",
              "      <td>two</td>\n",
              "      <td>0.645909</td>\n",
              "      <td>0.093610</td>\n",
              "    </tr>\n",
              "    <tr>\n",
              "      <th>3</th>\n",
              "      <td>bar</td>\n",
              "      <td>three</td>\n",
              "      <td>-0.934995</td>\n",
              "      <td>0.897412</td>\n",
              "    </tr>\n",
              "    <tr>\n",
              "      <th>4</th>\n",
              "      <td>foo</td>\n",
              "      <td>two</td>\n",
              "      <td>0.735653</td>\n",
              "      <td>0.680054</td>\n",
              "    </tr>\n",
              "    <tr>\n",
              "      <th>5</th>\n",
              "      <td>bar</td>\n",
              "      <td>two</td>\n",
              "      <td>0.888354</td>\n",
              "      <td>-0.287468</td>\n",
              "    </tr>\n",
              "    <tr>\n",
              "      <th>6</th>\n",
              "      <td>foo</td>\n",
              "      <td>one</td>\n",
              "      <td>1.363253</td>\n",
              "      <td>0.111161</td>\n",
              "    </tr>\n",
              "    <tr>\n",
              "      <th>7</th>\n",
              "      <td>foo</td>\n",
              "      <td>three</td>\n",
              "      <td>0.356014</td>\n",
              "      <td>-1.145030</td>\n",
              "    </tr>\n",
              "  </tbody>\n",
              "</table>\n",
              "</div>"
            ],
            "text/plain": [
              "     A      B         C         D\n",
              "0  foo    one -0.716639  1.719959\n",
              "1  bar    one -0.529809 -0.915553\n",
              "2  foo    two  0.645909  0.093610\n",
              "3  bar  three -0.934995  0.897412\n",
              "4  foo    two  0.735653  0.680054\n",
              "5  bar    two  0.888354 -0.287468\n",
              "6  foo    one  1.363253  0.111161\n",
              "7  foo  three  0.356014 -1.145030"
            ]
          },
          "metadata": {
            "tags": []
          },
          "execution_count": 2
        }
      ]
    },
    {
      "cell_type": "code",
      "metadata": {
        "colab": {
          "base_uri": "https://localhost:8080/",
          "height": 266
        },
        "id": "WWT8fsOzYQPW",
        "outputId": "f25cf321-9fb3-4ec2-c150-c2e7a51faff0"
      },
      "source": [
        "table = pd.pivot_table(df ,index =['A', 'B'])#prints the \n",
        "table"
      ],
      "execution_count": null,
      "outputs": [
        {
          "output_type": "execute_result",
          "data": {
            "text/html": [
              "<div>\n",
              "<style scoped>\n",
              "    .dataframe tbody tr th:only-of-type {\n",
              "        vertical-align: middle;\n",
              "    }\n",
              "\n",
              "    .dataframe tbody tr th {\n",
              "        vertical-align: top;\n",
              "    }\n",
              "\n",
              "    .dataframe thead th {\n",
              "        text-align: right;\n",
              "    }\n",
              "</style>\n",
              "<table border=\"1\" class=\"dataframe\">\n",
              "  <thead>\n",
              "    <tr style=\"text-align: right;\">\n",
              "      <th></th>\n",
              "      <th></th>\n",
              "      <th>C</th>\n",
              "      <th>D</th>\n",
              "    </tr>\n",
              "    <tr>\n",
              "      <th>A</th>\n",
              "      <th>B</th>\n",
              "      <th></th>\n",
              "      <th></th>\n",
              "    </tr>\n",
              "  </thead>\n",
              "  <tbody>\n",
              "    <tr>\n",
              "      <th rowspan=\"3\" valign=\"top\">bar</th>\n",
              "      <th>one</th>\n",
              "      <td>-0.791179</td>\n",
              "      <td>-0.701558</td>\n",
              "    </tr>\n",
              "    <tr>\n",
              "      <th>three</th>\n",
              "      <td>-1.357535</td>\n",
              "      <td>0.033922</td>\n",
              "    </tr>\n",
              "    <tr>\n",
              "      <th>two</th>\n",
              "      <td>-1.685625</td>\n",
              "      <td>-1.449014</td>\n",
              "    </tr>\n",
              "    <tr>\n",
              "      <th rowspan=\"3\" valign=\"top\">foo</th>\n",
              "      <th>one</th>\n",
              "      <td>-0.333348</td>\n",
              "      <td>-0.546715</td>\n",
              "    </tr>\n",
              "    <tr>\n",
              "      <th>three</th>\n",
              "      <td>0.672351</td>\n",
              "      <td>-0.303694</td>\n",
              "    </tr>\n",
              "    <tr>\n",
              "      <th>two</th>\n",
              "      <td>1.477728</td>\n",
              "      <td>-0.142400</td>\n",
              "    </tr>\n",
              "  </tbody>\n",
              "</table>\n",
              "</div>"
            ],
            "text/plain": [
              "                  C         D\n",
              "A   B                        \n",
              "bar one   -0.791179 -0.701558\n",
              "    three -1.357535  0.033922\n",
              "    two   -1.685625 -1.449014\n",
              "foo one   -0.333348 -0.546715\n",
              "    three  0.672351 -0.303694\n",
              "    two    1.477728 -0.142400"
            ]
          },
          "metadata": {
            "tags": []
          },
          "execution_count": 43
        }
      ]
    },
    {
      "cell_type": "code",
      "metadata": {
        "id": "xTC__u55uMgn"
      },
      "source": [
        "# Grouping and then applying the sum() function to the resulting groups.\n",
        "c=df.groupby('A')"
      ],
      "execution_count": null,
      "outputs": []
    },
    {
      "cell_type": "code",
      "metadata": {
        "colab": {
          "base_uri": "https://localhost:8080/",
          "height": 142
        },
        "id": "bUlIm1msUwAD",
        "outputId": "69ef018a-31bf-42f1-fd06-53d1415fb074"
      },
      "source": [
        "c.sum()"
      ],
      "execution_count": null,
      "outputs": [
        {
          "output_type": "execute_result",
          "data": {
            "text/html": [
              "<div>\n",
              "<style scoped>\n",
              "    .dataframe tbody tr th:only-of-type {\n",
              "        vertical-align: middle;\n",
              "    }\n",
              "\n",
              "    .dataframe tbody tr th {\n",
              "        vertical-align: top;\n",
              "    }\n",
              "\n",
              "    .dataframe thead th {\n",
              "        text-align: right;\n",
              "    }\n",
              "</style>\n",
              "<table border=\"1\" class=\"dataframe\">\n",
              "  <thead>\n",
              "    <tr style=\"text-align: right;\">\n",
              "      <th></th>\n",
              "      <th>C</th>\n",
              "      <th>D</th>\n",
              "    </tr>\n",
              "    <tr>\n",
              "      <th>A</th>\n",
              "      <th></th>\n",
              "      <th></th>\n",
              "    </tr>\n",
              "  </thead>\n",
              "  <tbody>\n",
              "    <tr>\n",
              "      <th>bar</th>\n",
              "      <td>-0.576449</td>\n",
              "      <td>-0.305609</td>\n",
              "    </tr>\n",
              "    <tr>\n",
              "      <th>foo</th>\n",
              "      <td>2.384191</td>\n",
              "      <td>1.459754</td>\n",
              "    </tr>\n",
              "  </tbody>\n",
              "</table>\n",
              "</div>"
            ],
            "text/plain": [
              "            C         D\n",
              "A                      \n",
              "bar -0.576449 -0.305609\n",
              "foo  2.384191  1.459754"
            ]
          },
          "metadata": {
            "tags": []
          },
          "execution_count": 6
        }
      ]
    },
    {
      "cell_type": "code",
      "metadata": {
        "colab": {
          "base_uri": "https://localhost:8080/",
          "height": 204
        },
        "id": "ZpeOUfMBS-1u",
        "outputId": "ec2143bc-81fb-4e1f-eb50-2fa1c7bf9421"
      },
      "source": [
        "g=c.get_group('foo') #displays the rows under the group 'foo'\n",
        "g"
      ],
      "execution_count": null,
      "outputs": [
        {
          "output_type": "execute_result",
          "data": {
            "text/html": [
              "<div>\n",
              "<style scoped>\n",
              "    .dataframe tbody tr th:only-of-type {\n",
              "        vertical-align: middle;\n",
              "    }\n",
              "\n",
              "    .dataframe tbody tr th {\n",
              "        vertical-align: top;\n",
              "    }\n",
              "\n",
              "    .dataframe thead th {\n",
              "        text-align: right;\n",
              "    }\n",
              "</style>\n",
              "<table border=\"1\" class=\"dataframe\">\n",
              "  <thead>\n",
              "    <tr style=\"text-align: right;\">\n",
              "      <th></th>\n",
              "      <th>A</th>\n",
              "      <th>B</th>\n",
              "      <th>C</th>\n",
              "      <th>D</th>\n",
              "    </tr>\n",
              "  </thead>\n",
              "  <tbody>\n",
              "    <tr>\n",
              "      <th>0</th>\n",
              "      <td>foo</td>\n",
              "      <td>one</td>\n",
              "      <td>-0.919691</td>\n",
              "      <td>0.420129</td>\n",
              "    </tr>\n",
              "    <tr>\n",
              "      <th>2</th>\n",
              "      <td>foo</td>\n",
              "      <td>two</td>\n",
              "      <td>1.393257</td>\n",
              "      <td>0.819742</td>\n",
              "    </tr>\n",
              "    <tr>\n",
              "      <th>4</th>\n",
              "      <td>foo</td>\n",
              "      <td>two</td>\n",
              "      <td>1.562198</td>\n",
              "      <td>-1.104542</td>\n",
              "    </tr>\n",
              "    <tr>\n",
              "      <th>6</th>\n",
              "      <td>foo</td>\n",
              "      <td>one</td>\n",
              "      <td>0.252995</td>\n",
              "      <td>-1.513558</td>\n",
              "    </tr>\n",
              "    <tr>\n",
              "      <th>7</th>\n",
              "      <td>foo</td>\n",
              "      <td>three</td>\n",
              "      <td>0.672351</td>\n",
              "      <td>-0.303694</td>\n",
              "    </tr>\n",
              "  </tbody>\n",
              "</table>\n",
              "</div>"
            ],
            "text/plain": [
              "     A      B         C         D\n",
              "0  foo    one -0.919691  0.420129\n",
              "2  foo    two  1.393257  0.819742\n",
              "4  foo    two  1.562198 -1.104542\n",
              "6  foo    one  0.252995 -1.513558\n",
              "7  foo  three  0.672351 -0.303694"
            ]
          },
          "metadata": {
            "tags": []
          },
          "execution_count": 31
        }
      ]
    },
    {
      "cell_type": "markdown",
      "metadata": {
        "id": "N4bIdN0auPNS"
      },
      "source": [
        "###Renaming"
      ]
    },
    {
      "cell_type": "code",
      "metadata": {
        "colab": {
          "base_uri": "https://localhost:8080/",
          "height": 297
        },
        "id": "9VMPJPkduNgE",
        "outputId": "8ed44395-7847-4061-926b-9a1c84d1c772"
      },
      "source": [
        "df.rename(columns={'A': 'AA', 'B': 'BB'})"
      ],
      "execution_count": null,
      "outputs": [
        {
          "output_type": "execute_result",
          "data": {
            "text/html": [
              "<div>\n",
              "<style scoped>\n",
              "    .dataframe tbody tr th:only-of-type {\n",
              "        vertical-align: middle;\n",
              "    }\n",
              "\n",
              "    .dataframe tbody tr th {\n",
              "        vertical-align: top;\n",
              "    }\n",
              "\n",
              "    .dataframe thead th {\n",
              "        text-align: right;\n",
              "    }\n",
              "</style>\n",
              "<table border=\"1\" class=\"dataframe\">\n",
              "  <thead>\n",
              "    <tr style=\"text-align: right;\">\n",
              "      <th></th>\n",
              "      <th>AA</th>\n",
              "      <th>BB</th>\n",
              "      <th>C</th>\n",
              "      <th>D</th>\n",
              "    </tr>\n",
              "  </thead>\n",
              "  <tbody>\n",
              "    <tr>\n",
              "      <th>0</th>\n",
              "      <td>foo</td>\n",
              "      <td>one</td>\n",
              "      <td>-0.928747</td>\n",
              "      <td>-0.392383</td>\n",
              "    </tr>\n",
              "    <tr>\n",
              "      <th>1</th>\n",
              "      <td>bar</td>\n",
              "      <td>one</td>\n",
              "      <td>-0.241718</td>\n",
              "      <td>-0.844900</td>\n",
              "    </tr>\n",
              "    <tr>\n",
              "      <th>2</th>\n",
              "      <td>foo</td>\n",
              "      <td>two</td>\n",
              "      <td>0.286182</td>\n",
              "      <td>-0.655225</td>\n",
              "    </tr>\n",
              "    <tr>\n",
              "      <th>3</th>\n",
              "      <td>bar</td>\n",
              "      <td>three</td>\n",
              "      <td>0.887844</td>\n",
              "      <td>0.067778</td>\n",
              "    </tr>\n",
              "    <tr>\n",
              "      <th>4</th>\n",
              "      <td>foo</td>\n",
              "      <td>two</td>\n",
              "      <td>-0.333357</td>\n",
              "      <td>0.310838</td>\n",
              "    </tr>\n",
              "    <tr>\n",
              "      <th>5</th>\n",
              "      <td>bar</td>\n",
              "      <td>two</td>\n",
              "      <td>0.721052</td>\n",
              "      <td>0.130076</td>\n",
              "    </tr>\n",
              "    <tr>\n",
              "      <th>6</th>\n",
              "      <td>foo</td>\n",
              "      <td>one</td>\n",
              "      <td>-0.689180</td>\n",
              "      <td>-0.424335</td>\n",
              "    </tr>\n",
              "    <tr>\n",
              "      <th>7</th>\n",
              "      <td>foo</td>\n",
              "      <td>three</td>\n",
              "      <td>1.179506</td>\n",
              "      <td>0.247801</td>\n",
              "    </tr>\n",
              "  </tbody>\n",
              "</table>\n",
              "</div>"
            ],
            "text/plain": [
              "    AA     BB         C         D\n",
              "0  foo    one -0.928747 -0.392383\n",
              "1  bar    one -0.241718 -0.844900\n",
              "2  foo    two  0.286182 -0.655225\n",
              "3  bar  three  0.887844  0.067778\n",
              "4  foo    two -0.333357  0.310838\n",
              "5  bar    two  0.721052  0.130076\n",
              "6  foo    one -0.689180 -0.424335\n",
              "7  foo  three  1.179506  0.247801"
            ]
          },
          "metadata": {
            "tags": []
          },
          "execution_count": 36
        }
      ]
    },
    {
      "cell_type": "code",
      "metadata": {
        "colab": {
          "base_uri": "https://localhost:8080/",
          "height": 297
        },
        "id": "Law-wOFhuUPz",
        "outputId": "e47dad39-8c9a-4897-db5a-79a1363e5b61"
      },
      "source": [
        "df.rename(index={0: 'firstEntry', 1: 'secondEntry'})"
      ],
      "execution_count": null,
      "outputs": [
        {
          "output_type": "execute_result",
          "data": {
            "text/html": [
              "<div>\n",
              "<style scoped>\n",
              "    .dataframe tbody tr th:only-of-type {\n",
              "        vertical-align: middle;\n",
              "    }\n",
              "\n",
              "    .dataframe tbody tr th {\n",
              "        vertical-align: top;\n",
              "    }\n",
              "\n",
              "    .dataframe thead th {\n",
              "        text-align: right;\n",
              "    }\n",
              "</style>\n",
              "<table border=\"1\" class=\"dataframe\">\n",
              "  <thead>\n",
              "    <tr style=\"text-align: right;\">\n",
              "      <th></th>\n",
              "      <th>A</th>\n",
              "      <th>B</th>\n",
              "      <th>C</th>\n",
              "      <th>D</th>\n",
              "    </tr>\n",
              "  </thead>\n",
              "  <tbody>\n",
              "    <tr>\n",
              "      <th>firstEntry</th>\n",
              "      <td>foo</td>\n",
              "      <td>one</td>\n",
              "      <td>-0.928747</td>\n",
              "      <td>-0.392383</td>\n",
              "    </tr>\n",
              "    <tr>\n",
              "      <th>secondEntry</th>\n",
              "      <td>bar</td>\n",
              "      <td>one</td>\n",
              "      <td>-0.241718</td>\n",
              "      <td>-0.844900</td>\n",
              "    </tr>\n",
              "    <tr>\n",
              "      <th>2</th>\n",
              "      <td>foo</td>\n",
              "      <td>two</td>\n",
              "      <td>0.286182</td>\n",
              "      <td>-0.655225</td>\n",
              "    </tr>\n",
              "    <tr>\n",
              "      <th>3</th>\n",
              "      <td>bar</td>\n",
              "      <td>three</td>\n",
              "      <td>0.887844</td>\n",
              "      <td>0.067778</td>\n",
              "    </tr>\n",
              "    <tr>\n",
              "      <th>4</th>\n",
              "      <td>foo</td>\n",
              "      <td>two</td>\n",
              "      <td>-0.333357</td>\n",
              "      <td>0.310838</td>\n",
              "    </tr>\n",
              "    <tr>\n",
              "      <th>5</th>\n",
              "      <td>bar</td>\n",
              "      <td>two</td>\n",
              "      <td>0.721052</td>\n",
              "      <td>0.130076</td>\n",
              "    </tr>\n",
              "    <tr>\n",
              "      <th>6</th>\n",
              "      <td>foo</td>\n",
              "      <td>one</td>\n",
              "      <td>-0.689180</td>\n",
              "      <td>-0.424335</td>\n",
              "    </tr>\n",
              "    <tr>\n",
              "      <th>7</th>\n",
              "      <td>foo</td>\n",
              "      <td>three</td>\n",
              "      <td>1.179506</td>\n",
              "      <td>0.247801</td>\n",
              "    </tr>\n",
              "  </tbody>\n",
              "</table>\n",
              "</div>"
            ],
            "text/plain": [
              "               A      B         C         D\n",
              "firstEntry   foo    one -0.928747 -0.392383\n",
              "secondEntry  bar    one -0.241718 -0.844900\n",
              "2            foo    two  0.286182 -0.655225\n",
              "3            bar  three  0.887844  0.067778\n",
              "4            foo    two -0.333357  0.310838\n",
              "5            bar    two  0.721052  0.130076\n",
              "6            foo    one -0.689180 -0.424335\n",
              "7            foo  three  1.179506  0.247801"
            ]
          },
          "metadata": {
            "tags": []
          },
          "execution_count": 37
        }
      ]
    },
    {
      "cell_type": "markdown",
      "metadata": {
        "id": "QV0XkBAetIRv"
      },
      "source": [
        "<a id='concatenation'></a>\n",
        "# Concatenation"
      ]
    },
    {
      "cell_type": "code",
      "metadata": {
        "colab": {
          "base_uri": "https://localhost:8080/",
          "height": 142
        },
        "id": "a5s8P-8xsQN8",
        "outputId": "adf567c7-7295-4031-cb4c-6308dce19e79"
      },
      "source": [
        "import pandas as pd\n",
        "india_weather = pd.DataFrame({\n",
        "    \"city\": [\"mumbai\",\"delhi\",\"kochi\"],\n",
        "    \"temperature\": [32,45,30],\n",
        "    \"rain\": [0, 6, 7]\n",
        "})\n",
        "\n",
        "india_weather"
      ],
      "execution_count": null,
      "outputs": [
        {
          "output_type": "execute_result",
          "data": {
            "text/html": [
              "<div>\n",
              "<style scoped>\n",
              "    .dataframe tbody tr th:only-of-type {\n",
              "        vertical-align: middle;\n",
              "    }\n",
              "\n",
              "    .dataframe tbody tr th {\n",
              "        vertical-align: top;\n",
              "    }\n",
              "\n",
              "    .dataframe thead th {\n",
              "        text-align: right;\n",
              "    }\n",
              "</style>\n",
              "<table border=\"1\" class=\"dataframe\">\n",
              "  <thead>\n",
              "    <tr style=\"text-align: right;\">\n",
              "      <th></th>\n",
              "      <th>city</th>\n",
              "      <th>temperature</th>\n",
              "      <th>rain</th>\n",
              "    </tr>\n",
              "  </thead>\n",
              "  <tbody>\n",
              "    <tr>\n",
              "      <th>0</th>\n",
              "      <td>mumbai</td>\n",
              "      <td>32</td>\n",
              "      <td>0</td>\n",
              "    </tr>\n",
              "    <tr>\n",
              "      <th>1</th>\n",
              "      <td>delhi</td>\n",
              "      <td>45</td>\n",
              "      <td>6</td>\n",
              "    </tr>\n",
              "    <tr>\n",
              "      <th>2</th>\n",
              "      <td>kochi</td>\n",
              "      <td>30</td>\n",
              "      <td>7</td>\n",
              "    </tr>\n",
              "  </tbody>\n",
              "</table>\n",
              "</div>"
            ],
            "text/plain": [
              "     city  temperature  rain\n",
              "0  mumbai           32     0\n",
              "1   delhi           45     6\n",
              "2   kochi           30     7"
            ]
          },
          "metadata": {
            "tags": []
          },
          "execution_count": 64
        }
      ]
    },
    {
      "cell_type": "code",
      "metadata": {
        "colab": {
          "base_uri": "https://localhost:8080/",
          "height": 142
        },
        "id": "nX4DD0Pusijy",
        "outputId": "75f550d6-04eb-42fe-9c0b-d4500e63b667"
      },
      "source": [
        "india_weather1 = pd.DataFrame({\n",
        "    \"city\": [\"pune\",\"chennai\",\"orissa\"],\n",
        "    \"temperature\": [21,14,35],\n",
        "    \"rain\": [0.5, 5, 5]\n",
        "})\n",
        "india_weather1"
      ],
      "execution_count": null,
      "outputs": [
        {
          "output_type": "execute_result",
          "data": {
            "text/html": [
              "<div>\n",
              "<style scoped>\n",
              "    .dataframe tbody tr th:only-of-type {\n",
              "        vertical-align: middle;\n",
              "    }\n",
              "\n",
              "    .dataframe tbody tr th {\n",
              "        vertical-align: top;\n",
              "    }\n",
              "\n",
              "    .dataframe thead th {\n",
              "        text-align: right;\n",
              "    }\n",
              "</style>\n",
              "<table border=\"1\" class=\"dataframe\">\n",
              "  <thead>\n",
              "    <tr style=\"text-align: right;\">\n",
              "      <th></th>\n",
              "      <th>city</th>\n",
              "      <th>temperature</th>\n",
              "      <th>rain</th>\n",
              "    </tr>\n",
              "  </thead>\n",
              "  <tbody>\n",
              "    <tr>\n",
              "      <th>0</th>\n",
              "      <td>pune</td>\n",
              "      <td>21</td>\n",
              "      <td>0.5</td>\n",
              "    </tr>\n",
              "    <tr>\n",
              "      <th>1</th>\n",
              "      <td>chennai</td>\n",
              "      <td>14</td>\n",
              "      <td>5.0</td>\n",
              "    </tr>\n",
              "    <tr>\n",
              "      <th>2</th>\n",
              "      <td>orissa</td>\n",
              "      <td>35</td>\n",
              "      <td>5.0</td>\n",
              "    </tr>\n",
              "  </tbody>\n",
              "</table>\n",
              "</div>"
            ],
            "text/plain": [
              "      city  temperature  rain\n",
              "0     pune           21   0.5\n",
              "1  chennai           14   5.0\n",
              "2   orissa           35   5.0"
            ]
          },
          "metadata": {
            "tags": []
          },
          "execution_count": 65
        }
      ]
    },
    {
      "cell_type": "code",
      "metadata": {
        "colab": {
          "base_uri": "https://localhost:8080/",
          "height": 235
        },
        "id": "znkNey3msyuj",
        "outputId": "3542914f-b6bf-4706-9720-e7e82b2687fc"
      },
      "source": [
        "#concate two dataframes\n",
        "df = pd.concat([india_weather, india_weather1])\n",
        "df"
      ],
      "execution_count": null,
      "outputs": [
        {
          "output_type": "execute_result",
          "data": {
            "text/html": [
              "<div>\n",
              "<style scoped>\n",
              "    .dataframe tbody tr th:only-of-type {\n",
              "        vertical-align: middle;\n",
              "    }\n",
              "\n",
              "    .dataframe tbody tr th {\n",
              "        vertical-align: top;\n",
              "    }\n",
              "\n",
              "    .dataframe thead th {\n",
              "        text-align: right;\n",
              "    }\n",
              "</style>\n",
              "<table border=\"1\" class=\"dataframe\">\n",
              "  <thead>\n",
              "    <tr style=\"text-align: right;\">\n",
              "      <th></th>\n",
              "      <th>city</th>\n",
              "      <th>temperature</th>\n",
              "      <th>rain</th>\n",
              "    </tr>\n",
              "  </thead>\n",
              "  <tbody>\n",
              "    <tr>\n",
              "      <th>0</th>\n",
              "      <td>mumbai</td>\n",
              "      <td>32</td>\n",
              "      <td>0.0</td>\n",
              "    </tr>\n",
              "    <tr>\n",
              "      <th>1</th>\n",
              "      <td>delhi</td>\n",
              "      <td>45</td>\n",
              "      <td>6.0</td>\n",
              "    </tr>\n",
              "    <tr>\n",
              "      <th>2</th>\n",
              "      <td>kochi</td>\n",
              "      <td>30</td>\n",
              "      <td>7.0</td>\n",
              "    </tr>\n",
              "    <tr>\n",
              "      <th>0</th>\n",
              "      <td>pune</td>\n",
              "      <td>21</td>\n",
              "      <td>0.5</td>\n",
              "    </tr>\n",
              "    <tr>\n",
              "      <th>1</th>\n",
              "      <td>chennai</td>\n",
              "      <td>14</td>\n",
              "      <td>5.0</td>\n",
              "    </tr>\n",
              "    <tr>\n",
              "      <th>2</th>\n",
              "      <td>orissa</td>\n",
              "      <td>35</td>\n",
              "      <td>5.0</td>\n",
              "    </tr>\n",
              "  </tbody>\n",
              "</table>\n",
              "</div>"
            ],
            "text/plain": [
              "      city  temperature  rain\n",
              "0   mumbai           32   0.0\n",
              "1    delhi           45   6.0\n",
              "2    kochi           30   7.0\n",
              "0     pune           21   0.5\n",
              "1  chennai           14   5.0\n",
              "2   orissa           35   5.0"
            ]
          },
          "metadata": {
            "tags": []
          },
          "execution_count": 74
        }
      ]
    },
    {
      "cell_type": "code",
      "metadata": {
        "colab": {
          "base_uri": "https://localhost:8080/",
          "height": 235
        },
        "id": "n2og0hLa4K1T",
        "outputId": "71d6bed7-c5a2-4e9c-8e47-3f64fc029ae0"
      },
      "source": [
        "df.reset_index(inplace = True) # It changes the index of updated dataframe\n",
        "df"
      ],
      "execution_count": null,
      "outputs": [
        {
          "output_type": "execute_result",
          "data": {
            "text/html": [
              "<div>\n",
              "<style scoped>\n",
              "    .dataframe tbody tr th:only-of-type {\n",
              "        vertical-align: middle;\n",
              "    }\n",
              "\n",
              "    .dataframe tbody tr th {\n",
              "        vertical-align: top;\n",
              "    }\n",
              "\n",
              "    .dataframe thead th {\n",
              "        text-align: right;\n",
              "    }\n",
              "</style>\n",
              "<table border=\"1\" class=\"dataframe\">\n",
              "  <thead>\n",
              "    <tr style=\"text-align: right;\">\n",
              "      <th></th>\n",
              "      <th>index</th>\n",
              "      <th>city</th>\n",
              "      <th>temperature</th>\n",
              "      <th>rain</th>\n",
              "    </tr>\n",
              "  </thead>\n",
              "  <tbody>\n",
              "    <tr>\n",
              "      <th>0</th>\n",
              "      <td>0</td>\n",
              "      <td>mumbai</td>\n",
              "      <td>32</td>\n",
              "      <td>0.0</td>\n",
              "    </tr>\n",
              "    <tr>\n",
              "      <th>1</th>\n",
              "      <td>1</td>\n",
              "      <td>delhi</td>\n",
              "      <td>45</td>\n",
              "      <td>6.0</td>\n",
              "    </tr>\n",
              "    <tr>\n",
              "      <th>2</th>\n",
              "      <td>2</td>\n",
              "      <td>kochi</td>\n",
              "      <td>30</td>\n",
              "      <td>7.0</td>\n",
              "    </tr>\n",
              "    <tr>\n",
              "      <th>3</th>\n",
              "      <td>0</td>\n",
              "      <td>pune</td>\n",
              "      <td>21</td>\n",
              "      <td>0.5</td>\n",
              "    </tr>\n",
              "    <tr>\n",
              "      <th>4</th>\n",
              "      <td>1</td>\n",
              "      <td>chennai</td>\n",
              "      <td>14</td>\n",
              "      <td>5.0</td>\n",
              "    </tr>\n",
              "    <tr>\n",
              "      <th>5</th>\n",
              "      <td>2</td>\n",
              "      <td>orissa</td>\n",
              "      <td>35</td>\n",
              "      <td>5.0</td>\n",
              "    </tr>\n",
              "  </tbody>\n",
              "</table>\n",
              "</div>"
            ],
            "text/plain": [
              "   index     city  temperature  rain\n",
              "0      0   mumbai           32   0.0\n",
              "1      1    delhi           45   6.0\n",
              "2      2    kochi           30   7.0\n",
              "3      0     pune           21   0.5\n",
              "4      1  chennai           14   5.0\n",
              "5      2   orissa           35   5.0"
            ]
          },
          "metadata": {
            "tags": []
          },
          "execution_count": 75
        }
      ]
    },
    {
      "cell_type": "code",
      "metadata": {
        "colab": {
          "base_uri": "https://localhost:8080/",
          "height": 235
        },
        "id": "f9Qn3_dTs1BQ",
        "outputId": "6b57e485-9208-4e8f-cbea-0dc4aa752bd3"
      },
      "source": [
        "df = pd.concat([india_weather, india_weather1], ignore_index=True)\n",
        "df"
      ],
      "execution_count": null,
      "outputs": [
        {
          "output_type": "execute_result",
          "data": {
            "text/html": [
              "<div>\n",
              "<style scoped>\n",
              "    .dataframe tbody tr th:only-of-type {\n",
              "        vertical-align: middle;\n",
              "    }\n",
              "\n",
              "    .dataframe tbody tr th {\n",
              "        vertical-align: top;\n",
              "    }\n",
              "\n",
              "    .dataframe thead th {\n",
              "        text-align: right;\n",
              "    }\n",
              "</style>\n",
              "<table border=\"1\" class=\"dataframe\">\n",
              "  <thead>\n",
              "    <tr style=\"text-align: right;\">\n",
              "      <th></th>\n",
              "      <th>city</th>\n",
              "      <th>temperature</th>\n",
              "      <th>rain</th>\n",
              "    </tr>\n",
              "  </thead>\n",
              "  <tbody>\n",
              "    <tr>\n",
              "      <th>0</th>\n",
              "      <td>mumbai</td>\n",
              "      <td>32</td>\n",
              "      <td>0.0</td>\n",
              "    </tr>\n",
              "    <tr>\n",
              "      <th>1</th>\n",
              "      <td>delhi</td>\n",
              "      <td>45</td>\n",
              "      <td>6.0</td>\n",
              "    </tr>\n",
              "    <tr>\n",
              "      <th>2</th>\n",
              "      <td>kochi</td>\n",
              "      <td>30</td>\n",
              "      <td>7.0</td>\n",
              "    </tr>\n",
              "    <tr>\n",
              "      <th>3</th>\n",
              "      <td>pune</td>\n",
              "      <td>21</td>\n",
              "      <td>0.5</td>\n",
              "    </tr>\n",
              "    <tr>\n",
              "      <th>4</th>\n",
              "      <td>chennai</td>\n",
              "      <td>14</td>\n",
              "      <td>5.0</td>\n",
              "    </tr>\n",
              "    <tr>\n",
              "      <th>5</th>\n",
              "      <td>orissa</td>\n",
              "      <td>35</td>\n",
              "      <td>5.0</td>\n",
              "    </tr>\n",
              "  </tbody>\n",
              "</table>\n",
              "</div>"
            ],
            "text/plain": [
              "      city  temperature  rain\n",
              "0   mumbai           32   0.0\n",
              "1    delhi           45   6.0\n",
              "2    kochi           30   7.0\n",
              "3     pune           21   0.5\n",
              "4  chennai           14   5.0\n",
              "5   orissa           35   5.0"
            ]
          },
          "metadata": {
            "tags": []
          },
          "execution_count": 76
        }
      ]
    },
    {
      "cell_type": "code",
      "metadata": {
        "colab": {
          "base_uri": "https://localhost:8080/",
          "height": 142
        },
        "id": "EY3p-YGGs_xc",
        "outputId": "9347376f-30ec-41e3-f354-9a248cceb4ee"
      },
      "source": [
        "df = pd.concat([india_weather, india_weather1],axis=1)\n",
        "df"
      ],
      "execution_count": null,
      "outputs": [
        {
          "output_type": "execute_result",
          "data": {
            "text/html": [
              "<div>\n",
              "<style scoped>\n",
              "    .dataframe tbody tr th:only-of-type {\n",
              "        vertical-align: middle;\n",
              "    }\n",
              "\n",
              "    .dataframe tbody tr th {\n",
              "        vertical-align: top;\n",
              "    }\n",
              "\n",
              "    .dataframe thead th {\n",
              "        text-align: right;\n",
              "    }\n",
              "</style>\n",
              "<table border=\"1\" class=\"dataframe\">\n",
              "  <thead>\n",
              "    <tr style=\"text-align: right;\">\n",
              "      <th></th>\n",
              "      <th>city</th>\n",
              "      <th>temperature</th>\n",
              "      <th>rain</th>\n",
              "      <th>city</th>\n",
              "      <th>temperature</th>\n",
              "      <th>rain</th>\n",
              "    </tr>\n",
              "  </thead>\n",
              "  <tbody>\n",
              "    <tr>\n",
              "      <th>0</th>\n",
              "      <td>mumbai</td>\n",
              "      <td>32</td>\n",
              "      <td>0</td>\n",
              "      <td>pune</td>\n",
              "      <td>21</td>\n",
              "      <td>0.5</td>\n",
              "    </tr>\n",
              "    <tr>\n",
              "      <th>1</th>\n",
              "      <td>delhi</td>\n",
              "      <td>45</td>\n",
              "      <td>6</td>\n",
              "      <td>chennai</td>\n",
              "      <td>14</td>\n",
              "      <td>5.0</td>\n",
              "    </tr>\n",
              "    <tr>\n",
              "      <th>2</th>\n",
              "      <td>kochi</td>\n",
              "      <td>30</td>\n",
              "      <td>7</td>\n",
              "      <td>orissa</td>\n",
              "      <td>35</td>\n",
              "      <td>5.0</td>\n",
              "    </tr>\n",
              "  </tbody>\n",
              "</table>\n",
              "</div>"
            ],
            "text/plain": [
              "     city  temperature  rain     city  temperature  rain\n",
              "0  mumbai           32     0     pune           21   0.5\n",
              "1   delhi           45     6  chennai           14   5.0\n",
              "2   kochi           30     7   orissa           35   5.0"
            ]
          },
          "metadata": {
            "tags": []
          },
          "execution_count": 77
        }
      ]
    },
    {
      "cell_type": "markdown",
      "metadata": {
        "id": "h0l1R6ZttMrL"
      },
      "source": [
        "<a id='merging'></a>\n",
        "# Merging"
      ]
    },
    {
      "cell_type": "code",
      "metadata": {
        "colab": {
          "base_uri": "https://localhost:8080/",
          "height": 173
        },
        "id": "nOXWYlgStF6X",
        "outputId": "40b8cd97-502a-434d-a9c5-8b4a78a2cf8c"
      },
      "source": [
        "temperature_df = pd.DataFrame({\n",
        "    \"city\": [\"mumbai\",\"delhi\",\"banglore\", 'hyderabad'],\n",
        "    \"temperature\": [32,45,30,40]})\n",
        "temperature_df"
      ],
      "execution_count": null,
      "outputs": [
        {
          "output_type": "execute_result",
          "data": {
            "text/html": [
              "<div>\n",
              "<style scoped>\n",
              "    .dataframe tbody tr th:only-of-type {\n",
              "        vertical-align: middle;\n",
              "    }\n",
              "\n",
              "    .dataframe tbody tr th {\n",
              "        vertical-align: top;\n",
              "    }\n",
              "\n",
              "    .dataframe thead th {\n",
              "        text-align: right;\n",
              "    }\n",
              "</style>\n",
              "<table border=\"1\" class=\"dataframe\">\n",
              "  <thead>\n",
              "    <tr style=\"text-align: right;\">\n",
              "      <th></th>\n",
              "      <th>city</th>\n",
              "      <th>temperature</th>\n",
              "    </tr>\n",
              "  </thead>\n",
              "  <tbody>\n",
              "    <tr>\n",
              "      <th>0</th>\n",
              "      <td>mumbai</td>\n",
              "      <td>32</td>\n",
              "    </tr>\n",
              "    <tr>\n",
              "      <th>1</th>\n",
              "      <td>delhi</td>\n",
              "      <td>45</td>\n",
              "    </tr>\n",
              "    <tr>\n",
              "      <th>2</th>\n",
              "      <td>banglore</td>\n",
              "      <td>30</td>\n",
              "    </tr>\n",
              "    <tr>\n",
              "      <th>3</th>\n",
              "      <td>hyderabad</td>\n",
              "      <td>40</td>\n",
              "    </tr>\n",
              "  </tbody>\n",
              "</table>\n",
              "</div>"
            ],
            "text/plain": [
              "        city  temperature\n",
              "0     mumbai           32\n",
              "1      delhi           45\n",
              "2   banglore           30\n",
              "3  hyderabad           40"
            ]
          },
          "metadata": {
            "tags": []
          },
          "execution_count": 80
        }
      ]
    },
    {
      "cell_type": "code",
      "metadata": {
        "colab": {
          "base_uri": "https://localhost:8080/",
          "height": 142
        },
        "id": "Zdai_ZGutYTe",
        "outputId": "aae78f23-0e0f-4d9d-e2ef-47d5e2a9b2e5"
      },
      "source": [
        "humidity_df = pd.DataFrame({\n",
        "    \"city\": [\"delhi\",\"mumbai\",\"banglore\"],\n",
        "    \"humidity\": [68, 65, 75]})\n",
        "humidity_df"
      ],
      "execution_count": null,
      "outputs": [
        {
          "output_type": "execute_result",
          "data": {
            "text/html": [
              "<div>\n",
              "<style scoped>\n",
              "    .dataframe tbody tr th:only-of-type {\n",
              "        vertical-align: middle;\n",
              "    }\n",
              "\n",
              "    .dataframe tbody tr th {\n",
              "        vertical-align: top;\n",
              "    }\n",
              "\n",
              "    .dataframe thead th {\n",
              "        text-align: right;\n",
              "    }\n",
              "</style>\n",
              "<table border=\"1\" class=\"dataframe\">\n",
              "  <thead>\n",
              "    <tr style=\"text-align: right;\">\n",
              "      <th></th>\n",
              "      <th>city</th>\n",
              "      <th>humidity</th>\n",
              "    </tr>\n",
              "  </thead>\n",
              "  <tbody>\n",
              "    <tr>\n",
              "      <th>0</th>\n",
              "      <td>delhi</td>\n",
              "      <td>68</td>\n",
              "    </tr>\n",
              "    <tr>\n",
              "      <th>1</th>\n",
              "      <td>mumbai</td>\n",
              "      <td>65</td>\n",
              "    </tr>\n",
              "    <tr>\n",
              "      <th>2</th>\n",
              "      <td>banglore</td>\n",
              "      <td>75</td>\n",
              "    </tr>\n",
              "  </tbody>\n",
              "</table>\n",
              "</div>"
            ],
            "text/plain": [
              "       city  humidity\n",
              "0     delhi        68\n",
              "1    mumbai        65\n",
              "2  banglore        75"
            ]
          },
          "metadata": {
            "tags": []
          },
          "execution_count": 81
        }
      ]
    },
    {
      "cell_type": "code",
      "metadata": {
        "colab": {
          "base_uri": "https://localhost:8080/",
          "height": 143
        },
        "id": "Zv53AsQgta_Z",
        "outputId": "349f2eab-656f-46f8-8f39-e9b754809a68"
      },
      "source": [
        "#merge two dataframes with out explicitly mention index\n",
        "df = pd.merge(temperature_df, humidity_df, on='city')\n",
        "df"
      ],
      "execution_count": null,
      "outputs": [
        {
          "output_type": "execute_result",
          "data": {
            "text/html": [
              "<div>\n",
              "<style scoped>\n",
              "    .dataframe tbody tr th:only-of-type {\n",
              "        vertical-align: middle;\n",
              "    }\n",
              "\n",
              "    .dataframe tbody tr th {\n",
              "        vertical-align: top;\n",
              "    }\n",
              "\n",
              "    .dataframe thead th {\n",
              "        text-align: right;\n",
              "    }\n",
              "</style>\n",
              "<table border=\"1\" class=\"dataframe\">\n",
              "  <thead>\n",
              "    <tr style=\"text-align: right;\">\n",
              "      <th></th>\n",
              "      <th>city</th>\n",
              "      <th>temperature</th>\n",
              "      <th>humidity</th>\n",
              "    </tr>\n",
              "  </thead>\n",
              "  <tbody>\n",
              "    <tr>\n",
              "      <th>0</th>\n",
              "      <td>mumbai</td>\n",
              "      <td>32</td>\n",
              "      <td>65</td>\n",
              "    </tr>\n",
              "    <tr>\n",
              "      <th>1</th>\n",
              "      <td>delhi</td>\n",
              "      <td>45</td>\n",
              "      <td>68</td>\n",
              "    </tr>\n",
              "    <tr>\n",
              "      <th>2</th>\n",
              "      <td>banglore</td>\n",
              "      <td>30</td>\n",
              "      <td>75</td>\n",
              "    </tr>\n",
              "  </tbody>\n",
              "</table>\n",
              "</div>"
            ],
            "text/plain": [
              "       city  temperature  humidity\n",
              "0    mumbai           32        65\n",
              "1     delhi           45        68\n",
              "2  banglore           30        75"
            ]
          },
          "metadata": {
            "tags": []
          },
          "execution_count": 6
        }
      ]
    },
    {
      "cell_type": "code",
      "metadata": {
        "colab": {
          "base_uri": "https://localhost:8080/",
          "height": 175
        },
        "id": "r43mTt4Jtcru",
        "outputId": "92fa20c6-cdec-4416-b0f1-1af62e7d3d26"
      },
      "source": [
        "#OUTER-JOIN\n",
        "df = pd.merge(temperature_df, humidity_df, on='city', how='outer')\n",
        "df"
      ],
      "execution_count": null,
      "outputs": [
        {
          "output_type": "execute_result",
          "data": {
            "text/html": [
              "<div>\n",
              "<style scoped>\n",
              "    .dataframe tbody tr th:only-of-type {\n",
              "        vertical-align: middle;\n",
              "    }\n",
              "\n",
              "    .dataframe tbody tr th {\n",
              "        vertical-align: top;\n",
              "    }\n",
              "\n",
              "    .dataframe thead th {\n",
              "        text-align: right;\n",
              "    }\n",
              "</style>\n",
              "<table border=\"1\" class=\"dataframe\">\n",
              "  <thead>\n",
              "    <tr style=\"text-align: right;\">\n",
              "      <th></th>\n",
              "      <th>city</th>\n",
              "      <th>temperature</th>\n",
              "      <th>humidity</th>\n",
              "    </tr>\n",
              "  </thead>\n",
              "  <tbody>\n",
              "    <tr>\n",
              "      <th>0</th>\n",
              "      <td>mumbai</td>\n",
              "      <td>32</td>\n",
              "      <td>65.0</td>\n",
              "    </tr>\n",
              "    <tr>\n",
              "      <th>1</th>\n",
              "      <td>delhi</td>\n",
              "      <td>45</td>\n",
              "      <td>68.0</td>\n",
              "    </tr>\n",
              "    <tr>\n",
              "      <th>2</th>\n",
              "      <td>banglore</td>\n",
              "      <td>30</td>\n",
              "      <td>75.0</td>\n",
              "    </tr>\n",
              "    <tr>\n",
              "      <th>3</th>\n",
              "      <td>hyderabad</td>\n",
              "      <td>40</td>\n",
              "      <td>NaN</td>\n",
              "    </tr>\n",
              "  </tbody>\n",
              "</table>\n",
              "</div>"
            ],
            "text/plain": [
              "        city  temperature  humidity\n",
              "0     mumbai           32      65.0\n",
              "1      delhi           45      68.0\n",
              "2   banglore           30      75.0\n",
              "3  hyderabad           40       NaN"
            ]
          },
          "metadata": {
            "tags": []
          },
          "execution_count": 11
        }
      ]
    },
    {
      "cell_type": "markdown",
      "metadata": {
        "id": "OKygZilm6lWW"
      },
      "source": [
        "<a id='join'></a>\n",
        "#Join"
      ]
    },
    {
      "cell_type": "code",
      "metadata": {
        "colab": {
          "base_uri": "https://localhost:8080/",
          "height": 173
        },
        "id": "d-veTFee6n7y",
        "outputId": "aeb958ee-8939-455d-cfd1-fc51f00d6078"
      },
      "source": [
        "temperature_df = pd.DataFrame({\n",
        "    \"city\": [\"mumbai\",\"delhi\",\"banglore\", 'hyderabad'],\n",
        "    \"temperature\": [32,45,30,40]})\n",
        "temperature_df"
      ],
      "execution_count": null,
      "outputs": [
        {
          "output_type": "execute_result",
          "data": {
            "text/html": [
              "<div>\n",
              "<style scoped>\n",
              "    .dataframe tbody tr th:only-of-type {\n",
              "        vertical-align: middle;\n",
              "    }\n",
              "\n",
              "    .dataframe tbody tr th {\n",
              "        vertical-align: top;\n",
              "    }\n",
              "\n",
              "    .dataframe thead th {\n",
              "        text-align: right;\n",
              "    }\n",
              "</style>\n",
              "<table border=\"1\" class=\"dataframe\">\n",
              "  <thead>\n",
              "    <tr style=\"text-align: right;\">\n",
              "      <th></th>\n",
              "      <th>city</th>\n",
              "      <th>temperature</th>\n",
              "    </tr>\n",
              "  </thead>\n",
              "  <tbody>\n",
              "    <tr>\n",
              "      <th>0</th>\n",
              "      <td>mumbai</td>\n",
              "      <td>32</td>\n",
              "    </tr>\n",
              "    <tr>\n",
              "      <th>1</th>\n",
              "      <td>delhi</td>\n",
              "      <td>45</td>\n",
              "    </tr>\n",
              "    <tr>\n",
              "      <th>2</th>\n",
              "      <td>banglore</td>\n",
              "      <td>30</td>\n",
              "    </tr>\n",
              "    <tr>\n",
              "      <th>3</th>\n",
              "      <td>hyderabad</td>\n",
              "      <td>40</td>\n",
              "    </tr>\n",
              "  </tbody>\n",
              "</table>\n",
              "</div>"
            ],
            "text/plain": [
              "        city  temperature\n",
              "0     mumbai           32\n",
              "1      delhi           45\n",
              "2   banglore           30\n",
              "3  hyderabad           40"
            ]
          },
          "metadata": {
            "tags": []
          },
          "execution_count": 82
        }
      ]
    },
    {
      "cell_type": "code",
      "metadata": {
        "colab": {
          "base_uri": "https://localhost:8080/",
          "height": 142
        },
        "id": "l4eNdFA16tRi",
        "outputId": "b384253e-9279-43a3-96de-304a8605282d"
      },
      "source": [
        "humidity_df = pd.DataFrame({\n",
        "    \"city\": [\"delhi\",\"mumbai\",\"banglore\"],\n",
        "    \"humidity\": [68, 65, 75]})\n",
        "humidity_df"
      ],
      "execution_count": null,
      "outputs": [
        {
          "output_type": "execute_result",
          "data": {
            "text/html": [
              "<div>\n",
              "<style scoped>\n",
              "    .dataframe tbody tr th:only-of-type {\n",
              "        vertical-align: middle;\n",
              "    }\n",
              "\n",
              "    .dataframe tbody tr th {\n",
              "        vertical-align: top;\n",
              "    }\n",
              "\n",
              "    .dataframe thead th {\n",
              "        text-align: right;\n",
              "    }\n",
              "</style>\n",
              "<table border=\"1\" class=\"dataframe\">\n",
              "  <thead>\n",
              "    <tr style=\"text-align: right;\">\n",
              "      <th></th>\n",
              "      <th>city</th>\n",
              "      <th>humidity</th>\n",
              "    </tr>\n",
              "  </thead>\n",
              "  <tbody>\n",
              "    <tr>\n",
              "      <th>0</th>\n",
              "      <td>delhi</td>\n",
              "      <td>68</td>\n",
              "    </tr>\n",
              "    <tr>\n",
              "      <th>1</th>\n",
              "      <td>mumbai</td>\n",
              "      <td>65</td>\n",
              "    </tr>\n",
              "    <tr>\n",
              "      <th>2</th>\n",
              "      <td>banglore</td>\n",
              "      <td>75</td>\n",
              "    </tr>\n",
              "  </tbody>\n",
              "</table>\n",
              "</div>"
            ],
            "text/plain": [
              "       city  humidity\n",
              "0     delhi        68\n",
              "1    mumbai        65\n",
              "2  banglore        75"
            ]
          },
          "metadata": {
            "tags": []
          },
          "execution_count": 83
        }
      ]
    },
    {
      "cell_type": "code",
      "metadata": {
        "colab": {
          "base_uri": "https://localhost:8080/",
          "height": 173
        },
        "id": "wXskotRr6opU",
        "outputId": "6d288b44-4b17-433c-be3a-154964df52e5"
      },
      "source": [
        "temperature_df.join(humidity_df,lsuffix='_temp', rsuffix='_hum')#outer join 2 dataset with syffix to identify the keys"
      ],
      "execution_count": null,
      "outputs": [
        {
          "output_type": "execute_result",
          "data": {
            "text/html": [
              "<div>\n",
              "<style scoped>\n",
              "    .dataframe tbody tr th:only-of-type {\n",
              "        vertical-align: middle;\n",
              "    }\n",
              "\n",
              "    .dataframe tbody tr th {\n",
              "        vertical-align: top;\n",
              "    }\n",
              "\n",
              "    .dataframe thead th {\n",
              "        text-align: right;\n",
              "    }\n",
              "</style>\n",
              "<table border=\"1\" class=\"dataframe\">\n",
              "  <thead>\n",
              "    <tr style=\"text-align: right;\">\n",
              "      <th></th>\n",
              "      <th>city_temp</th>\n",
              "      <th>temperature</th>\n",
              "      <th>city_hum</th>\n",
              "      <th>humidity</th>\n",
              "    </tr>\n",
              "  </thead>\n",
              "  <tbody>\n",
              "    <tr>\n",
              "      <th>0</th>\n",
              "      <td>mumbai</td>\n",
              "      <td>32</td>\n",
              "      <td>delhi</td>\n",
              "      <td>68.0</td>\n",
              "    </tr>\n",
              "    <tr>\n",
              "      <th>1</th>\n",
              "      <td>delhi</td>\n",
              "      <td>45</td>\n",
              "      <td>mumbai</td>\n",
              "      <td>65.0</td>\n",
              "    </tr>\n",
              "    <tr>\n",
              "      <th>2</th>\n",
              "      <td>banglore</td>\n",
              "      <td>30</td>\n",
              "      <td>banglore</td>\n",
              "      <td>75.0</td>\n",
              "    </tr>\n",
              "    <tr>\n",
              "      <th>3</th>\n",
              "      <td>hyderabad</td>\n",
              "      <td>40</td>\n",
              "      <td>NaN</td>\n",
              "      <td>NaN</td>\n",
              "    </tr>\n",
              "  </tbody>\n",
              "</table>\n",
              "</div>"
            ],
            "text/plain": [
              "   city_temp  temperature  city_hum  humidity\n",
              "0     mumbai           32     delhi      68.0\n",
              "1      delhi           45    mumbai      65.0\n",
              "2   banglore           30  banglore      75.0\n",
              "3  hyderabad           40       NaN       NaN"
            ]
          },
          "metadata": {
            "tags": []
          },
          "execution_count": 86
        }
      ]
    },
    {
      "cell_type": "markdown",
      "metadata": {
        "id": "00pOVGQ87vFF"
      },
      "source": [
        "Remember the methods using this chaet sheet :https://pandas.pydata.org/Pandas_Cheat_Sheet.pdf"
      ]
    },
    {
      "cell_type": "code",
      "metadata": {
        "id": "WGl2om8w7D_G"
      },
      "source": [
        ""
      ],
      "execution_count": null,
      "outputs": []
    }
  ]
}