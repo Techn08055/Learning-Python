{
  "nbformat": 4,
  "nbformat_minor": 0,
  "metadata": {
    "colab": {
      "name": "Python - Classes.ipynb",
      "provenance": []
    },
    "kernelspec": {
      "name": "python3",
      "display_name": "Python 3"
    },
    "language_info": {
      "name": "python"
    }
  },
  "cells": [
    {
      "cell_type": "markdown",
      "source": [
        "### Classes\n",
        "\n",
        "Python is an `Object Oriented Programming` Language. Almost everything in python is an object including its properties and methods. Classes is a user-defined blueprint from which objects can be created.Creating a new class creates a new type of object, allowing new instances of that type to be made. Each class instance can have attributes attached to it for maintaining its state.\n",
        "\n"
      ],
      "metadata": {
        "id": "_fMOlVQrjOeU"
      }
    },
    {
      "cell_type": "code",
      "execution_count": null,
      "metadata": {
        "id": "Bc451m9hjEIk"
      },
      "outputs": [],
      "source": [
        "class Example:\n",
        "  name = 'Techn0'"
      ]
    },
    {
      "cell_type": "markdown",
      "source": [
        "#### Object \n",
        "\n",
        "An object is an instance of a class. You can create different instance/object for a class with different properties.\n",
        "\n"
      ],
      "metadata": {
        "id": "Et_t73AMl16o"
      }
    },
    {
      "cell_type": "code",
      "source": [
        "ex = Example\n",
        "print(ex.name)"
      ],
      "metadata": {
        "colab": {
          "base_uri": "https://localhost:8080/"
        },
        "id": "e2fSMYrglwoW",
        "outputId": "5b552e32-4690-4cff-caa6-5de265e568ba"
      },
      "execution_count": null,
      "outputs": [
        {
          "output_type": "stream",
          "name": "stdout",
          "text": [
            "Techn0\n"
          ]
        }
      ]
    },
    {
      "cell_type": "markdown",
      "source": [
        "####  `__init__()`  Method\n",
        "\n",
        "`__init__()` is similar to a constructor and is used to initialize the class's state.It runs as soon as an object of a class is instantiated. The method is useful to do any initialization you want to do with your object."
      ],
      "metadata": {
        "id": "as-Oa3EbmoQe"
      }
    },
    {
      "cell_type": "code",
      "source": [
        "class Example:\n",
        "  def __init__(self, name, age):\n",
        "    self.name = name\n",
        "    self.age = age\n",
        "\n",
        "ex = Example(\"Techn0\", 24)\n",
        "\n",
        "print(ex.name)\n",
        "print(ex.age)"
      ],
      "metadata": {
        "colab": {
          "base_uri": "https://localhost:8080/"
        },
        "id": "wyA1NL4imnyI",
        "outputId": "8a0bc95a-4a98-4ba9-e849-646dd3830bf8"
      },
      "execution_count": null,
      "outputs": [
        {
          "output_type": "stream",
          "name": "stdout",
          "text": [
            "Techn0\n",
            "24\n"
          ]
        }
      ]
    },
    {
      "cell_type": "markdown",
      "source": [
        "#### Methods in a Classe\n",
        "\n",
        "You can also define methods inside a class. Different instance can access the methods with different input parameters."
      ],
      "metadata": {
        "id": "dhcgC4MsoiE3"
      }
    },
    {
      "cell_type": "code",
      "source": [
        "class Example:\n",
        "  def __init__(self, name, age):\n",
        "    self.name = name\n",
        "    self.age = age\n",
        "\n",
        "  def func (self, aim):\n",
        "    print(\"hello I am \" + self.name + \" I am a \" + aim )\n",
        "\n",
        "ex = Example(\"Techn0\", 24)\n",
        "\n",
        "print(ex.name)\n",
        "print(ex.age)\n",
        "ex.func(\"Engineer\")"
      ],
      "metadata": {
        "colab": {
          "base_uri": "https://localhost:8080/"
        },
        "id": "9CH7AIPpmmbx",
        "outputId": "924a7656-0f2c-45d2-f9fe-973c1dffd4ba"
      },
      "execution_count": null,
      "outputs": [
        {
          "output_type": "stream",
          "name": "stdout",
          "text": [
            "Techn0\n",
            "24\n",
            "hello I am Techn0 I am a Engineer\n"
          ]
        }
      ]
    },
    {
      "cell_type": "markdown",
      "source": [
        "#### Self Parameter\n",
        "\n",
        "`self` parameter is similar to a pointer in C++, it refers to particular instance of the class. It is passed along with methods (first parameter) and is used to access variables that belong to the class. "
      ],
      "metadata": {
        "id": "Bpo4wNnrDrGZ"
      }
    },
    {
      "cell_type": "code",
      "source": [
        "class Example:\n",
        "  def __init__(self, name, age):\n",
        "    self.name = name\n",
        "    self.age = age\n",
        "\n",
        "  def myfunc(abc):\n",
        "    print(\"Hello my name is \" + abc.name)\n",
        "\n",
        "p1 = Example(\"John\", 36)\n",
        "p1.myfunc()"
      ],
      "metadata": {
        "id": "h8l_2BxqqACO",
        "colab": {
          "base_uri": "https://localhost:8080/"
        },
        "outputId": "82c377d6-67db-4938-b52f-5d915395c36e"
      },
      "execution_count": null,
      "outputs": [
        {
          "output_type": "stream",
          "name": "stdout",
          "text": [
            "Hello my name is John\n"
          ]
        }
      ]
    },
    {
      "cell_type": "code",
      "source": [
        "p2 = Example(\"Techno\", 34)\n",
        "print(p2.age)"
      ],
      "metadata": {
        "colab": {
          "base_uri": "https://localhost:8080/"
        },
        "id": "N3w9emeDE3rl",
        "outputId": "7a76018b-634a-4581-bd6a-e8f0722204aa"
      },
      "execution_count": null,
      "outputs": [
        {
          "output_type": "stream",
          "name": "stdout",
          "text": [
            "34\n"
          ]
        }
      ]
    },
    {
      "cell_type": "markdown",
      "source": [
        "#### Modify the Object Properties"
      ],
      "metadata": {
        "id": "E4OmfaZtEp-9"
      }
    },
    {
      "cell_type": "code",
      "source": [
        "p1.age = 23\n",
        "print(p1.age)"
      ],
      "metadata": {
        "colab": {
          "base_uri": "https://localhost:8080/"
        },
        "id": "ILYfcsdTEi6j",
        "outputId": "978f5179-9021-41e1-c1e1-d281476f8fe2"
      },
      "execution_count": null,
      "outputs": [
        {
          "output_type": "stream",
          "name": "stdout",
          "text": [
            "23\n"
          ]
        }
      ]
    },
    {
      "cell_type": "markdown",
      "source": [
        "The change in one instance of object willnot affect other instances"
      ],
      "metadata": {
        "id": "lOmdnoO5FLLv"
      }
    },
    {
      "cell_type": "code",
      "source": [
        "print(p1.age)\n",
        "print(p2.age)"
      ],
      "metadata": {
        "colab": {
          "base_uri": "https://localhost:8080/"
        },
        "id": "D5UT0a9GFBKq",
        "outputId": "fb3a7212-24fd-4b41-d3e7-44ec006c7420"
      },
      "execution_count": null,
      "outputs": [
        {
          "output_type": "stream",
          "name": "stdout",
          "text": [
            "23\n",
            "34\n"
          ]
        }
      ]
    }
  ]
}