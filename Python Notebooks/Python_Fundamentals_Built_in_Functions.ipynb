{
  "nbformat": 4,
  "nbformat_minor": 0,
  "metadata": {
    "colab": {
      "name": "Python_Fundamentals - Built-in Functions.ipynb",
      "provenance": []
    },
    "kernelspec": {
      "name": "python3",
      "display_name": "Python 3"
    },
    "language_info": {
      "name": "python"
    }
  },
  "cells": [
    {
      "cell_type": "markdown",
      "source": [
        "### Built In Functions\n",
        "\n",
        "Built - in functions are those that are predefined to perform task in Python.\n",
        "\n",
        "We are going to discuss few of these funcions here..."
      ],
      "metadata": {
        "id": "Or_gcNXfALrO"
      }
    },
    {
      "cell_type": "markdown",
      "source": [
        "#### abs() function\n",
        "\n",
        "`abs()` returns the absolute value of the function."
      ],
      "metadata": {
        "id": "MIOtF4dYAr_h"
      }
    },
    {
      "cell_type": "code",
      "execution_count": null,
      "metadata": {
        "colab": {
          "base_uri": "https://localhost:8080/"
        },
        "id": "pCRSji6a6PPL",
        "outputId": "3e956d18-ddb7-4597-d916-dad8ee899ff8"
      },
      "outputs": [
        {
          "output_type": "stream",
          "name": "stdout",
          "text": [
            "33\n",
            "20.5\n",
            "5.0\n"
          ]
        }
      ],
      "source": [
        "print(abs(-33))\n",
        "\n",
        "print(abs(20.5))\n",
        "\n",
        "print(abs(3+4j)) # return sqrt(3**2 + 4**2) = 5"
      ]
    },
    {
      "cell_type": "markdown",
      "source": [
        "#### dir() function\n",
        "\n",
        "`dir()` returns all the attributes including properties and methods of the specified object "
      ],
      "metadata": {
        "id": "RGBrKOrsBus2"
      }
    },
    {
      "cell_type": "code",
      "source": [
        "num = 3\n",
        "dir(num) # returns the properties of an integer"
      ],
      "metadata": {
        "colab": {
          "base_uri": "https://localhost:8080/"
        },
        "id": "1zvR44JTA9jc",
        "outputId": "3e6e54c4-62da-4139-ac27-7304127d6a33"
      },
      "execution_count": null,
      "outputs": [
        {
          "output_type": "execute_result",
          "data": {
            "text/plain": [
              "['__abs__',\n",
              " '__add__',\n",
              " '__and__',\n",
              " '__bool__',\n",
              " '__ceil__',\n",
              " '__class__',\n",
              " '__delattr__',\n",
              " '__dir__',\n",
              " '__divmod__',\n",
              " '__doc__',\n",
              " '__eq__',\n",
              " '__float__',\n",
              " '__floor__',\n",
              " '__floordiv__',\n",
              " '__format__',\n",
              " '__ge__',\n",
              " '__getattribute__',\n",
              " '__getnewargs__',\n",
              " '__gt__',\n",
              " '__hash__',\n",
              " '__index__',\n",
              " '__init__',\n",
              " '__init_subclass__',\n",
              " '__int__',\n",
              " '__invert__',\n",
              " '__le__',\n",
              " '__lshift__',\n",
              " '__lt__',\n",
              " '__mod__',\n",
              " '__mul__',\n",
              " '__ne__',\n",
              " '__neg__',\n",
              " '__new__',\n",
              " '__or__',\n",
              " '__pos__',\n",
              " '__pow__',\n",
              " '__radd__',\n",
              " '__rand__',\n",
              " '__rdivmod__',\n",
              " '__reduce__',\n",
              " '__reduce_ex__',\n",
              " '__repr__',\n",
              " '__rfloordiv__',\n",
              " '__rlshift__',\n",
              " '__rmod__',\n",
              " '__rmul__',\n",
              " '__ror__',\n",
              " '__round__',\n",
              " '__rpow__',\n",
              " '__rrshift__',\n",
              " '__rshift__',\n",
              " '__rsub__',\n",
              " '__rtruediv__',\n",
              " '__rxor__',\n",
              " '__setattr__',\n",
              " '__sizeof__',\n",
              " '__str__',\n",
              " '__sub__',\n",
              " '__subclasshook__',\n",
              " '__truediv__',\n",
              " '__trunc__',\n",
              " '__xor__',\n",
              " 'bit_length',\n",
              " 'conjugate',\n",
              " 'denominator',\n",
              " 'from_bytes',\n",
              " 'imag',\n",
              " 'numerator',\n",
              " 'real',\n",
              " 'to_bytes']"
            ]
          },
          "metadata": {},
          "execution_count": 5
        }
      ]
    },
    {
      "cell_type": "markdown",
      "source": [
        "####round() function\n",
        "\n",
        "`round()` returns a floating point number which is rounded version of a number with specified number of decimals\n"
      ],
      "metadata": {
        "id": "8POvvDYUClxp"
      }
    },
    {
      "cell_type": "code",
      "source": [
        "print(round(87.54443423)) # by default secified decimal is 0 \n",
        "\n",
        "print(round(-87.343)) \n",
        "\n",
        "print(round(87.34522, 2)) # returns rounded number with 2 decimals"
      ],
      "metadata": {
        "colab": {
          "base_uri": "https://localhost:8080/"
        },
        "id": "eOSVk8sqCPvK",
        "outputId": "f7e24f64-e8b9-4992-e491-7ba2f9b5e61a"
      },
      "execution_count": null,
      "outputs": [
        {
          "output_type": "stream",
          "name": "stdout",
          "text": [
            "88\n",
            "-87\n",
            "87.35\n"
          ]
        }
      ]
    },
    {
      "cell_type": "markdown",
      "source": [
        "#### divmod() function\n",
        "\n",
        "`divmod()` function returns tuple containing qoutient and remainder in a tuple after dividing the first argument with the second argument"
      ],
      "metadata": {
        "id": "yfKg228FEHVO"
      }
    },
    {
      "cell_type": "code",
      "source": [
        "print(divmod(6,4)) # returns qoutient -> 1 and remainder -> 2"
      ],
      "metadata": {
        "colab": {
          "base_uri": "https://localhost:8080/"
        },
        "id": "L1FXhnn5DmN5",
        "outputId": "a13c84b3-e0f6-4e40-ab62-651b68e4d6e3"
      },
      "execution_count": null,
      "outputs": [
        {
          "output_type": "stream",
          "name": "stdout",
          "text": [
            "(1, 2)\n"
          ]
        }
      ]
    },
    {
      "cell_type": "markdown",
      "source": [
        "####enumerate() function\n",
        "\n",
        "`enumerate()` takes in a collection and returns an enumerate object. We can get the count of elements using enumerate().\n"
      ],
      "metadata": {
        "id": "pNlZ0O9lF3XC"
      }
    },
    {
      "cell_type": "code",
      "source": [
        "tple = ('Techno', 'Mad', 'Lyf')\n",
        "list(enumerate(tple))"
      ],
      "metadata": {
        "colab": {
          "base_uri": "https://localhost:8080/"
        },
        "id": "V-sKbHcMFkxd",
        "outputId": "aa63d9cf-b7da-4f57-ea68-e81727df71c7"
      },
      "execution_count": null,
      "outputs": [
        {
          "output_type": "execute_result",
          "data": {
            "text/plain": [
              "[(0, 'Techno'), (1, 'Mad'), (2, 'Lyf')]"
            ]
          },
          "metadata": {},
          "execution_count": 14
        }
      ]
    },
    {
      "cell_type": "code",
      "source": [
        "list(enumerate(tple, 2)) # changes the starting index to 2 and starts counting from it "
      ],
      "metadata": {
        "colab": {
          "base_uri": "https://localhost:8080/"
        },
        "id": "oRXu9VTpJV7P",
        "outputId": "cd53ce51-86ce-4c21-8299-b548fcbd0bf7"
      },
      "execution_count": null,
      "outputs": [
        {
          "output_type": "execute_result",
          "data": {
            "text/plain": [
              "[(2, 'Techno'), (3, 'Mad'), (4, 'Lyf')]"
            ]
          },
          "metadata": {},
          "execution_count": 15
        }
      ]
    },
    {
      "cell_type": "markdown",
      "source": [
        "#### filter() function\n",
        "\n",
        "`filter()` excludes data in an iterable using conditions created in another function."
      ],
      "metadata": {
        "id": "mncJXfraJ0cG"
      }
    },
    {
      "cell_type": "code",
      "source": [
        "tple = ('Techno', 'Mad', 'Lyf')\n",
        "\n",
        "def myFunc(x):\n",
        "  if x == 'Lyf':\n",
        "    return False\n",
        "  else:\n",
        "    return True\n",
        "\n",
        "filt = filter(myFunc, tple)\n",
        "\n",
        "for x in filt:\n",
        "  print(x)"
      ],
      "metadata": {
        "colab": {
          "base_uri": "https://localhost:8080/"
        },
        "id": "WAjV74-_Jxka",
        "outputId": "5b02864b-fdfb-4078-e635-9f0dd30ac2a2"
      },
      "execution_count": null,
      "outputs": [
        {
          "output_type": "stream",
          "name": "stdout",
          "text": [
            "Techno\n",
            "Mad\n"
          ]
        }
      ]
    },
    {
      "cell_type": "markdown",
      "source": [
        "#### isinstance() funcion\n",
        "\n",
        "`isinstance()` can be used to confirm the datatype of the object. It returns `true` if the object is of specified type else it returns `false`"
      ],
      "metadata": {
        "id": "zN_UiEJKL0XL"
      }
    },
    {
      "cell_type": "code",
      "source": [
        "print(isinstance(tple, tuple))"
      ],
      "metadata": {
        "colab": {
          "base_uri": "https://localhost:8080/"
        },
        "id": "TU2NDMXNLrMW",
        "outputId": "f9068e99-c789-4db6-c942-261e16d183b0"
      },
      "execution_count": null,
      "outputs": [
        {
          "output_type": "stream",
          "name": "stdout",
          "text": [
            "True\n"
          ]
        }
      ]
    },
    {
      "cell_type": "markdown",
      "source": [
        "####map() function\n",
        "\n",
        "`map()` applies a specified function to the each elements in the iterator and returns it."
      ],
      "metadata": {
        "id": "GPnqr-23MhoD"
      }
    },
    {
      "cell_type": "code",
      "source": [
        "tple = ('Techno', 'Mad', 'Lyf')\n",
        "\n",
        "def myFunc(x):\n",
        "    return len(x)\n",
        "\n",
        "mp = map(myFunc,tple)\n",
        "for i in mp:\n",
        "  print(i) # returns len of each element"
      ],
      "metadata": {
        "id": "sF7Vk_bFMgfW",
        "colab": {
          "base_uri": "https://localhost:8080/"
        },
        "outputId": "fffa0e02-c476-49cb-c168-0fbe7d1a6647"
      },
      "execution_count": 1,
      "outputs": [
        {
          "output_type": "stream",
          "name": "stdout",
          "text": [
            "6\n",
            "3\n",
            "3\n"
          ]
        }
      ]
    },
    {
      "cell_type": "markdown",
      "source": [
        "#### reduce() function\n",
        "\n",
        "`reduce()` it applies the function to all of the elements in the iterable and returns the result."
      ],
      "metadata": {
        "id": "AA3OQjFpOHFU"
      }
    },
    {
      "cell_type": "code",
      "source": [
        "from functools import reduce\n",
        "\n",
        "tple = ('Techno', 'Mad', 'Lyf')\n",
        "\n",
        "def myFunc(x,y):\n",
        "    return (x+y)\n",
        "\n",
        "rd = reduce(myFunc,tple)\n",
        "print(rd) # returns the strings after concatenating the elements in the tuple"
      ],
      "metadata": {
        "colab": {
          "base_uri": "https://localhost:8080/"
        },
        "id": "BDwABjYiN1ge",
        "outputId": "0267fb3f-d26d-4563-ebe2-95ce9b98f6c5"
      },
      "execution_count": null,
      "outputs": [
        {
          "output_type": "stream",
          "name": "stdout",
          "text": [
            "TechnoMadLyf\n"
          ]
        }
      ]
    },
    {
      "cell_type": "markdown",
      "source": [
        "### Lambda Functions\n",
        "\n",
        "These are anonymous functions i.e, they have no name they can have many number of arguments and can execute a single expression."
      ],
      "metadata": {
        "id": "iNospQ67RgeG"
      }
    },
    {
      "cell_type": "code",
      "source": [
        "x = lambda a : a * 10\n",
        "print(x(5))"
      ],
      "metadata": {
        "colab": {
          "base_uri": "https://localhost:8080/"
        },
        "id": "PaMREoACQWe9",
        "outputId": "561bed87-a049-4a26-a9d7-353a30bbfdc5"
      },
      "execution_count": null,
      "outputs": [
        {
          "output_type": "stream",
          "name": "stdout",
          "text": [
            "50\n"
          ]
        }
      ]
    },
    {
      "cell_type": "code",
      "source": [
        "nw = reduce(lambda x,y : x+y, tple)\n",
        "print(nw) # reduce the entire function into single line"
      ],
      "metadata": {
        "colab": {
          "base_uri": "https://localhost:8080/"
        },
        "id": "PHB_njvhSiOE",
        "outputId": "a107b667-d9fa-4cd1-9453-83f30bd1f167"
      },
      "execution_count": null,
      "outputs": [
        {
          "output_type": "stream",
          "name": "stdout",
          "text": [
            "TechnoMadLyf\n"
          ]
        }
      ]
    }
  ]
}