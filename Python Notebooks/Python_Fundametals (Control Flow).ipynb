{
  "nbformat": 4,
  "nbformat_minor": 0,
  "metadata": {
    "colab": {
      "name": "Python_Fundametals - II.ipynb",
      "provenance": []
    },
    "kernelspec": {
      "name": "python3",
      "display_name": "Python 3"
    },
    "language_info": {
      "name": "python"
    }
  },
  "cells": [
    {
      "cell_type": "markdown",
      "metadata": {
        "id": "eRuOXH0HgEQV"
      },
      "source": [
        "### Control Flow Statements\n",
        "\n",
        "* The control fow in python is decided / regulated by conditional statements, loops and function calls\n"
      ]
    },
    {
      "cell_type": "markdown",
      "metadata": {
        "id": "5fKVRLOOtePB"
      },
      "source": [
        "#### Conditional Statements\n",
        "\n",
        "* `if` statements :\n",
        "If statements help us to run a certain part of the code only when a particular condition is met."
      ]
    },
    {
      "cell_type": "code",
      "metadata": {
        "colab": {
          "base_uri": "https://localhost:8080/"
        },
        "id": "Zrl1sEASuEH2",
        "outputId": "b859d257-79a8-4639-fb74-7039d4354f32"
      },
      "source": [
        "name = input(\"Enter your name \")\n",
        "# If block is marked by the indentation (whitespace at the beginning of a line) after the if statement\n",
        "if name == 'Techno':  \n",
        "  #This runs only when the condition is met\n",
        "  print('Hey there')\n",
        "# The statements always run (not intended)\n",
        "print('Have a great day')"
      ],
      "execution_count": null,
      "outputs": [
        {
          "output_type": "stream",
          "name": "stdout",
          "text": [
            "Enter your name sara\n",
            "Have a great day\n"
          ]
        }
      ]
    },
    {
      "cell_type": "markdown",
      "metadata": {
        "id": "c6d-KN46um4r"
      },
      "source": [
        "* `if else` statements: If the condition evaluates to true the if block is executed other wise the else block is executed "
      ]
    },
    {
      "cell_type": "code",
      "metadata": {
        "colab": {
          "base_uri": "https://localhost:8080/"
        },
        "id": "tKixwtEMvD0G",
        "outputId": "0d981d11-98ea-4924-a7cf-f8d270819a14"
      },
      "source": [
        "name =input(\"Enter your name\")\n",
        "if name == 'Techno':\n",
        "  # This line is executed if the if condiyion is true\n",
        "  print('Hey there ' + name)\n",
        "  # This line is executed if the if condition is evaluated false\n",
        "else:\n",
        "  print('Have a great day stranger')"
      ],
      "execution_count": null,
      "outputs": [
        {
          "output_type": "stream",
          "name": "stdout",
          "text": [
            "Enter your nameSara\n",
            "Have a great day stranger\n"
          ]
        }
      ]
    },
    {
      "cell_type": "markdown",
      "metadata": {
        "id": "UKcB9Ebtvix9"
      },
      "source": [
        "* `if elif else` statements: Used to give multiple conditions if any of the condition is met then rest of the statements are droped by default"
      ]
    },
    {
      "cell_type": "code",
      "metadata": {
        "colab": {
          "base_uri": "https://localhost:8080/"
        },
        "id": "rWUIM6edv9wV",
        "outputId": "afb37168-f5b7-4427-d7d0-d1cef9884efb"
      },
      "source": [
        "age = input(\"Enter your age \")\n",
        "if int(age) > 100 :\n",
        "  print('You will die soon')\n",
        "elif int(age) > 50:\n",
        "  print('Renew license')\n",
        "elif int(age) > 18 :\n",
        "  print('Go grab a licence')\n",
        "else :\n",
        "  print('You are a kid')"
      ],
      "execution_count": 3,
      "outputs": [
        {
          "output_type": "stream",
          "name": "stdout",
          "text": [
            "Enter your age 65\n",
            "Renew license\n"
          ]
        }
      ]
    },
    {
      "cell_type": "markdown",
      "metadata": {
        "id": "eONP6aTIwlK0"
      },
      "source": [
        "* Nested `if else` : If conditions that are inside another if or  else block used to check multiple conditions"
      ]
    },
    {
      "cell_type": "code",
      "metadata": {
        "colab": {
          "base_uri": "https://localhost:8080/"
        },
        "id": "T6mW2jW1w-iK",
        "outputId": "0ec7e92e-0d9e-4010-eb53-52face2a5260"
      },
      "source": [
        "name = input('Enter your name ')\n",
        "age = input('Enter your age')\n",
        "\n",
        "if name == 'Techno':\n",
        "  if int(age) > 20 and int(age) < 30:\n",
        "    print(\"Welcome back \" + name)\n",
        "  else:\n",
        "    print(\"You sure about the age\")\n",
        "else:\n",
        "  print('Get lost Stranger')"
      ],
      "execution_count": null,
      "outputs": [
        {
          "output_type": "stream",
          "name": "stdout",
          "text": [
            "Enter your name Techno\n",
            "Enter your age50\n",
            "You sure about the age\n"
          ]
        }
      ]
    },
    {
      "cell_type": "markdown",
      "metadata": {
        "id": "3d-yxZe_xgDg"
      },
      "source": [
        "### Loops in Python\n",
        "\n",
        "* Loops are used to repeat a set of instruction until a condition is met\n"
      ]
    },
    {
      "cell_type": "markdown",
      "metadata": {
        "id": "N20wcv3B-9Ih"
      },
      "source": [
        "#### While Loop\n",
        "\n",
        "* While loop repeats the statement until the condition after the while keyword evaluates to false "
      ]
    },
    {
      "cell_type": "code",
      "metadata": {
        "colab": {
          "base_uri": "https://localhost:8080/"
        },
        "id": "wMXZvp_X_kP0",
        "outputId": "86673051-12fd-440c-dd62-89037ae08b76"
      },
      "source": [
        "name = \"Raj\"\n",
        "while name != \"Techno\":\n",
        " name = input (\"enter the name?\")"
      ],
      "execution_count": null,
      "outputs": [
        {
          "name": "stdout",
          "output_type": "stream",
          "text": [
            "enter the name?Rouge\n",
            "enter the name?Saam\n",
            "enter the name?Techno\n"
          ]
        }
      ]
    },
    {
      "cell_type": "code",
      "metadata": {
        "colab": {
          "base_uri": "https://localhost:8080/"
        },
        "id": "cyLHTjmo_8kq",
        "outputId": "52fc4822-b5d9-4b3d-9df2-5fd18e725e86"
      },
      "source": [
        "i = 5\n",
        "while i > 0:\n",
        "  print(i)\n",
        "  i -= 1"
      ],
      "execution_count": null,
      "outputs": [
        {
          "output_type": "stream",
          "name": "stdout",
          "text": [
            "5\n",
            "4\n",
            "3\n",
            "2\n",
            "1\n"
          ]
        }
      ]
    },
    {
      "cell_type": "markdown",
      "metadata": {
        "id": "xS72hDWkBCtX"
      },
      "source": [
        "`while - else` : the else block is run when the while condition is evaluated to be false."
      ]
    },
    {
      "cell_type": "code",
      "metadata": {
        "colab": {
          "base_uri": "https://localhost:8080/"
        },
        "id": "rS8SIwXfA55a",
        "outputId": "b052e4eb-16db-4b31-da9b-d6fe13a85cdb"
      },
      "source": [
        "i = 0\n",
        "while i <= 6:\n",
        "  print(i)\n",
        "  i += 1\n",
        "else:\n",
        "  print(\"The number is greater than 6\")"
      ],
      "execution_count": null,
      "outputs": [
        {
          "output_type": "stream",
          "name": "stdout",
          "text": [
            "0\n",
            "1\n",
            "2\n",
            "3\n",
            "4\n",
            "5\n",
            "6\n",
            "The number is greater than 6\n"
          ]
        }
      ]
    },
    {
      "cell_type": "markdown",
      "metadata": {
        "id": "Ycj539clBioH"
      },
      "source": [
        "#### For Loop\n",
        "\n",
        "* For loop is used for iterating in a sequence (list, tuples, strings)\n"
      ]
    },
    {
      "cell_type": "code",
      "metadata": {
        "colab": {
          "base_uri": "https://localhost:8080/"
        },
        "id": "6Pmr46eKBbUg",
        "outputId": "f1cf9ad1-53e6-4606-d0b2-75049bbcbd9b"
      },
      "source": [
        "fruits = [\"Apple\", \"Jackfruit\", \"Mangoes\"]\n",
        "for fruit in fruits:\n",
        "  print(fruit)"
      ],
      "execution_count": null,
      "outputs": [
        {
          "output_type": "stream",
          "name": "stdout",
          "text": [
            "Apple\n",
            "Jackfruit\n",
            "Mangoes\n"
          ]
        }
      ]
    },
    {
      "cell_type": "code",
      "metadata": {
        "colab": {
          "base_uri": "https://localhost:8080/"
        },
        "id": "3OiZRyL2FWrj",
        "outputId": "9d89932f-6b79-4425-d0c7-6f55db82a456"
      },
      "source": [
        "for i in \"Technomad\":\n",
        "  print(i) #python  takes up strings as iterables and can loop through the letters in it"
      ],
      "execution_count": null,
      "outputs": [
        {
          "output_type": "stream",
          "name": "stdout",
          "text": [
            "T\n",
            "e\n",
            "c\n",
            "h\n",
            "n\n",
            "o\n",
            "m\n",
            "a\n",
            "d\n"
          ]
        }
      ]
    },
    {
      "cell_type": "markdown",
      "metadata": {
        "id": "LV5jeo66F6HT"
      },
      "source": [
        "##### The Range Function\n",
        "\n",
        "*`range()` function is used to loop through a set of code a specified number of times\n",
        "\n",
        "* It doesnot takes up any extra memory space\n",
        "* By default the starting point is 0 and step-size =1"
      ]
    },
    {
      "cell_type": "code",
      "metadata": {
        "colab": {
          "base_uri": "https://localhost:8080/"
        },
        "id": "Btr5PhMEFnqw",
        "outputId": "d674221e-e163-4cdd-f99c-853d8a5e5d10"
      },
      "source": [
        "for i in range(10):\n",
        "  print( i)"
      ],
      "execution_count": null,
      "outputs": [
        {
          "output_type": "stream",
          "name": "stdout",
          "text": [
            "0\n",
            "1\n",
            "2\n",
            "3\n",
            "4\n",
            "5\n",
            "6\n",
            "7\n",
            "8\n",
            "9\n"
          ]
        }
      ]
    },
    {
      "cell_type": "code",
      "metadata": {
        "colab": {
          "base_uri": "https://localhost:8080/"
        },
        "id": "g0BoLfOpGpPm",
        "outputId": "a0a039fb-edfc-4441-a7a2-e43be13de5b5"
      },
      "source": [
        "for i in range(2, 10): \n",
        "  #Here the  starting point is changed to 2\n",
        "  print(i)"
      ],
      "execution_count": null,
      "outputs": [
        {
          "output_type": "stream",
          "name": "stdout",
          "text": [
            "2\n",
            "3\n",
            "4\n",
            "5\n",
            "6\n",
            "7\n",
            "8\n",
            "9\n"
          ]
        }
      ]
    },
    {
      "cell_type": "code",
      "metadata": {
        "colab": {
          "base_uri": "https://localhost:8080/"
        },
        "id": "N10rGDjzG29x",
        "outputId": "c34ce41e-b231-479c-ba4c-1dee9fa73ccd"
      },
      "source": [
        "for i in range(1, 10, 2):\n",
        "  # step size =2 Here, the (i+1)th element = ((i)th element + 2 )\n",
        "  print(i)"
      ],
      "execution_count": null,
      "outputs": [
        {
          "output_type": "stream",
          "name": "stdout",
          "text": [
            "1\n",
            "3\n",
            "5\n",
            "7\n",
            "9\n"
          ]
        }
      ]
    },
    {
      "cell_type": "markdown",
      "metadata": {
        "id": "z8-3fA-QHs23"
      },
      "source": [
        "`for - else` The else block is executed once the for loop is evaluated to false"
      ]
    },
    {
      "cell_type": "code",
      "metadata": {
        "colab": {
          "base_uri": "https://localhost:8080/"
        },
        "id": "gTg6689YHMj3",
        "outputId": "03835b8c-c19d-45a4-8f21-5eca586b8fee"
      },
      "source": [
        "for i in range (0, 10):\n",
        "  print(i)\n",
        "else:\n",
        "  print(\"out of boundary\")"
      ],
      "execution_count": null,
      "outputs": [
        {
          "output_type": "stream",
          "name": "stdout",
          "text": [
            "0\n",
            "1\n",
            "2\n",
            "3\n",
            "4\n",
            "5\n",
            "6\n",
            "7\n",
            "8\n",
            "9\n",
            "out of boundary\n"
          ]
        }
      ]
    },
    {
      "cell_type": "markdown",
      "metadata": {
        "id": "HV20fxgKIMPS"
      },
      "source": [
        "##### The Break Statement\n",
        "\n",
        "* The interpreter comes out of the loop as soon as `break` statement is met.\n",
        "\n",
        "* The flow will continue outside the loop"
      ]
    },
    {
      "cell_type": "code",
      "metadata": {
        "colab": {
          "base_uri": "https://localhost:8080/"
        },
        "id": "j6Jci2_5IGlL",
        "outputId": "145824ef-0ba6-4d4a-e637-5833f9e2689f"
      },
      "source": [
        "fruits = [\"Apple\", \"Jackfruit\", \"Mangoes\"]\n",
        "for fruit in fruits:\n",
        "  if fruit == \"Jackfruit\":\n",
        "    break;\n",
        "  print(fruit)\n",
        "print(\"outside loop\")    "
      ],
      "execution_count": null,
      "outputs": [
        {
          "output_type": "stream",
          "name": "stdout",
          "text": [
            "Apple\n",
            "outside loop\n"
          ]
        }
      ]
    },
    {
      "cell_type": "markdown",
      "metadata": {
        "id": "iD3XVGj8KBmX"
      },
      "source": [
        "##### The Continue Statement\n",
        "\n",
        "* With `continue` statement the current iteration is stoped and the continue with the next iteration\n",
        "* The flow will not go out of the loop"
      ]
    },
    {
      "cell_type": "code",
      "metadata": {
        "colab": {
          "base_uri": "https://localhost:8080/"
        },
        "id": "FDQBFclqI2_Y",
        "outputId": "6cc51b27-d95c-4e6a-994a-7d83abe33f50"
      },
      "source": [
        "fruits = [\"Apple\", \"Jackfruit\", \"Mangoes\"]\n",
        "for fruit in fruits:\n",
        "  if fruit == \"Jackfruit\":\n",
        "    continue;\n",
        "  print(fruit)\n",
        "print(\"outside loop\")    "
      ],
      "execution_count": null,
      "outputs": [
        {
          "output_type": "stream",
          "name": "stdout",
          "text": [
            "Apple\n",
            "Mangoes\n",
            "outside loop\n"
          ]
        }
      ]
    }
  ]
}