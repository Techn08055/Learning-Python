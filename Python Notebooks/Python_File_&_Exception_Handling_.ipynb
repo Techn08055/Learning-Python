{
  "nbformat": 4,
  "nbformat_minor": 0,
  "metadata": {
    "colab": {
      "name": "Python File & Exception Handling .ipynb",
      "provenance": [],
      "collapsed_sections": [],
      "toc_visible": true
    },
    "kernelspec": {
      "name": "python3",
      "display_name": "Python 3"
    },
    "language_info": {
      "name": "python"
    }
  },
  "cells": [
    {
      "cell_type": "markdown",
      "source": [
        "### File Handling\n",
        "\n",
        "Files are named locations in memory to store data for longer duration. The data in file is stored in non-volatile memory rather than in RAM.\n",
        "\n",
        "File handling consists of following steps:\n",
        "\n",
        " * open a file\n",
        " * read / write in a file\n",
        " * close a file"
      ],
      "metadata": {
        "id": "lxAllsxJVb6U"
      }
    },
    {
      "cell_type": "markdown",
      "source": [
        "#### Opening a File\n",
        "\n",
        "Before reading/writing a file you need to open the file using python's in-built  `open()` function. We can also specify the mode of opening which specifies the purpose of opening the file.\n",
        "\n",
        "`f = open(filename, mode)`\n",
        "\n",
        "`r` Open a file for reading. (default)\n",
        "\n",
        "`w` Open a file for writing. Creates a new file if it does not exist or truncates the file if it exists.\n",
        "\n",
        "`a` Open for appending at the end of the file without truncating it. Creates a new file if it does not exist.\n",
        "\n",
        "`t` Open in text mode. (default)\n",
        "\n",
        "`b` Open in binary mode.\n",
        "\n",
        "`+` Open a file for updating (reading and writing)"
      ],
      "metadata": {
        "id": "oFzgylpqWL95"
      }
    },
    {
      "cell_type": "code",
      "execution_count": null,
      "metadata": {
        "id": "MZFa0Kz1VH-P"
      },
      "outputs": [],
      "source": [
        "f = open('techno.txt', 'w') # in writing mode\n",
        "\n",
        "f = open('techno.txt') # in reading mode\n",
        "f = open('techno.txt', 'r') # in  reading mode"
      ]
    },
    {
      "cell_type": "markdown",
      "source": [
        "#### Closing a File\n",
        "\n",
        "You can use `close()` method to close an opened file."
      ],
      "metadata": {
        "id": "_SCsqCE6YY-V"
      }
    },
    {
      "cell_type": "code",
      "source": [
        "f.close()"
      ],
      "metadata": {
        "id": "Zk_9wEINYW3b"
      },
      "execution_count": null,
      "outputs": []
    },
    {
      "cell_type": "markdown",
      "source": [
        "#### Writing into a File\n",
        "\n",
        "Inorder to write into a file we open it in write `w` or append `a` mode."
      ],
      "metadata": {
        "id": "9GM_AUWOZr6Q"
      }
    },
    {
      "cell_type": "code",
      "source": [
        "f = open(\"techno.txt\", \"w\")\n",
        "f.write(\"This is file is an example \\n\")\n",
        "f.write(\"Lets Learn and grow \\n\")\n",
        "f.close()"
      ],
      "metadata": {
        "id": "JsW1849QZn3r"
      },
      "execution_count": null,
      "outputs": []
    },
    {
      "cell_type": "markdown",
      "source": [
        "#### Reading from a File\n",
        "\n",
        "Once an file is opened  in read `r` mode we can you `read()` to extract till EOF if size is not specified"
      ],
      "metadata": {
        "id": "JBhiIeUea7fd"
      }
    },
    {
      "cell_type": "code",
      "source": [
        "file = open(\"techno.txt\", \"r\")\n",
        "print (file.read())  # reads and prints everything on the file"
      ],
      "metadata": {
        "colab": {
          "base_uri": "https://localhost:8080/"
        },
        "id": "-N0TTGbRa330",
        "outputId": "f69e3450-a734-4ede-a20a-565e3d4d4300"
      },
      "execution_count": null,
      "outputs": [
        {
          "output_type": "stream",
          "name": "stdout",
          "text": [
            "This is file is an example \n",
            "Lets Learn and grow \n",
            "\n"
          ]
        }
      ]
    },
    {
      "cell_type": "code",
      "source": [
        "file.seek(0) #go to beginning of file"
      ],
      "metadata": {
        "colab": {
          "base_uri": "https://localhost:8080/"
        },
        "id": "Eku4D1BIblGm",
        "outputId": "1f156e73-d791-448e-a124-34310ee076bb"
      },
      "execution_count": null,
      "outputs": [
        {
          "output_type": "execute_result",
          "data": {
            "text/plain": [
              "0"
            ]
          },
          "metadata": {},
          "execution_count": 10
        }
      ]
    },
    {
      "cell_type": "code",
      "source": [
        "print(file.read(3)) # print 3 characters from current position '0'\n",
        "\n",
        "print(file.read(6)) # print 6 characters from current position '3'"
      ],
      "metadata": {
        "colab": {
          "base_uri": "https://localhost:8080/"
        },
        "id": "oq0g7sQZbrpY",
        "outputId": "c6d8ee9f-bc6f-46e2-f083-2e5a70674a5e"
      },
      "execution_count": null,
      "outputs": [
        {
          "output_type": "stream",
          "name": "stdout",
          "text": [
            "Thi\n",
            "s is f\n"
          ]
        }
      ]
    },
    {
      "cell_type": "markdown",
      "source": [
        "`readline()` can be used to read one line at a time inside the file"
      ],
      "metadata": {
        "id": "VLSPusA-czwy"
      }
    },
    {
      "cell_type": "code",
      "source": [
        "file.seek(0)\n",
        "\n",
        "print(file.readline()) #prints the first line in the file(till first \\n is ecountered)"
      ],
      "metadata": {
        "colab": {
          "base_uri": "https://localhost:8080/"
        },
        "id": "cO45m8cTcKDt",
        "outputId": "23b494fc-1a4c-411a-ac61-66be7aea97ce"
      },
      "execution_count": null,
      "outputs": [
        {
          "output_type": "stream",
          "name": "stdout",
          "text": [
            "This is file is an example \n",
            "\n"
          ]
        }
      ]
    },
    {
      "cell_type": "code",
      "source": [
        "print(file.readline()) #prints the second line"
      ],
      "metadata": {
        "colab": {
          "base_uri": "https://localhost:8080/"
        },
        "id": "pvFyYS_HcThd",
        "outputId": "53c20631-7988-47ba-82cd-954a86760344"
      },
      "execution_count": null,
      "outputs": [
        {
          "output_type": "stream",
          "name": "stdout",
          "text": [
            "Lets Learn and grow \n",
            "\n"
          ]
        }
      ]
    },
    {
      "cell_type": "markdown",
      "source": [
        "`readlines()` can be used to return list of remaining lines in the entire file"
      ],
      "metadata": {
        "id": "G0PhQUWNcxFh"
      }
    },
    {
      "cell_type": "code",
      "source": [
        "file.seek(0)\n",
        "file.readlines()"
      ],
      "metadata": {
        "colab": {
          "base_uri": "https://localhost:8080/"
        },
        "id": "BmmGuTh1ctDD",
        "outputId": "20a178e9-54b4-4510-9d14-115bb23aac28"
      },
      "execution_count": null,
      "outputs": [
        {
          "output_type": "execute_result",
          "data": {
            "text/plain": [
              "['This is file is an example \\n', 'Lets Learn and grow \\n']"
            ]
          },
          "metadata": {},
          "execution_count": 15
        }
      ]
    },
    {
      "cell_type": "markdown",
      "source": [
        "### Exception Handling\n",
        "\n",
        "Errors are problems due to which the program execution can stop whereas\n",
        "exceptions are the situations in which some internal event occurs which changes the normal flow of the program"
      ],
      "metadata": {
        "id": "WPVPjRGwX-JW"
      }
    },
    {
      "cell_type": "markdown",
      "source": [
        "Syntax error occurs when the sytax is wrong in he code. "
      ],
      "metadata": {
        "id": "qmGeDkAuZwyG"
      }
    },
    {
      "cell_type": "code",
      "source": [
        "if name == 'Techn0'"
      ],
      "metadata": {
        "id": "MmvMDzJjnDtC",
        "colab": {
          "base_uri": "https://localhost:8080/",
          "height": 130
        },
        "outputId": "b2c0970e-6d47-4eff-dda7-7f2b66aa2cfd"
      },
      "execution_count": null,
      "outputs": [
        {
          "output_type": "error",
          "ename": "SyntaxError",
          "evalue": "ignored",
          "traceback": [
            "\u001b[0;36m  File \u001b[0;32m\"<ipython-input-1-66f22b8b6e00>\"\u001b[0;36m, line \u001b[0;32m1\u001b[0m\n\u001b[0;31m    if name == 'Techn0'\u001b[0m\n\u001b[0m                       ^\u001b[0m\n\u001b[0;31mSyntaxError\u001b[0m\u001b[0;31m:\u001b[0m invalid syntax\n"
          ]
        }
      ]
    },
    {
      "cell_type": "markdown",
      "source": [
        "Exceptions are raised when the syntax is right, but still resulting in an error"
      ],
      "metadata": {
        "id": "RvRVjWP3ZvVA"
      }
    },
    {
      "cell_type": "code",
      "source": [
        "file = open(\"ex.txt\")"
      ],
      "metadata": {
        "colab": {
          "base_uri": "https://localhost:8080/",
          "height": 165
        },
        "id": "gyGjdmrqZkgn",
        "outputId": "fbc5ac66-8608-4117-d8fa-cba5128cc2a8"
      },
      "execution_count": null,
      "outputs": [
        {
          "output_type": "error",
          "ename": "FileNotFoundError",
          "evalue": "ignored",
          "traceback": [
            "\u001b[0;31m---------------------------------------------------------------------------\u001b[0m",
            "\u001b[0;31mFileNotFoundError\u001b[0m                         Traceback (most recent call last)",
            "\u001b[0;32m<ipython-input-3-e17238913d96>\u001b[0m in \u001b[0;36m<module>\u001b[0;34m()\u001b[0m\n\u001b[0;32m----> 1\u001b[0;31m \u001b[0mfile\u001b[0m \u001b[0;34m=\u001b[0m \u001b[0mopen\u001b[0m\u001b[0;34m(\u001b[0m\u001b[0;34m\"ex.txt\"\u001b[0m\u001b[0;34m)\u001b[0m\u001b[0;34m\u001b[0m\u001b[0;34m\u001b[0m\u001b[0m\n\u001b[0m",
            "\u001b[0;31mFileNotFoundError\u001b[0m: [Errno 2] No such file or directory: 'ex.txt'"
          ]
        }
      ]
    },
    {
      "cell_type": "markdown",
      "source": [
        "#### Try and Except Statement\n",
        "\n",
        "The `try` and `except` statements are used to catch and handle exception respectivly. When the exception is raised in the `try` statement the `except` tries to handle it. If it is not handled the program crashes."
      ],
      "metadata": {
        "id": "R88ORXqLG8so"
      }
    },
    {
      "cell_type": "code",
      "source": [
        "lst = [1, 0, 2]\n",
        "\n",
        "for number in lst:\n",
        "    try:\n",
        "        inv = 1 / int(number)\n",
        "        print(\"The inverse of\", number, \"is\", inv)\n",
        "    except:\n",
        "        print(\"Oops! error occured.\")\n",
        "       "
      ],
      "metadata": {
        "id": "J9KOTYxFaOov",
        "colab": {
          "base_uri": "https://localhost:8080/"
        },
        "outputId": "e811372c-fa87-4f30-a14b-f1c43f4cd79e"
      },
      "execution_count": null,
      "outputs": [
        {
          "output_type": "stream",
          "name": "stdout",
          "text": [
            "The inverse of 1 is 1.0\n",
            "Oops! error occured.\n",
            "The inverse of 2 is 0.5\n"
          ]
        }
      ]
    },
    {
      "cell_type": "markdown",
      "source": [
        "Instead of using general exception which catches all the raised exception we can catch the specific exception. A try clause can have multiple exceptions which enables us to catch more than one specific exceptions."
      ],
      "metadata": {
        "id": "RGT2u_R5I0Vf"
      }
    },
    {
      "cell_type": "code",
      "source": [
        "lst = [1, 0, 2]\n",
        "\n",
        "for number in lst:\n",
        "    try:\n",
        "        inv = 1 / int(number)\n",
        "        print(\"The inverse of\", number, \"is\", inv)\n",
        "    except(ValueError):\n",
        "        print(\"Oops! Value Error occured.\")\n",
        "    except (ZeroDivisionError):\n",
        "        print(\"Oops! Zero Division Error occured.\")\n",
        "       "
      ],
      "metadata": {
        "colab": {
          "base_uri": "https://localhost:8080/"
        },
        "id": "kzdP4N8lIZJj",
        "outputId": "47329a80-15db-4607-e06c-1b386d2837e9"
      },
      "execution_count": null,
      "outputs": [
        {
          "output_type": "stream",
          "name": "stdout",
          "text": [
            "The inverse of 1 is 1.0\n",
            "Oops! Zero Division Error occured.\n",
            "The inverse of 2 is 0.5\n"
          ]
        }
      ]
    },
    {
      "cell_type": "markdown",
      "source": [
        "#### Raising Exceptions:\n",
        "\n",
        "In python the user can forcefully raise exception if required. You can also provide message along with it.\n"
      ],
      "metadata": {
        "id": "zBaxSY9IMCYh"
      }
    },
    {
      "cell_type": "code",
      "source": [
        "raise KeyboardInterrupt (\"Stop running\")"
      ],
      "metadata": {
        "colab": {
          "base_uri": "https://localhost:8080/",
          "height": 165
        },
        "id": "fli8P-fnL4Wz",
        "outputId": "05cf3207-8030-466d-f286-da50fe1d8872"
      },
      "execution_count": null,
      "outputs": [
        {
          "output_type": "error",
          "ename": "KeyboardInterrupt",
          "evalue": "ignored",
          "traceback": [
            "\u001b[0;31m---------------------------------------------------------------------------\u001b[0m",
            "\u001b[0;31mKeyboardInterrupt\u001b[0m                         Traceback (most recent call last)",
            "\u001b[0;32m<ipython-input-5-186a13c047f0>\u001b[0m in \u001b[0;36m<module>\u001b[0;34m()\u001b[0m\n\u001b[0;32m----> 1\u001b[0;31m \u001b[0;32mraise\u001b[0m \u001b[0mKeyboardInterrupt\u001b[0m \u001b[0;34m(\u001b[0m\u001b[0;34m\"Stop running\"\u001b[0m\u001b[0;34m)\u001b[0m\u001b[0;34m\u001b[0m\u001b[0;34m\u001b[0m\u001b[0m\n\u001b[0m",
            "\u001b[0;31mKeyboardInterrupt\u001b[0m: Stop running"
          ]
        }
      ]
    },
    {
      "cell_type": "markdown",
      "source": [
        "#### Finally Block\n",
        "\n",
        "`finally` statement is always executed after try and except blocks. It is normally executed after executing try and except block but also executed if try & except  block crashes due to  some exception"
      ],
      "metadata": {
        "id": "vlECvxjMNOyp"
      }
    },
    {
      "cell_type": "code",
      "source": [
        "lst = [1, 0, 2]\n",
        "\n",
        "for number in lst:\n",
        "    try:\n",
        "        inv = 1 / int(number)\n",
        "        print(\"The inverse of\", number, \"is\", inv)\n",
        "    except(ValueError):\n",
        "        print(\"Oops! Value Error occured.\")\n",
        "    except (ZeroDivisionError):\n",
        "        print(\"Oops! Zero Division Error occured.\")\n",
        "\n",
        "    finally:\n",
        "        print(\"I am always executed\")\n",
        "        print(\"*\"*10)\n",
        "\n",
        "  "
      ],
      "metadata": {
        "colab": {
          "base_uri": "https://localhost:8080/"
        },
        "id": "Pg9GL8YYNCXK",
        "outputId": "a4a91bbd-9630-4640-e4d9-74eb3b38e7a5"
      },
      "execution_count": null,
      "outputs": [
        {
          "output_type": "stream",
          "name": "stdout",
          "text": [
            "The inverse of 1 is 1.0\n",
            "I am always executed\n",
            "**********\n",
            "Oops! Zero Division Error occured.\n",
            "I am always executed\n",
            "**********\n",
            "The inverse of 2 is 0.5\n",
            "I am always executed\n",
            "**********\n"
          ]
        }
      ]
    }
  ]
}