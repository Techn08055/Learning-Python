{
  "nbformat": 4,
  "nbformat_minor": 0,
  "metadata": {
    "colab": {
      "name": "Python_Fundametals - III.ipynb",
      "provenance": []
    },
    "kernelspec": {
      "name": "python3",
      "display_name": "Python 3"
    },
    "language_info": {
      "name": "python"
    }
  },
  "cells": [
    {
      "cell_type": "markdown",
      "metadata": {
        "id": "ODkl68CUbAO1"
      },
      "source": [
        "### Functions\n",
        "\n",
        "* Function is a block of code that is executed once it is called.\n",
        "* It takes in some data known as parameters\n",
        "* It performs some operations on data and can return the result values.\n",
        "* A function is created using keyword `def`"
      ]
    },
    {
      "cell_type": "code",
      "metadata": {
        "colab": {
          "base_uri": "https://localhost:8080/"
        },
        "id": "-s2F6vMLa1Bg",
        "outputId": "84cf6356-d0e6-43b0-cd47-7a0ccc5603c6"
      },
      "source": [
        "def my_name():\n",
        "  print(\"Your name is Techno\")\n",
        "\n",
        "print(\"Calling function Below\")\n",
        "my_name()"
      ],
      "execution_count": null,
      "outputs": [
        {
          "output_type": "stream",
          "name": "stdout",
          "text": [
            "Calling function Below\n",
            "Your name is Techno\n"
          ]
        }
      ]
    },
    {
      "cell_type": "markdown",
      "metadata": {
        "id": "LnRj-cYjhhHH"
      },
      "source": [
        "* Arguments are passed in to a function inside the paranthesis\n",
        "\n"
      ]
    },
    {
      "cell_type": "code",
      "metadata": {
        "colab": {
          "base_uri": "https://localhost:8080/"
        },
        "id": "w2gfltKgeEK2",
        "outputId": "0736a7e1-f95b-4a48-8501-f0943e1a6992"
      },
      "source": [
        "def my_name(fname):\n",
        "  print(\"Your name : {}\".format(fname))\n",
        "\n",
        "my_name(\"Raj\")\n",
        "my_name(\"Techno\")\n",
        "my_name(\"Christy\")"
      ],
      "execution_count": null,
      "outputs": [
        {
          "output_type": "stream",
          "name": "stdout",
          "text": [
            "Your name : Raj\n",
            "Your name : Techno\n",
            "Your name : Christy\n"
          ]
        }
      ]
    },
    {
      "cell_type": "markdown",
      "metadata": {
        "id": "zPDFuv-Ind35"
      },
      "source": [
        "By default, while calling the finction you must ensure there are same number arguments in both function call and function definition"
      ]
    },
    {
      "cell_type": "markdown",
      "metadata": {
        "id": "o7T3TIaCoc_q"
      },
      "source": [
        "#### Arbitrary  Argument\n",
        "\n",
        "If you are unaware of the number of the number of arguments in the function you can use the arbitrary arguments by adding `*` before the parameter name in the function definition.\n",
        "\n",
        "This can take a tuple of parameters\n"
      ]
    },
    {
      "cell_type": "code",
      "metadata": {
        "colab": {
          "base_uri": "https://localhost:8080/"
        },
        "id": "jKAgWik7iXKS",
        "outputId": "797a1d4c-f745-44b0-a354-4a093270dd5f"
      },
      "source": [
        "def fruit_lst (*name):\n",
        "  for i in name:\n",
        "    print(i)\n",
        "\n",
        "fruit_lst(\"apple\", \"banana\", \"mangoes\", \"orange\")"
      ],
      "execution_count": null,
      "outputs": [
        {
          "output_type": "stream",
          "name": "stdout",
          "text": [
            "apple\n",
            "banana\n",
            "mangoes\n",
            "orange\n"
          ]
        }
      ]
    },
    {
      "cell_type": "markdown",
      "metadata": {
        "id": "kRARp-fPEnuw"
      },
      "source": [
        "#### Keyword Arguments\n",
        "\n",
        "Instead of passing the parameters as positional arguments you can also assign the values to keys while calling the function.\n",
        "\n",
        "By giving this value the order of parameters becomes irrelevent."
      ]
    },
    {
      "cell_type": "code",
      "metadata": {
        "id": "z2054qh_r664",
        "colab": {
          "base_uri": "https://localhost:8080/"
        },
        "outputId": "6a59f3ba-b4d9-4534-bba3-9dc22208a040"
      },
      "source": [
        "def my_func(name1, name2, name3):\n",
        "  print(\"Name of the 3rd person is: \" + name3)\n",
        "\n",
        "my_func(name3 = \"Rajappan\", name1 = \"somal\", name2 = \"Durai\")"
      ],
      "execution_count": null,
      "outputs": [
        {
          "output_type": "stream",
          "name": "stdout",
          "text": [
            "Name of the 3rd person is: Rajappan\n"
          ]
        }
      ]
    },
    {
      "cell_type": "markdown",
      "metadata": {
        "id": "3EXA9hFvGEQY"
      },
      "source": [
        "#### Arbitrary Keyword Argumnets\n",
        "\n",
        "Just like before we use arbitray keyword arguments when we are unaware of the quantity of keyword arguments that is being passed into the functions. We use `**kwargs` by adding `**` before the keyword.\n",
        "\n",
        "The input give is taken as a dictionary"
      ]
    },
    {
      "cell_type": "code",
      "metadata": {
        "colab": {
          "base_uri": "https://localhost:8080/"
        },
        "id": "CoPnt92iHRYX",
        "outputId": "2d91a373-1107-4637-c478-c25747bdc14f"
      },
      "source": [
        "def my_func(**name):\n",
        "  print(\"the name of the third person is : \"+ name[\"name3\"])\n",
        "\n",
        "my_func(name3 = \"Rajappan\", name1 = \"somal\", name2 = \"Durai\")"
      ],
      "execution_count": null,
      "outputs": [
        {
          "output_type": "stream",
          "name": "stdout",
          "text": [
            "the name of the third person is : Rajappan\n"
          ]
        }
      ]
    },
    {
      "cell_type": "markdown",
      "metadata": {
        "id": "5YWD5lbqJdHx"
      },
      "source": [
        "You can also set **Default Parameter** to function. This can ensure an valid to the function even if you are in doubt. \n",
        "\n",
        "Once we set the default parameters you can call the function without any parameters since it is already defined with a default value"
      ]
    },
    {
      "cell_type": "code",
      "metadata": {
        "colab": {
          "base_uri": "https://localhost:8080/"
        },
        "id": "rg5q19zlIBKa",
        "outputId": "01732723-9040-498f-dd40-c2e49708d340"
      },
      "source": [
        "def my_lan( lan = \"English\"):\n",
        "  print(\"I am learning: \" + lan)\n",
        "\n",
        "my_lan(\"Spanish\")\n",
        "my_lan()"
      ],
      "execution_count": null,
      "outputs": [
        {
          "output_type": "stream",
          "name": "stdout",
          "text": [
            "I am learning: Spanish\n",
            "I am learning: English\n"
          ]
        }
      ]
    },
    {
      "cell_type": "markdown",
      "source": [
        "#### Return Statements\n",
        "\n",
        "Okay till now we printed the values inside the functions what if we need to use the result in other parts of the program? This can be achieved by returning the value outside the function.This iss achieved by using `return` statements.\n",
        "for example... "
      ],
      "metadata": {
        "id": "uadccZaH0Hgy"
      }
    },
    {
      "cell_type": "code",
      "metadata": {
        "id": "ZC86MJLoKZM_",
        "colab": {
          "base_uri": "https://localhost:8080/"
        },
        "outputId": "60a15fa6-6925-4b55-aaf7-3f72f5c85666"
      },
      "source": [
        "def my_lan( lan = \"English\"):\n",
        "  return(lan)\n",
        "\n",
        "print(\"My fav language is \" + my_lan(\"Spanish\"))\n",
        "print(\"My fav language is \" + my_lan())"
      ],
      "execution_count": null,
      "outputs": [
        {
          "output_type": "stream",
          "name": "stdout",
          "text": [
            "My fav language is Spanish\n",
            "My fav language is English\n"
          ]
        }
      ]
    },
    {
      "cell_type": "markdown",
      "source": [
        "#### Recursion\n",
        "\n",
        "Recursion is the method by which a function call itself again. Until a particular condition is met. Be careful when you use recursion cause it can easily lead to never ending function call."
      ],
      "metadata": {
        "id": "qO5_XbIE1myn"
      }
    },
    {
      "cell_type": "code",
      "source": [
        "# Program for factorial\n",
        "def factorial(num):\n",
        "  if num ==0:\n",
        "    return 1\n",
        "  return  num*factorial(num-1)\n",
        "\n",
        " \n",
        "print(factorial(5))"
      ],
      "metadata": {
        "colab": {
          "base_uri": "https://localhost:8080/"
        },
        "id": "PfoWL9by1CIW",
        "outputId": "80167aa8-d682-4417-e9b0-8301f5bbc94e"
      },
      "execution_count": null,
      "outputs": [
        {
          "output_type": "stream",
          "name": "stdout",
          "text": [
            "120\n"
          ]
        }
      ]
    }
  ]
}